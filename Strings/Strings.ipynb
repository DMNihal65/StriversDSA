{
  "nbformat": 4,
  "nbformat_minor": 0,
  "metadata": {
    "colab": {
      "provenance": []
    },
    "kernelspec": {
      "name": "python3",
      "display_name": "Python 3"
    },
    "language_info": {
      "name": "python"
    }
  },
  "cells": [
    {
      "cell_type": "markdown",
      "source": [
        "# **Remove Outermost Parentheses**\n",
        "\n",
        "A valid parentheses string is either empty \"\", \"(\" + A + \")\", or A + B, where A and B are valid parentheses strings, and + represents string concatenation.\n",
        "\n",
        "For example, \"\", \"()\", \"(())()\", and \"(()(()))\" are all valid parentheses strings.\n",
        "A valid parentheses string s is primitive if it is nonempty, and there does not exist a way to split it into s = A + B, with A and B nonempty valid parentheses strings.\n",
        "\n",
        "Given a valid parentheses string s, consider its primitive decomposition: s = P1 + P2 + ... + Pk, where Pi are primitive valid parentheses strings.\n",
        "\n",
        "Return s after removing the outermost parentheses of every primitive string in the primitive decomposition of s.\n",
        "\n",
        " ```\n",
        "\n",
        "Example 1:\n",
        "\n",
        "Input: s = \"(()())(())\"\n",
        "Output: \"()()()\"\n",
        "Explanation:\n",
        "The input string is \"(()())(())\", with primitive decomposition \"(()())\" + \"(())\".\n",
        "After removing outer parentheses of each part, this is \"()()\" + \"()\" = \"()()()\".\n",
        "Example 2:\n",
        "\n",
        "Input: s = \"(()())(())(()(()))\"\n",
        "Output: \"()()()()(())\"\n",
        "Explanation:\n",
        "The input string is \"(()())(())(()(()))\", with primitive decomposition \"(()())\" + \"(())\" + \"(()(()))\".\n",
        "After removing outer parentheses of each part, this is \"()()\" + \"()\" + \"()(())\" = \"()()()()(())\".\n",
        "Example 3:\n",
        "\n",
        "Input: s = \"()()\"\n",
        "Output: \"\"\n",
        "Explanation:\n",
        "The input string is \"()()\", with primitive decomposition \"()\" + \"()\".\n",
        "After removing outer parentheses of each part, this is \"\" + \"\" = \"\".\n",
        " ```"
      ],
      "metadata": {
        "id": "XmMGRKvgDF5O"
      }
    },
    {
      "cell_type": "code",
      "execution_count": 15,
      "metadata": {
        "colab": {
          "base_uri": "https://localhost:8080/"
        },
        "id": "XZD-rc4fCwvz",
        "outputId": "050f10d0-a1db-4f62-8bc0-1f1b1529a5f4"
      },
      "outputs": [
        {
          "output_type": "stream",
          "name": "stdout",
          "text": [
            "()()()()(())\n"
          ]
        }
      ],
      "source": [
        "def remove(str):\n",
        "  count = 0\n",
        "  start = 0\n",
        "  final = \"\"\n",
        "  for i in range(len(str)):\n",
        "    if str[i] == \"(\" :\n",
        "\n",
        "      count +=1\n",
        "\n",
        "    else:\n",
        "\n",
        "      count -=1\n",
        "\n",
        "    if count == 0:\n",
        "      split = str[start:i+1]\n",
        "      final += split[1:-1]\n",
        "\n",
        "      start = i+1\n",
        "\n",
        "  print(final)\n",
        "\n",
        "\n",
        "\n",
        "str = \"(()())(())(()(()))\"\n",
        "remove(str)\n"
      ]
    },
    {
      "cell_type": "markdown",
      "source": [
        "# **Reverse Words in a String**\n",
        "**Problem Statement**: Given a string s, reverse the words of the string.\n",
        "\n",
        "Examples:\n",
        "```\n",
        "\n",
        "Example 1:\n",
        "Input: s=”this is an amazing program”\n",
        "Output: “program amazing an is this”\n",
        "\n",
        "Example 2:\n",
        "Input: s=”This is decent”\n",
        "Output: “decent is This”\n",
        "\n",
        "```"
      ],
      "metadata": {
        "id": "Sxa8D1CyNG7p"
      }
    },
    {
      "cell_type": "code",
      "source": [
        "def reverseword(s):\n",
        "  final = \"\"\n",
        "  ans = s.split(\" \")\n",
        "\n",
        "  for x in reversed(ans):\n",
        "      if x:\n",
        "          final += x\n",
        "          final += \" \"\n",
        "  return(final.strip())\n",
        "\n",
        "\n",
        "s = \"this is an amazing program\"\n",
        "reverseword(s)"
      ],
      "metadata": {
        "colab": {
          "base_uri": "https://localhost:8080/",
          "height": 36
        },
        "id": "eCkj3RKOGAmI",
        "outputId": "e85a4ab6-6878-4f8b-f455-e8717d8925b5"
      },
      "execution_count": 32,
      "outputs": [
        {
          "output_type": "execute_result",
          "data": {
            "text/plain": [
              "'program amazing an is this'"
            ],
            "application/vnd.google.colaboratory.intrinsic+json": {
              "type": "string"
            }
          },
          "metadata": {},
          "execution_count": 32
        }
      ]
    },
    {
      "cell_type": "markdown",
      "source": [
        "# **Largest Odd Number in String**\n",
        "\n",
        "You are given a string num, representing a large integer. Return the largest-valued odd integer (as a string) that is a non-empty substring of num, or an empty string \"\" if no odd integer exists.\n",
        "\n",
        "A substring is a contiguous sequence of characters within a string.\n",
        "\n",
        " ```\n",
        "\n",
        "Example 1:\n",
        "\n",
        "Input: num = \"52\"\n",
        "Output: \"5\"\n",
        "Explanation: The only non-empty substrings are \"5\", \"2\", and \"52\". \"5\" is the only odd number.\n",
        "Example 2:\n",
        "\n",
        "Input: num = \"4206\"\n",
        "Output: \"\"\n",
        "Explanation: There are no odd numbers in \"4206\".\n",
        "Example 3:\n",
        "\n",
        "Input: num = \"35427\"\n",
        "Output: \"35427\"\n",
        "Explanation: \"35427\" is already an odd number.\n",
        " ```"
      ],
      "metadata": {
        "id": "-_xGMJ31dbFN"
      }
    },
    {
      "cell_type": "code",
      "source": [
        "def largeodd(num):\n",
        "  end = 0\n",
        "\n",
        "  for i in range(len(num)-1,-1,-1):\n",
        "    nums = int(num[i])\n",
        "    if nums%2 != 0 :\n",
        "      end = i\n",
        "      sliced = num[:end+1]\n",
        "\n",
        "      return sliced\n",
        "  return None\n",
        "\n",
        "\n",
        "\n",
        "num = \"52\"\n",
        "largeodd(num)"
      ],
      "metadata": {
        "colab": {
          "base_uri": "https://localhost:8080/",
          "height": 36
        },
        "id": "9zQi6qnbNlSb",
        "outputId": "5087a47f-4656-485e-fd41-ae0aeb4c3287"
      },
      "execution_count": 48,
      "outputs": [
        {
          "output_type": "execute_result",
          "data": {
            "text/plain": [
              "'5'"
            ],
            "application/vnd.google.colaboratory.intrinsic+json": {
              "type": "string"
            }
          },
          "metadata": {},
          "execution_count": 48
        }
      ]
    },
    {
      "cell_type": "markdown",
      "source": [
        "# **Longest Common Prefix**\n",
        "\n",
        "Write a function to find the longest common prefix string amongst an array of strings.\n",
        "\n",
        "If there is no common prefix, return an empty string \"\".\n",
        "\n",
        " ```\n",
        "\n",
        "Example 1:\n",
        "\n",
        "Input: strs = [\"flower\",\"flow\",\"flight\"]\n",
        "Output: \"fl\"\n",
        "Example 2:\n",
        "\n",
        "Input: strs = [\"dog\",\"racecar\",\"car\"]\n",
        "Output: \"\"\n",
        "Explanation: There is no common prefix among the input strings.\n",
        "```\n",
        ""
      ],
      "metadata": {
        "id": "eBdLg8HXiA1J"
      }
    },
    {
      "cell_type": "code",
      "source": [
        "def longpre(str):\n",
        "  longest = \"\"\n",
        "\n",
        "  for x in str:\n",
        "    longest = max(longest,x)\n",
        "    if x!= longest:\n",
        "      # str.pop(longest)\n",
        "      check(longest,str)\n",
        "\n",
        "def check(longest,str):\n",
        "  same = \"\"\n",
        "  for x in str:\n",
        "\n",
        "    for i in range(len(x)):\n",
        "\n",
        "      if x[i]==longest[i]:\n",
        "        longest += x[i]\n",
        "        same += x[i]\n",
        "  print(same)\n",
        "\n",
        "\n",
        "\n",
        "str = [\"flower\",\"flow\",\"flight\"]\n",
        "longpre(str)"
      ],
      "metadata": {
        "colab": {
          "base_uri": "https://localhost:8080/"
        },
        "id": "__bjY9oCe5oZ",
        "outputId": "2857ca4f-c875-4f33-afc6-9c5842566252"
      },
      "execution_count": 63,
      "outputs": [
        {
          "output_type": "stream",
          "name": "stdout",
          "text": [
            "flowerflowfl\n",
            "flowerflowfl\n"
          ]
        }
      ]
    },
    {
      "cell_type": "code",
      "source": [
        "def longpre(v):\n",
        "    ans=\"\"\n",
        "    v=sorted(v)\n",
        "    print(v)\n",
        "    first=v[0]\n",
        "    print(f\"first is {v[0]}\")\n",
        "\n",
        "    last=v[-1]\n",
        "    print(f\"lAST is {v[-1]}\")\n",
        "    for i in range(min(len(first),len(last))):\n",
        "        if(first[i]!=last[i]):\n",
        "            return ans\n",
        "        ans+=first[i]\n",
        "    return ans\n",
        "\n",
        "str = [\"flower\",\"fow\",\"flight\"]\n",
        "longpre(str)"
      ],
      "metadata": {
        "colab": {
          "base_uri": "https://localhost:8080/",
          "height": 88
        },
        "id": "MVeld9Rvi9fA",
        "outputId": "d2fd27d7-5c91-4a25-a707-662992d83464"
      },
      "execution_count": 68,
      "outputs": [
        {
          "output_type": "stream",
          "name": "stdout",
          "text": [
            "['flight', 'flower', 'fow']\n",
            "first is flight\n",
            "lAST is fow\n"
          ]
        },
        {
          "output_type": "execute_result",
          "data": {
            "text/plain": [
              "'f'"
            ],
            "application/vnd.google.colaboratory.intrinsic+json": {
              "type": "string"
            }
          },
          "metadata": {},
          "execution_count": 68
        }
      ]
    },
    {
      "cell_type": "code",
      "source": [],
      "metadata": {
        "id": "9CDtMbTVoHxz"
      },
      "execution_count": null,
      "outputs": []
    }
  ]
}
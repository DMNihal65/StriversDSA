{
  "nbformat": 4,
  "nbformat_minor": 0,
  "metadata": {
    "colab": {
      "provenance": []
    },
    "kernelspec": {
      "name": "python3",
      "display_name": "Python 3"
    },
    "language_info": {
      "name": "python"
    }
  },
  "cells": [
    {
      "cell_type": "markdown",
      "source": [
        "# **Remove Outermost Parentheses**\n",
        "\n",
        "A valid parentheses string is either empty \"\", \"(\" + A + \")\", or A + B, where A and B are valid parentheses strings, and + represents string concatenation.\n",
        "\n",
        "For example, \"\", \"()\", \"(())()\", and \"(()(()))\" are all valid parentheses strings.\n",
        "A valid parentheses string s is primitive if it is nonempty, and there does not exist a way to split it into s = A + B, with A and B nonempty valid parentheses strings.\n",
        "\n",
        "Given a valid parentheses string s, consider its primitive decomposition: s = P1 + P2 + ... + Pk, where Pi are primitive valid parentheses strings.\n",
        "\n",
        "Return s after removing the outermost parentheses of every primitive string in the primitive decomposition of s.\n",
        "\n",
        " ```\n",
        "\n",
        "Example 1:\n",
        "\n",
        "Input: s = \"(()())(())\"\n",
        "Output: \"()()()\"\n",
        "Explanation:\n",
        "The input string is \"(()())(())\", with primitive decomposition \"(()())\" + \"(())\".\n",
        "After removing outer parentheses of each part, this is \"()()\" + \"()\" = \"()()()\".\n",
        "Example 2:\n",
        "\n",
        "Input: s = \"(()())(())(()(()))\"\n",
        "Output: \"()()()()(())\"\n",
        "Explanation:\n",
        "The input string is \"(()())(())(()(()))\", with primitive decomposition \"(()())\" + \"(())\" + \"(()(()))\".\n",
        "After removing outer parentheses of each part, this is \"()()\" + \"()\" + \"()(())\" = \"()()()()(())\".\n",
        "Example 3:\n",
        "\n",
        "Input: s = \"()()\"\n",
        "Output: \"\"\n",
        "Explanation:\n",
        "The input string is \"()()\", with primitive decomposition \"()\" + \"()\".\n",
        "After removing outer parentheses of each part, this is \"\" + \"\" = \"\".\n",
        " ```"
      ],
      "metadata": {
        "id": "XmMGRKvgDF5O"
      }
    },
    {
      "cell_type": "code",
      "execution_count": null,
      "metadata": {
        "colab": {
          "base_uri": "https://localhost:8080/"
        },
        "id": "XZD-rc4fCwvz",
        "outputId": "050f10d0-a1db-4f62-8bc0-1f1b1529a5f4"
      },
      "outputs": [
        {
          "output_type": "stream",
          "name": "stdout",
          "text": [
            "()()()()(())\n"
          ]
        }
      ],
      "source": [
        "def remove(str):\n",
        "  count = 0\n",
        "  start = 0\n",
        "  final = \"\"\n",
        "  for i in range(len(str)):\n",
        "    if str[i] == \"(\" :\n",
        "\n",
        "      count +=1\n",
        "\n",
        "    else:\n",
        "\n",
        "      count -=1\n",
        "\n",
        "    if count == 0:\n",
        "      split = str[start:i+1]\n",
        "      final += split[1:-1]\n",
        "\n",
        "      start = i+1\n",
        "\n",
        "  print(final)\n",
        "\n",
        "\n",
        "\n",
        "str = \"(()())(())(()(()))\"\n",
        "remove(str)\n"
      ]
    },
    {
      "cell_type": "markdown",
      "source": [
        "# **Reverse Words in a String**\n",
        "**Problem Statement**: Given a string s, reverse the words of the string.\n",
        "\n",
        "Examples:\n",
        "```\n",
        "\n",
        "Example 1:\n",
        "Input: s=”this is an amazing program”\n",
        "Output: “program amazing an is this”\n",
        "\n",
        "Example 2:\n",
        "Input: s=”This is decent”\n",
        "Output: “decent is This”\n",
        "\n",
        "```"
      ],
      "metadata": {
        "id": "Sxa8D1CyNG7p"
      }
    },
    {
      "cell_type": "code",
      "source": [
        "def reverseword(s):\n",
        "  final = \"\"\n",
        "  ans = s.split(\" \")\n",
        "\n",
        "  for x in reversed(ans):\n",
        "      if x:\n",
        "          final += x\n",
        "          final += \" \"\n",
        "  return(final.strip())\n",
        "\n",
        "\n",
        "s = \"this is an amazing program\"\n",
        "reverseword(s)"
      ],
      "metadata": {
        "colab": {
          "base_uri": "https://localhost:8080/",
          "height": 36
        },
        "id": "eCkj3RKOGAmI",
        "outputId": "e85a4ab6-6878-4f8b-f455-e8717d8925b5"
      },
      "execution_count": null,
      "outputs": [
        {
          "output_type": "execute_result",
          "data": {
            "text/plain": [
              "'program amazing an is this'"
            ],
            "application/vnd.google.colaboratory.intrinsic+json": {
              "type": "string"
            }
          },
          "metadata": {},
          "execution_count": 32
        }
      ]
    },
    {
      "cell_type": "markdown",
      "source": [
        "# **Largest Odd Number in String**\n",
        "\n",
        "You are given a string num, representing a large integer. Return the largest-valued odd integer (as a string) that is a non-empty substring of num, or an empty string \"\" if no odd integer exists.\n",
        "\n",
        "A substring is a contiguous sequence of characters within a string.\n",
        "\n",
        " ```\n",
        "\n",
        "Example 1:\n",
        "\n",
        "Input: num = \"52\"\n",
        "Output: \"5\"\n",
        "Explanation: The only non-empty substrings are \"5\", \"2\", and \"52\". \"5\" is the only odd number.\n",
        "Example 2:\n",
        "\n",
        "Input: num = \"4206\"\n",
        "Output: \"\"\n",
        "Explanation: There are no odd numbers in \"4206\".\n",
        "Example 3:\n",
        "\n",
        "Input: num = \"35427\"\n",
        "Output: \"35427\"\n",
        "Explanation: \"35427\" is already an odd number.\n",
        " ```"
      ],
      "metadata": {
        "id": "-_xGMJ31dbFN"
      }
    },
    {
      "cell_type": "code",
      "source": [
        "def largeodd(num):\n",
        "  end = 0\n",
        "\n",
        "  for i in range(len(num)-1,-1,-1):\n",
        "    nums = int(num[i])\n",
        "    if nums%2 != 0 :\n",
        "      end = i\n",
        "      sliced = num[:end+1]\n",
        "\n",
        "      return sliced\n",
        "  return None\n",
        "\n",
        "\n",
        "\n",
        "num = \"52\"\n",
        "largeodd(num)"
      ],
      "metadata": {
        "colab": {
          "base_uri": "https://localhost:8080/",
          "height": 36
        },
        "id": "9zQi6qnbNlSb",
        "outputId": "5087a47f-4656-485e-fd41-ae0aeb4c3287"
      },
      "execution_count": null,
      "outputs": [
        {
          "output_type": "execute_result",
          "data": {
            "text/plain": [
              "'5'"
            ],
            "application/vnd.google.colaboratory.intrinsic+json": {
              "type": "string"
            }
          },
          "metadata": {},
          "execution_count": 48
        }
      ]
    },
    {
      "cell_type": "markdown",
      "source": [
        "# **Longest Common Prefix**\n",
        "\n",
        "Write a function to find the longest common prefix string amongst an array of strings.\n",
        "\n",
        "If there is no common prefix, return an empty string \"\".\n",
        "\n",
        " ```\n",
        "\n",
        "Example 1:\n",
        "\n",
        "Input: strs = [\"flower\",\"flow\",\"flight\"]\n",
        "Output: \"fl\"\n",
        "Example 2:\n",
        "\n",
        "Input: strs = [\"dog\",\"racecar\",\"car\"]\n",
        "Output: \"\"\n",
        "Explanation: There is no common prefix among the input strings.\n",
        "```\n"
      ],
      "metadata": {
        "id": "eBdLg8HXiA1J"
      }
    },
    {
      "cell_type": "code",
      "source": [
        "def longpre(str):\n",
        "  longest = \"\"\n",
        "\n",
        "  for x in str:\n",
        "    longest = max(longest,x)\n",
        "    if x!= longest:\n",
        "      # str.pop(longest)\n",
        "      check(longest,str)\n",
        "\n",
        "def check(longest,str):\n",
        "  same = \"\"\n",
        "  for x in str:\n",
        "\n",
        "    for i in range(len(x)):\n",
        "\n",
        "      if x[i]==longest[i]:\n",
        "        longest += x[i]\n",
        "        same += x[i]\n",
        "  print(same)\n",
        "\n",
        "\n",
        "\n",
        "str = [\"flower\",\"flow\",\"flight\"]\n",
        "longpre(str)"
      ],
      "metadata": {
        "colab": {
          "base_uri": "https://localhost:8080/"
        },
        "id": "__bjY9oCe5oZ",
        "outputId": "2857ca4f-c875-4f33-afc6-9c5842566252"
      },
      "execution_count": null,
      "outputs": [
        {
          "output_type": "stream",
          "name": "stdout",
          "text": [
            "flowerflowfl\n",
            "flowerflowfl\n"
          ]
        }
      ]
    },
    {
      "cell_type": "code",
      "source": [
        "def longpre(v):\n",
        "    ans=\"\"\n",
        "    v=sorted(v)\n",
        "    print(v)\n",
        "    first=v[0]\n",
        "    print(f\"first is {v[0]}\")\n",
        "\n",
        "    last=v[-1]\n",
        "    print(f\"lAST is {v[-1]}\")\n",
        "    for i in range(min(len(first),len(last))):\n",
        "        if(first[i]!=last[i]):\n",
        "            return ans\n",
        "        ans+=first[i]\n",
        "    return ans\n",
        "\n",
        "str = [\"flower\",\"fow\",\"flight\"]\n",
        "longpre(str)"
      ],
      "metadata": {
        "colab": {
          "base_uri": "https://localhost:8080/",
          "height": 88
        },
        "id": "MVeld9Rvi9fA",
        "outputId": "d2fd27d7-5c91-4a25-a707-662992d83464"
      },
      "execution_count": null,
      "outputs": [
        {
          "output_type": "stream",
          "name": "stdout",
          "text": [
            "['flight', 'flower', 'fow']\n",
            "first is flight\n",
            "lAST is fow\n"
          ]
        },
        {
          "output_type": "execute_result",
          "data": {
            "text/plain": [
              "'f'"
            ],
            "application/vnd.google.colaboratory.intrinsic+json": {
              "type": "string"
            }
          },
          "metadata": {},
          "execution_count": 68
        }
      ]
    },
    {
      "cell_type": "markdown",
      "source": [
        "# **Isomorphic Strings**\n",
        "\n",
        "Given two strings s and t, determine if they are isomorphic.\n",
        "\n",
        "Two strings s and t are isomorphic if the characters in s can be replaced to get t.\n",
        "\n",
        "All occurrences of a character must be replaced with another character while preserving the order of characters. No two characters may map to the same character, but a character may map to itself.\n",
        "\n",
        "\n",
        "```\n",
        "Example 1:\n",
        "\n",
        "Input: s = \"egg\", t = \"add\"\n",
        "Output: true\n",
        "Example 2:\n",
        "\n",
        "Input: s = \"foo\", t = \"bar\"\n",
        "Output: false\n",
        "Example 3:\n",
        "\n",
        "Input: s = \"paper\", t = \"title\"\n",
        "Output: true\n",
        " ```"
      ],
      "metadata": {
        "id": "y6kuRnkUG1Ab"
      }
    },
    {
      "cell_type": "markdown",
      "source": [
        "**Not Done**"
      ],
      "metadata": {
        "id": "Fdd6Nti-I7vY"
      }
    },
    {
      "cell_type": "code",
      "source": [
        "def checkiso(s,t):\n",
        "  frq = {}\n",
        "  for i in range(max(len(s),len(t))):\n",
        "    print(i)\n",
        "    for x in frq:\n",
        "      print(f\"x value {x} and frq is {frq}\")\n",
        "      if x in frq:\n",
        "        print(f\" inside x value {x} and frq is {frq}\")\n",
        "\n",
        "        continue\n",
        "      else:\n",
        "        print(f\"s[i] {s[i]} and t[i] is {t[i]}\")\n",
        "        frq[s[i]] = t[i]\n",
        "  print(frq)\n",
        "\n",
        "\n",
        "\n",
        "\n",
        "\n",
        "s = \"paper\"\n",
        "t = \"title\"\n",
        "\n",
        "checkiso(s,t)"
      ],
      "metadata": {
        "id": "9CDtMbTVoHxz",
        "colab": {
          "base_uri": "https://localhost:8080/"
        },
        "outputId": "5feed3ed-f38d-4820-cfba-2828790dbaae"
      },
      "execution_count": 2,
      "outputs": [
        {
          "output_type": "stream",
          "name": "stdout",
          "text": [
            "0\n",
            "1\n",
            "2\n",
            "3\n",
            "4\n",
            "{}\n"
          ]
        }
      ]
    },
    {
      "cell_type": "code",
      "source": [
        "\n",
        "def checkiso(s,t):\n",
        "    map1 = []\n",
        "    map2 = []\n",
        "    for idx in s:\n",
        "        map1.append(s.index(idx))\n",
        "        print(f\"the append value is {s.index(idx)} idx is {idx} \")\n",
        "        print(f\"Map1 is {map1}\")\n",
        "    for idx in t:\n",
        "        map2.append(t.index(idx))\n",
        "        print(f\"the append value is {t.index(idx)}\")\n",
        "        print(f\"map2 is {map2}\")\n",
        "    if map1 == map2:\n",
        "        return True\n",
        "    return False\n",
        "\n",
        "s = \"foo\"\n",
        "t = \"bar\"\n",
        "\n",
        "checkiso(s,t)"
      ],
      "metadata": {
        "colab": {
          "base_uri": "https://localhost:8080/"
        },
        "id": "sQW88ErmIHGM",
        "outputId": "4a0dcb06-13ac-4479-83b4-9935da8188c1"
      },
      "execution_count": 6,
      "outputs": [
        {
          "output_type": "stream",
          "name": "stdout",
          "text": [
            "the append value is 0 idx is f \n",
            "Map1 is [0]\n",
            "the append value is 1 idx is o \n",
            "Map1 is [0, 1]\n",
            "the append value is 1 idx is o \n",
            "Map1 is [0, 1, 1]\n",
            "the append value is 0\n",
            "map2 is [0]\n",
            "the append value is 1\n",
            "map2 is [0, 1]\n",
            "the append value is 2\n",
            "map2 is [0, 1, 2]\n"
          ]
        },
        {
          "output_type": "execute_result",
          "data": {
            "text/plain": [
              "False"
            ]
          },
          "metadata": {},
          "execution_count": 6
        }
      ]
    },
    {
      "cell_type": "markdown",
      "source": [
        "# **Rotate String**\n",
        "\n",
        "Given two strings s and goal, return true if and only if s can become goal after some number of shifts on s.\n",
        "\n",
        "A shift on s consists of moving the leftmost character of s to the rightmost position.\n",
        "\n",
        "For example, if s = \"abcde\", then it will be \"bcdea\" after one shift.\n",
        " ```\n",
        "\n",
        "Example 1:\n",
        "\n",
        "Input: s = \"abcde\", goal = \"cdeab\"\n",
        "Output: true\n",
        "Example 2:\n",
        "\n",
        "Input: s = \"abcde\", goal = \"abced\"\n",
        "Output: false\n",
        "```"
      ],
      "metadata": {
        "id": "xwKlbb3x0Sa1"
      }
    },
    {
      "cell_type": "code",
      "source": [
        "def rotatestr(s,goal):\n",
        "\n",
        "  first = s\n",
        "\n",
        "  for i in range(len(s)):\n",
        "      print(f\"first first {first}\")\n",
        "      temp = first[0]\n",
        "      print(f\"this is temp {temp}\")\n",
        "      first = first[1:len(s)]\n",
        "      print(first)\n",
        "      first += temp\n",
        "      print(f\"after temp {first}\")\n",
        "      if first == goal:\n",
        "        print(f\"inside first {first} and g is {goal}\")\n",
        "        return True\n",
        "  return False\n",
        "\n",
        "\n",
        "\n",
        "\n",
        "\n",
        "\n",
        "s = \"abcde\"\n",
        "goal = \"abced\"\n",
        "\n",
        "rotatestr(s,goal)"
      ],
      "metadata": {
        "colab": {
          "base_uri": "https://localhost:8080/"
        },
        "id": "BIJurqFxPMlS",
        "outputId": "a13dd254-8301-4b64-ba41-0812b156febe"
      },
      "execution_count": 17,
      "outputs": [
        {
          "output_type": "stream",
          "name": "stdout",
          "text": [
            "first first abcde\n",
            "this is temp a\n",
            "bcde\n",
            "after temp bcdea\n",
            "first first bcdea\n",
            "this is temp b\n",
            "cdea\n",
            "after temp cdeab\n",
            "first first cdeab\n",
            "this is temp c\n",
            "deab\n",
            "after temp deabc\n",
            "first first deabc\n",
            "this is temp d\n",
            "eabc\n",
            "after temp eabcd\n",
            "first first eabcd\n",
            "this is temp e\n",
            "abcd\n",
            "after temp abcde\n"
          ]
        },
        {
          "output_type": "execute_result",
          "data": {
            "text/plain": [
              "False"
            ]
          },
          "metadata": {},
          "execution_count": 17
        }
      ]
    },
    {
      "cell_type": "markdown",
      "source": [
        "## **Optimal Approch**\n",
        "by appending the s to itself and checking for the goal"
      ],
      "metadata": {
        "id": "33gWg9-AFjSR"
      }
    },
    {
      "cell_type": "code",
      "source": [
        "def rotatestr(s,goal):\n",
        "  if len(s)!=len(goal):\n",
        "    return False\n",
        "  s= s+s\n",
        "  if goal in s:\n",
        "    return True\n",
        "  return False\n",
        "\n",
        "s = \"abcde\"\n",
        "goal = \"abced\"\n",
        "\n",
        "rotatestr(s,goal)"
      ],
      "metadata": {
        "colab": {
          "base_uri": "https://localhost:8080/"
        },
        "id": "-M0zbuCq1Qrd",
        "outputId": "e53a6b27-be13-487b-fc5c-e06a8696bdc5"
      },
      "execution_count": 18,
      "outputs": [
        {
          "output_type": "execute_result",
          "data": {
            "text/plain": [
              "False"
            ]
          },
          "metadata": {},
          "execution_count": 18
        }
      ]
    },
    {
      "cell_type": "markdown",
      "source": [
        "# **Check if two Strings are anagrams of each other**\n",
        "**Problem Statement**: Given two strings, check if two strings are anagrams of each other or not.\n",
        "```\n",
        "Examples:\n",
        "\n",
        "Example 1:\n",
        "Input: CAT, ACT\n",
        "Output: true\n",
        "Explanation: Since the count of every letter of both strings are equal.\n",
        "\n",
        "Example 2:\n",
        "Input: RULES, LESRT\n",
        "Output: false\n",
        "Explanation: Since the count of U and T  is not equal in both strings.\n",
        "```"
      ],
      "metadata": {
        "id": "cvAd64W7GWD2"
      }
    },
    {
      "cell_type": "code",
      "source": [
        "def checkana(s,t):\n",
        "  maxi = len(s)\n",
        "  maxi2 = len(t)\n",
        "\n",
        "  for i in range(maxi):\n",
        "    for j in range(maxi2):\n",
        "      if s[i] == t[j]:\n",
        "        t = t[:j] + t[j + 1:]\n",
        "        break\n",
        "  if len(t)>0:\n",
        "    return False\n",
        "  return True\n",
        "\n",
        "s = \"andgram\"\n",
        "t = \"nagaram\"\n",
        "\n",
        "checkana(s,t)"
      ],
      "metadata": {
        "colab": {
          "base_uri": "https://localhost:8080/",
          "height": 331
        },
        "id": "b6Xk_YzaF_55",
        "outputId": "7d904c67-c032-4561-890f-ecf4adfcfba7"
      },
      "execution_count": 31,
      "outputs": [
        {
          "output_type": "error",
          "ename": "IndexError",
          "evalue": "string index out of range",
          "traceback": [
            "\u001b[0;31m---------------------------------------------------------------------------\u001b[0m",
            "\u001b[0;31mIndexError\u001b[0m                                Traceback (most recent call last)",
            "\u001b[0;32m<ipython-input-31-3e8c66f17c5c>\u001b[0m in \u001b[0;36m<cell line: 17>\u001b[0;34m()\u001b[0m\n\u001b[1;32m     15\u001b[0m \u001b[0mt\u001b[0m \u001b[0;34m=\u001b[0m \u001b[0;34m\"nagaram\"\u001b[0m\u001b[0;34m\u001b[0m\u001b[0;34m\u001b[0m\u001b[0m\n\u001b[1;32m     16\u001b[0m \u001b[0;34m\u001b[0m\u001b[0m\n\u001b[0;32m---> 17\u001b[0;31m \u001b[0mcheckana\u001b[0m\u001b[0;34m(\u001b[0m\u001b[0ms\u001b[0m\u001b[0;34m,\u001b[0m\u001b[0mt\u001b[0m\u001b[0;34m)\u001b[0m\u001b[0;34m\u001b[0m\u001b[0;34m\u001b[0m\u001b[0m\n\u001b[0m",
            "\u001b[0;32m<ipython-input-31-3e8c66f17c5c>\u001b[0m in \u001b[0;36mcheckana\u001b[0;34m(s, t)\u001b[0m\n\u001b[1;32m      5\u001b[0m   \u001b[0;32mfor\u001b[0m \u001b[0mi\u001b[0m \u001b[0;32min\u001b[0m \u001b[0mrange\u001b[0m\u001b[0;34m(\u001b[0m\u001b[0mmaxi\u001b[0m\u001b[0;34m)\u001b[0m\u001b[0;34m:\u001b[0m\u001b[0;34m\u001b[0m\u001b[0;34m\u001b[0m\u001b[0m\n\u001b[1;32m      6\u001b[0m     \u001b[0;32mfor\u001b[0m \u001b[0mj\u001b[0m \u001b[0;32min\u001b[0m \u001b[0mrange\u001b[0m\u001b[0;34m(\u001b[0m\u001b[0mmaxi2\u001b[0m\u001b[0;34m)\u001b[0m\u001b[0;34m:\u001b[0m\u001b[0;34m\u001b[0m\u001b[0;34m\u001b[0m\u001b[0m\n\u001b[0;32m----> 7\u001b[0;31m       \u001b[0;32mif\u001b[0m \u001b[0ms\u001b[0m\u001b[0;34m[\u001b[0m\u001b[0mi\u001b[0m\u001b[0;34m]\u001b[0m \u001b[0;34m==\u001b[0m \u001b[0mt\u001b[0m\u001b[0;34m[\u001b[0m\u001b[0mj\u001b[0m\u001b[0;34m]\u001b[0m\u001b[0;34m:\u001b[0m\u001b[0;34m\u001b[0m\u001b[0;34m\u001b[0m\u001b[0m\n\u001b[0m\u001b[1;32m      8\u001b[0m         \u001b[0mt\u001b[0m \u001b[0;34m=\u001b[0m \u001b[0mt\u001b[0m\u001b[0;34m[\u001b[0m\u001b[0;34m:\u001b[0m\u001b[0mj\u001b[0m\u001b[0;34m]\u001b[0m \u001b[0;34m+\u001b[0m \u001b[0mt\u001b[0m\u001b[0;34m[\u001b[0m\u001b[0mj\u001b[0m \u001b[0;34m+\u001b[0m \u001b[0;36m1\u001b[0m\u001b[0;34m:\u001b[0m\u001b[0;34m]\u001b[0m\u001b[0;34m\u001b[0m\u001b[0;34m\u001b[0m\u001b[0m\n\u001b[1;32m      9\u001b[0m         \u001b[0;32mbreak\u001b[0m\u001b[0;34m\u001b[0m\u001b[0;34m\u001b[0m\u001b[0m\n",
            "\u001b[0;31mIndexError\u001b[0m: string index out of range"
          ]
        }
      ]
    },
    {
      "cell_type": "code",
      "source": [
        "def checkana(s, t):\n",
        "    s = sorted(s)\n",
        "    t = sorted(t)\n",
        "    if s==t:\n",
        "      return True\n",
        "    return False\n",
        "\n",
        "s = \"anagram\"\n",
        "t = \"nagaram\"\n",
        "\n",
        "result = checkana(s, t)\n",
        "print(result)\n"
      ],
      "metadata": {
        "colab": {
          "base_uri": "https://localhost:8080/"
        },
        "id": "VgEgOugLIIQs",
        "outputId": "56b91024-5385-49af-d9d7-b13c4bb064b4"
      },
      "execution_count": 48,
      "outputs": [
        {
          "output_type": "stream",
          "name": "stdout",
          "text": [
            "True\n"
          ]
        }
      ]
    },
    {
      "cell_type": "markdown",
      "source": [
        "### **USING HASH TABLE**"
      ],
      "metadata": {
        "id": "elsjAfH7Me5f"
      }
    },
    {
      "cell_type": "code",
      "source": [
        "def checkana(s, t):\n",
        "    count = {}\n",
        "    for x in s:\n",
        "      if x in count:\n",
        "        count[x]+=1\n",
        "      else:\n",
        "        count[x]=1\n",
        "\n",
        "    for x in t:\n",
        "      if x in count:\n",
        "        count[x]-=1\n",
        "\n",
        "    for x in count.values():\n",
        "      if x !=0:\n",
        "        return False\n",
        "    return True\n",
        "\n",
        "\n",
        "\n",
        "s = \"anagram\"\n",
        "t = \"nagaram\"\n",
        "\n",
        "result = checkana(s, t)\n",
        "print(result)\n"
      ],
      "metadata": {
        "colab": {
          "base_uri": "https://localhost:8080/"
        },
        "id": "RxITusx8KdS5",
        "outputId": "43d231e9-398a-41f5-d85c-a45d7283aff4"
      },
      "execution_count": 55,
      "outputs": [
        {
          "output_type": "stream",
          "name": "stdout",
          "text": [
            "True\n"
          ]
        }
      ]
    },
    {
      "cell_type": "markdown",
      "source": [
        "# **Sort Characters By Frequency**\n",
        "\n",
        "Given a string s, sort it in decreasing order based on the frequency of the characters. The frequency of a character is the number of times it appears in the string.\n",
        "\n",
        "Return the sorted string. If there are multiple answers, return any of them.\n",
        "\n",
        " ```\n",
        "\n",
        "Example 1:\n",
        "\n",
        "Input: s = \"tree\"\n",
        "Output: \"eert\"\n",
        "Explanation: 'e' appears twice while 'r' and 't' both appear once.\n",
        "So 'e' must appear before both 'r' and 't'. Therefore \"eetr\" is also a valid answer.\n",
        "Example 2:\n",
        "\n",
        "Input: s = \"cccaaa\"\n",
        "Output: \"aaaccc\"\n",
        "Explanation: Both 'c' and 'a' appear three times, so both \"cccaaa\" and \"aaaccc\" are valid answers.\n",
        "Note that \"cacaca\" is incorrect, as the same characters must be together.\n",
        "Example 3:\n",
        "\n",
        "Input: s = \"Aabb\"\n",
        "Output: \"bbAa\"\n",
        "Explanation: \"bbaA\" is also a valid answer, but \"Aabb\" is incorrect.\n",
        "Note that 'A' and 'a' are treated as two different characters.\n",
        " ```"
      ],
      "metadata": {
        "id": "EusKjSfjotzr"
      }
    },
    {
      "cell_type": "code",
      "source": [
        "def sortchar(s):\n",
        "  count = {}\n",
        "  ans = \"\"\n",
        "  for x in s:\n",
        "    if x in count:\n",
        "      count[x] += 1\n",
        "    else:\n",
        "      count[x]=1\n",
        "  count = sorted(count.items())\n",
        "  print(count)\n",
        "  maxi = 0\n",
        "  for x in count:\n",
        "    if count[x] > maxi:\n",
        "      maxi = x\n",
        "  print(maxi)\n",
        "\n",
        "\n",
        "\n",
        "\n",
        "s = \"tree\"\n",
        "sortchar(s)"
      ],
      "metadata": {
        "colab": {
          "base_uri": "https://localhost:8080/",
          "height": 349
        },
        "id": "eP0fb0yQM_rY",
        "outputId": "3906b3a3-73f3-4e96-ed00-7a298afe1f18"
      },
      "execution_count": 70,
      "outputs": [
        {
          "output_type": "stream",
          "name": "stdout",
          "text": [
            "[('e', 2), ('r', 1), ('t', 1)]\n"
          ]
        },
        {
          "output_type": "error",
          "ename": "TypeError",
          "evalue": "list indices must be integers or slices, not tuple",
          "traceback": [
            "\u001b[0;31m---------------------------------------------------------------------------\u001b[0m",
            "\u001b[0;31mTypeError\u001b[0m                                 Traceback (most recent call last)",
            "\u001b[0;32m<ipython-input-70-78021853532e>\u001b[0m in \u001b[0;36m<cell line: 21>\u001b[0;34m()\u001b[0m\n\u001b[1;32m     19\u001b[0m \u001b[0;34m\u001b[0m\u001b[0m\n\u001b[1;32m     20\u001b[0m \u001b[0ms\u001b[0m \u001b[0;34m=\u001b[0m \u001b[0;34m\"tree\"\u001b[0m\u001b[0;34m\u001b[0m\u001b[0;34m\u001b[0m\u001b[0m\n\u001b[0;32m---> 21\u001b[0;31m \u001b[0msortchar\u001b[0m\u001b[0;34m(\u001b[0m\u001b[0ms\u001b[0m\u001b[0;34m)\u001b[0m\u001b[0;34m\u001b[0m\u001b[0;34m\u001b[0m\u001b[0m\n\u001b[0m",
            "\u001b[0;32m<ipython-input-70-78021853532e>\u001b[0m in \u001b[0;36msortchar\u001b[0;34m(s)\u001b[0m\n\u001b[1;32m     11\u001b[0m   \u001b[0mmaxi\u001b[0m \u001b[0;34m=\u001b[0m \u001b[0;36m0\u001b[0m\u001b[0;34m\u001b[0m\u001b[0;34m\u001b[0m\u001b[0m\n\u001b[1;32m     12\u001b[0m   \u001b[0;32mfor\u001b[0m \u001b[0mx\u001b[0m \u001b[0;32min\u001b[0m \u001b[0mcount\u001b[0m\u001b[0;34m:\u001b[0m\u001b[0;34m\u001b[0m\u001b[0;34m\u001b[0m\u001b[0m\n\u001b[0;32m---> 13\u001b[0;31m     \u001b[0;32mif\u001b[0m \u001b[0mcount\u001b[0m\u001b[0;34m[\u001b[0m\u001b[0mx\u001b[0m\u001b[0;34m]\u001b[0m \u001b[0;34m>\u001b[0m \u001b[0mmaxi\u001b[0m\u001b[0;34m:\u001b[0m\u001b[0;34m\u001b[0m\u001b[0;34m\u001b[0m\u001b[0m\n\u001b[0m\u001b[1;32m     14\u001b[0m       \u001b[0mmaxi\u001b[0m \u001b[0;34m=\u001b[0m \u001b[0mx\u001b[0m\u001b[0;34m\u001b[0m\u001b[0;34m\u001b[0m\u001b[0m\n\u001b[1;32m     15\u001b[0m   \u001b[0mprint\u001b[0m\u001b[0;34m(\u001b[0m\u001b[0mmaxi\u001b[0m\u001b[0;34m)\u001b[0m\u001b[0;34m\u001b[0m\u001b[0;34m\u001b[0m\u001b[0m\n",
            "\u001b[0;31mTypeError\u001b[0m: list indices must be integers or slices, not tuple"
          ]
        }
      ]
    },
    {
      "cell_type": "code",
      "source": [],
      "metadata": {
        "id": "rpBxQSkQpdCk"
      },
      "execution_count": null,
      "outputs": []
    }
  ]
}
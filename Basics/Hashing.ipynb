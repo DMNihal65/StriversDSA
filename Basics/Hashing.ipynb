{
  "nbformat": 4,
  "nbformat_minor": 0,
  "metadata": {
    "colab": {
      "provenance": []
    },
    "kernelspec": {
      "name": "python3",
      "display_name": "Python 3"
    },
    "language_info": {
      "name": "python"
    }
  },
  "cells": [
    {
      "cell_type": "markdown",
      "source": [
        "# **Hashing | Maps | Collisions | Division Rule of Hashing**"
      ],
      "metadata": {
        "id": "13IcCdoIVqBt"
      }
    },
    {
      "cell_type": "markdown",
      "source": [
        "**Definition of Hashing:**\n",
        "In order to optimize this approach, we need to use hashing. If we say the definition of hashing in a naive way, it is nothing but the combination of the steps, pre-storing, and fetching.\n",
        "\n",
        "Now, let’s understand how to solve the given problem using the two steps:\n",
        "Assumption: We are assuming that the maximum element in the given array can be 12.\n",
        "\n",
        "Step 1 – Pre-storing: In this step, we will create an array(named hash array) of size 13(so that we can get the index 12) initialized with 0. In this hash array, we are going to store the frequency of each element(i.e. The number of times each element appears in the array) of the given array. To do so, we will iterate over the given array, and for each element arr[i], we will do hash[arr[i]] += 1.\n",
        "\n",
        "This step is named pre-storing as we are pre-calculating the information about the element of the array before answering the queries.\n",
        "\n",
        "Step 2 – Fetching: In this step, we will select each query i.e. the number and for the query, we will just fetch the value of hash[number] and return it instead of running a ‘for loop’ every time."
      ],
      "metadata": {
        "id": "RRPK8dPT8_qw"
      }
    },
    {
      "cell_type": "code",
      "execution_count": 2,
      "metadata": {
        "colab": {
          "base_uri": "https://localhost:8080/"
        },
        "id": "POMCRxCcM2Dl",
        "outputId": "2b76f877-6b5f-4f91-b916-a6b3c8d9224c"
      },
      "outputs": [
        {
          "output_type": "stream",
          "name": "stdout",
          "text": [
            "Number 1 occurs 3 times.\n",
            "Number 2 occurs 3 times.\n",
            "Number 3 occurs 3 times.\n",
            "Number 4 occurs 2 times.\n",
            "Number 5 occurs 1 times.\n"
          ]
        }
      ],
      "source": [
        "def find_frequency(arr):\n",
        "    # Creating an empty dictionary for hashing\n",
        "    frequency_dict = {}\n",
        "\n",
        "    # Counting the frequency of each integer in the array\n",
        "    for num in arr:\n",
        "        if num in frequency_dict:\n",
        "            frequency_dict[num] += 1\n",
        "        else:\n",
        "            frequency_dict[num] = 1\n",
        "\n",
        "    # Printing the frequency of each integer\n",
        "    for key, value in frequency_dict.items():\n",
        "        print(f\"Number {key} occurs {value} times.\")\n",
        "\n",
        "# Example usage:\n",
        "array = [1, 2, 3, 4, 1, 2, 3, 4, 5, 1, 2, 3]\n",
        "find_frequency(array)\n"
      ]
    },
    {
      "cell_type": "markdown",
      "source": [
        "# **CHAR HASHING**"
      ],
      "metadata": {
        "id": "-hHiUU_h_DR5"
      }
    },
    {
      "cell_type": "code",
      "source": [
        "def find_char_frequency(input_str):\n",
        "    # Creating an empty dictionary for character hashing\n",
        "    char_frequency_dict = {}\n",
        "\n",
        "    # Counting the frequency of each character in the string\n",
        "    for char in input_str:\n",
        "        if char in char_frequency_dict:\n",
        "            char_frequency_dict[char] += 1\n",
        "        else:\n",
        "            char_frequency_dict[char] = 1\n",
        "\n",
        "    # Printing the frequency of each character\n",
        "    for char, frequency in char_frequency_dict.items():\n",
        "        print(f\"Character '{char}' occurs {frequency} times.\")\n",
        "\n",
        "# Example usage:\n",
        "input_string = \"hello world\"\n",
        "find_char_frequency(input_string)\n"
      ],
      "metadata": {
        "colab": {
          "base_uri": "https://localhost:8080/"
        },
        "id": "mc8azHSR9bsQ",
        "outputId": "4f91ba0d-c2c2-43cb-dc3c-6a1dd99f16b8"
      },
      "execution_count": 3,
      "outputs": [
        {
          "output_type": "stream",
          "name": "stdout",
          "text": [
            "Character 'h' occurs 1 times.\n",
            "Character 'e' occurs 1 times.\n",
            "Character 'l' occurs 3 times.\n",
            "Character 'o' occurs 2 times.\n",
            "Character ' ' occurs 1 times.\n",
            "Character 'w' occurs 1 times.\n",
            "Character 'r' occurs 1 times.\n",
            "Character 'd' occurs 1 times.\n"
          ]
        }
      ]
    },
    {
      "cell_type": "markdown",
      "source": [
        "# **Count frequency of each element in the array**\n",
        "Problem statement: Given an array, we have found the number of occurrences of each element in the array.\n",
        "\n",
        "```\n",
        "Example 1:\n",
        "Input: arr[] = {10,5,10,15,10,5};\n",
        "Output: 10  3\n",
        "\t 5  2\n",
        "        15  1\n",
        "Explanation: 10 occurs 3 times in the array\n",
        "\t      5 occurs 2 times in the array\n",
        "              15 occurs 1 time in the array\n",
        "\n",
        "Example2:\n",
        "Input: arr[] = {2,2,3,4,4,2};\n",
        "Output: 2  3\n",
        "\t3  1\n",
        "        4  2\n",
        "Explanation: 2 occurs 3 times in the array\n",
        "\t     3 occurs 1 time in the array\n",
        "             4 occurs 2 time in the array\n",
        "\n",
        "```"
      ],
      "metadata": {
        "id": "2vQUVLkVAIJd"
      }
    },
    {
      "cell_type": "code",
      "source": [
        "\n",
        "\n",
        "def countFreq(arr, n):\n",
        "    visited = [False] * n\n",
        "    for i in range(n):\n",
        "        if (visited[i] == True):\n",
        "            continue\n",
        "        count = 1\n",
        "        for j in range(i + 1, n):\n",
        "            if (arr[i] == arr[j]):\n",
        "                visited[j] = True\n",
        "                count += 1\n",
        "        print(arr[i], count)\n",
        "\n",
        "\n",
        "if __name__ == \"__main__\":\n",
        "    arr = [10,5,10,15,10,5]\n",
        "    n = len(arr)\n",
        "    countFreq(arr, n)\n",
        "\n",
        "\n"
      ],
      "metadata": {
        "colab": {
          "base_uri": "https://localhost:8080/"
        },
        "id": "NbSrSx-Z_IV2",
        "outputId": "3d56dca6-ae12-49de-8c4c-d8ee0b2645cb"
      },
      "execution_count": 7,
      "outputs": [
        {
          "output_type": "stream",
          "name": "stdout",
          "text": [
            "10 3\n",
            "5 2\n",
            "15 1\n"
          ]
        }
      ]
    },
    {
      "cell_type": "code",
      "source": [
        "def countFreq(arr):\n",
        "  le = len(arr)\n",
        "  frqdick={}\n",
        "  for i in range(le):\n",
        "    if arr[i] in frqdick:\n",
        "      frqdick[arr[i]]+=1\n",
        "    else:\n",
        "      frqdick[arr[i]]=0\n",
        "\n",
        "  for elm in frqdick:\n",
        "    print(f\"the elm {elm} has freq {frqdick[elm]}\")\n",
        "\n",
        "\n",
        "arr = [10,5,10,15,10,5]\n",
        "n = len(arr)\n",
        "countFreq(arr)"
      ],
      "metadata": {
        "colab": {
          "base_uri": "https://localhost:8080/"
        },
        "id": "zL_-QiuxCE9A",
        "outputId": "8957625e-9d4e-4011-c313-fdca94230e7d"
      },
      "execution_count": 21,
      "outputs": [
        {
          "output_type": "stream",
          "name": "stdout",
          "text": [
            "the elm 10 has freq 2\n",
            "the elm 5 has freq 1\n",
            "the elm 15 has freq 0\n"
          ]
        }
      ]
    },
    {
      "cell_type": "markdown",
      "source": [
        "# **Find the highest/lowest frequency element**\n",
        "**Problem Statement**: Given an array of size N. Find the highest and lowest frequency element.\n",
        "\n",
        "Pre-requisite: Hashing Theory and  Counting frequencies of array elements\n",
        "\n",
        "Examples:\n",
        "```\n",
        "Example 1:\n",
        "Input: array[] = {10,5,10,15,10,5};\n",
        "Output: 10 15\n",
        "Explanation: The frequency of 10 is 3, i.e. the highest and the frequency of 15 is 1 i.e. the lowest.\n",
        "\n",
        "Example 2:\n",
        "\n",
        "Input: array[] = {2,2,3,4,4,2};\n",
        "Output: 2 3\n",
        "Explanation: The frequency of 2 is 3, i.e. the highest and the frequency of 3 is 1 i.e. the lowest.\n",
        "\n",
        "```"
      ],
      "metadata": {
        "id": "7RmHSAF0G30O"
      }
    },
    {
      "cell_type": "markdown",
      "source": [
        "**HASHMAP**"
      ],
      "metadata": {
        "id": "YDzSGsnnHWFu"
      }
    },
    {
      "cell_type": "code",
      "source": [
        "def countFreq(arr,n):\n",
        "  frq ={}\n",
        "  for i in range(n):\n",
        "    if arr[i] in frq:\n",
        "      frq[arr[i]]+=1\n",
        "    else:\n",
        "      frq[arr[i]]=0\n",
        "  max_freq_element = None\n",
        "  max_freq = -1\n",
        "  for element, freq in frq.items():\n",
        "      if freq > max_freq:\n",
        "          max_freq = freq\n",
        "          max_freq_element = element\n",
        "\n",
        "  # Find the element with the lowest frequency\n",
        "  min_freq_element = None\n",
        "  min_freq = float('inf')\n",
        "  for element, freq in frq.items():\n",
        "      if freq < min_freq:\n",
        "          min_freq = freq\n",
        "          min_freq_element = element\n",
        "  return max_freq_element,min_freq_element\n",
        "\n",
        "\n",
        "\n",
        "arr = [10,5,10,15,10,5]\n",
        "n = len(arr)\n",
        "print(countFreq(arr,n))"
      ],
      "metadata": {
        "colab": {
          "base_uri": "https://localhost:8080/"
        },
        "id": "mNler_xzFs9l",
        "outputId": "2bdf1a7a-f1c6-4abc-889a-ce62dedd94c9"
      },
      "execution_count": 27,
      "outputs": [
        {
          "output_type": "stream",
          "name": "stdout",
          "text": [
            "(10, 15)\n"
          ]
        }
      ]
    },
    {
      "cell_type": "code",
      "source": [],
      "metadata": {
        "id": "4WRExDiYHhF9"
      },
      "execution_count": null,
      "outputs": []
    }
  ]
}
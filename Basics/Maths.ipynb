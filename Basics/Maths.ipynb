{
  "nbformat": 4,
  "nbformat_minor": 0,
  "metadata": {
    "colab": {
      "provenance": []
    },
    "kernelspec": {
      "name": "python3",
      "display_name": "Python 3"
    },
    "language_info": {
      "name": "python"
    }
  },
  "cells": [
    {
      "cell_type": "markdown",
      "source": [
        "#**Basic Maths**"
      ],
      "metadata": {
        "id": "UDeS2IJ_kqcP"
      }
    },
    {
      "cell_type": "markdown",
      "source": [
        "##Count digits in a number\n",
        "Problem Statement: Given an integer N, write a program to count the number of digits in N."
      ],
      "metadata": {
        "id": "XfMN4LWGkvA_"
      }
    },
    {
      "cell_type": "code",
      "source": [
        "def count_num(n):\n",
        "  count=0\n",
        "  x=n\n",
        "  while(x!=0):\n",
        "    x=x//10\n",
        "    count=count+1\n",
        "  return count\n",
        "\n",
        "n = int(input(\"Enter the numbers\"))\n",
        "print(\"the Count of the numbers are, \",count_num(n))"
      ],
      "metadata": {
        "colab": {
          "base_uri": "https://localhost:8080/"
        },
        "id": "xXwglAMVkpv2",
        "outputId": "68d53f23-d69e-4aad-9bb0-0e81826ee5a5"
      },
      "execution_count": null,
      "outputs": [
        {
          "output_type": "stream",
          "name": "stdout",
          "text": [
            "Enter the numbers123456\n",
            "the Count of the numbers are,  6\n"
          ]
        }
      ]
    },
    {
      "cell_type": "markdown",
      "source": [
        "Second approch : Convert the number to string"
      ],
      "metadata": {
        "id": "7gcDx4pZlmvV"
      }
    },
    {
      "cell_type": "code",
      "source": [
        "def count_num(n):\n",
        "  x= str(n)\n",
        "  return len(x)\n",
        "\n",
        "n = int(input(\"Enter the numbers\"))\n",
        "print(\"the Count of the numbers are, \",count_num(n))"
      ],
      "metadata": {
        "colab": {
          "base_uri": "https://localhost:8080/"
        },
        "id": "bXuH8MtRlVzP",
        "outputId": "edd7b88f-c320-42c9-eb21-2625bf2344c6"
      },
      "execution_count": null,
      "outputs": [
        {
          "output_type": "stream",
          "name": "stdout",
          "text": [
            "Enter the numbers23123123\n",
            "the Count of the numbers are,  8\n"
          ]
        }
      ]
    },
    {
      "cell_type": "code",
      "source": [],
      "metadata": {
        "id": "wp7dZoGOl3r8"
      },
      "execution_count": null,
      "outputs": []
    },
    {
      "cell_type": "markdown",
      "source": [
        "# **Reverse a number in C.**\n",
        "\n",
        "Problem Statement: Given a number N reverse the number and print it."
      ],
      "metadata": {
        "id": "qBzospVJnRD6"
      }
    },
    {
      "cell_type": "code",
      "source": [
        "def rev(n):\n",
        "  num = n\n",
        "  reverse = 0\n",
        "  while num!=0:\n",
        "    # this is to take the last digit of the number\n",
        "    digit = num%10\n",
        "    reverse = reverse*10 + digit # increment the Digits place and add the digit\n",
        "    num = num//10 # Remove the last digit which was added to the revers list\n",
        "  return reverse\n",
        "\n",
        "n = 1234\n",
        "print(\"the Reverse of the degit is : \", rev(n))"
      ],
      "metadata": {
        "colab": {
          "base_uri": "https://localhost:8080/"
        },
        "id": "LPVAdeY8nVGA",
        "outputId": "f1d6a787-8239-43e3-a38f-cefa99b9f497"
      },
      "execution_count": null,
      "outputs": [
        {
          "output_type": "stream",
          "name": "stdout",
          "text": [
            "the Reverse of the degit is :  4321\n"
          ]
        }
      ]
    },
    {
      "cell_type": "markdown",
      "source": [
        "# **Check if a number is Palindrome or Not**\n",
        "**Problem Statement**:  Given a number check if it is a palindrome.\n",
        "\n",
        "An integer is considered a palindrome when it reads the same backward as forward.\n",
        "\n",
        "Examples:\n",
        "\n",
        "\n",
        "\n",
        "```\n",
        "Example 1:\n",
        "Input: N = 123\n",
        "Output: Not Palindrome Number\n",
        "Explanation: 123 read backwards is 321.Since these are two different numbers 123 is not a palindrome.\n",
        "\n",
        "Example 2:\n",
        "Input: N =  121\n",
        "Output: Palindrome Number\n",
        "Explanation: 121 read backwards as 121.Since these are two same numbers 121 is a palindrome.\n",
        "```\n",
        "\n"
      ],
      "metadata": {
        "id": "tYvn0s7Co9VZ"
      }
    },
    {
      "cell_type": "code",
      "source": [
        "def checkPal (n):\n",
        "  num=n\n",
        "  pal = 0\n",
        "  while(num!=0):\n",
        "    digit = num%10   #SAME LOGIC AS REVERSE A NUMBER\n",
        "    pal = pal*10 + digit\n",
        "    num = num//10\n",
        "  #Check the n == pal if yes then palandorme\n",
        "  if(n==pal):\n",
        "    return True\n",
        "  else:\n",
        "    return False\n",
        "\n",
        "n = int(input(\"enter the Number to check palandrome\"))\n",
        "if(checkPal(n)):\n",
        "  print(\"Yes this is a Plaandrome\")\n",
        "else:\n",
        "  print(\"Not a palandrme\")"
      ],
      "metadata": {
        "colab": {
          "base_uri": "https://localhost:8080/"
        },
        "id": "eo-40Di4n_f2",
        "outputId": "e742a6ac-28f3-4196-841d-ed4d90e70a6c"
      },
      "execution_count": null,
      "outputs": [
        {
          "output_type": "stream",
          "name": "stdout",
          "text": [
            "enter the Number to check palandrome121\n",
            "Yes this is a Plaandrome\n"
          ]
        }
      ]
    },
    {
      "cell_type": "markdown",
      "source": [
        "# **Find GCD of two numbers**\n",
        "**Problem Statement**: Find the gcd of two numbers.\n",
        "```\n",
        "Examples\n",
        "Example 1:\n",
        "Input: num1 = 4, num2 = 8\n",
        "Output: 4\n",
        "Explanation: Since 4 is the greatest number which divides both num1 and num2.\n",
        "\n",
        "Example 2:\n",
        "Input: num1 = 3, num2 = 6\n",
        "Output: 3\n",
        "Explanation: Since 3 is the greatest number which divides both num1 and num2.\n",
        "```"
      ],
      "metadata": {
        "id": "sphdH2IBqneP"
      }
    },
    {
      "cell_type": "code",
      "source": [
        "def gcd(n1,n2):\n",
        "  max = 0\n",
        "  minnum = min(n1,n2)\n",
        "  print(\"asdbjn\")\n",
        "  for i in range(1,minnum+1) :\n",
        "    if(n1%i==0 and n2%i==0):\n",
        "      max = i\n",
        "  return max\n",
        "\n",
        "\n",
        "\n",
        "\n",
        "n1 = int(input(\"enter the first number\"))\n",
        "n2 = int(input(\"enter the Second number\"))\n",
        "\n",
        "print(f\"The GCD OF the numbers {n1},{n2} is {gcd(n1,n2)}\")\n"
      ],
      "metadata": {
        "colab": {
          "base_uri": "https://localhost:8080/"
        },
        "id": "ZgFteaN0sepE",
        "outputId": "b8f5ff80-accf-4e7f-af7c-a10c973bfa21"
      },
      "execution_count": null,
      "outputs": [
        {
          "output_type": "stream",
          "name": "stdout",
          "text": [
            "enter the first number12\n",
            "enter the Second number9\n",
            "asdbjn\n",
            "The GCD OF the numbers 12,9 is 3\n"
          ]
        }
      ]
    },
    {
      "cell_type": "markdown",
      "source": [
        "# **Optimal Approch : Using Recurrsion**\n",
        "\n",
        "Equildean Formula =  gcd(a,b) = gcd(a-b , b)\n",
        "\n",
        "or else we can reduce the steps by replacnig the a-b by a%b\n",
        "\n",
        "and use recursion untill the base condtion hits i.e b==0"
      ],
      "metadata": {
        "id": "bSYXNHUhvYEa"
      }
    },
    {
      "cell_type": "code",
      "source": [
        "def gcd(n1,n2):\n",
        "  if n2==0:\n",
        "    return n1\n",
        "  return gcd(n2,n1%n2)\n",
        "\n",
        "n1=12\n",
        "n2=9\n",
        "print(f\"the gcd of the {n1},{n2} is {gcd(n1,n2)}\")"
      ],
      "metadata": {
        "colab": {
          "base_uri": "https://localhost:8080/"
        },
        "id": "j2ahxnInqGdh",
        "outputId": "3f034055-da39-409e-e38d-3234649c1275"
      },
      "execution_count": null,
      "outputs": [
        {
          "output_type": "stream",
          "name": "stdout",
          "text": [
            "the gcd of the 12,9 is 3\n"
          ]
        }
      ]
    },
    {
      "cell_type": "markdown",
      "source": [
        "# **Check if a number is Armstrong Number or not**\n",
        "**Problem Statement**: Given a number, check if it is Armstrong Number or Not.\n",
        "\n",
        "Examples:\n",
        "```\n",
        "Example 1:\n",
        "Input:153\n",
        "Output: Yes, it is an Armstrong Number\n",
        "Explanation: 1^3 + 5^3 + 3^3 = 153\n",
        "\n",
        "Input:170\n",
        "Output: No, it is not an Armstrong Number\n",
        "Explanation: 1^3 + 7^3 + 0^3 != 170\n",
        "\n",
        "```"
      ],
      "metadata": {
        "id": "ck8Jjqwy3X2j"
      }
    },
    {
      "cell_type": "code",
      "source": [
        "def checkams(n):\n",
        "  num=n\n",
        "  lenams = len(str(n))\n",
        "  ams = 0\n",
        "  for i in range(1,lenams+1):\n",
        "    digit = num%10                     # to get the last number\n",
        "    ams = ams + pow(digit,lenams)      #adding the pow of digit with the length of the numbers\n",
        "    num=num//10                        # removing the last digit\n",
        "  print(ams)\n",
        "  if ams==n:\n",
        "    return True\n",
        "  else:\n",
        "    return False\n",
        "\n",
        "\n",
        "\n",
        "n = int(input(\"enter the number\"))\n",
        "if(checkams(n)):\n",
        "  print(\"Yes this is amstrong\")\n",
        "else:\n",
        "  print(\"not an Amstrong Number\")"
      ],
      "metadata": {
        "colab": {
          "base_uri": "https://localhost:8080/"
        },
        "id": "DycolCOjzzmS",
        "outputId": "c8335f45-e419-4fa2-d907-5f6a81020684"
      },
      "execution_count": null,
      "outputs": [
        {
          "output_type": "stream",
          "name": "stdout",
          "text": [
            "enter the number100\n",
            "1\n",
            "not an Amstrong Number\n"
          ]
        }
      ]
    },
    {
      "cell_type": "markdown",
      "source": [
        "# **Print all Divisors of a given Number**\n",
        "**Problem Statement**: Given a number, print all the divisors of the number. A divisor is a number that gives the remainder as zero when divided.\n",
        "\n",
        "```\n",
        "Examples\n",
        "Example 1:\n",
        "Input: n = 36\n",
        "Output: 1 2 3 4 6 9 12 18 36\n",
        "Explanation: All the divisors of 36 are printed.\n",
        "\n",
        "Example 2:\n",
        "Input: n = 97\n",
        "Output: 1 97\n",
        "Explanation: Since 97 is a prime number, only 1 and 97 are printed.\n",
        "```"
      ],
      "metadata": {
        "id": "GZ8UumQz6PUm"
      }
    },
    {
      "cell_type": "code",
      "source": [
        "def divisor(n):\n",
        "  num=n\n",
        "  # length = len(num)\n",
        "  numbers = []\n",
        "  if n==1:\n",
        "    print(\"the divisor is one itself\")\n",
        "  for i in range(1,num+1):\n",
        "    if(num%i == 0):\n",
        "      numbers.append(i)\n",
        "    # else :\n",
        "    #   return (f\"the Divisor are 1 and {n} as it is prime number\")\n",
        "  return numbers\n",
        "n=36\n",
        "print(f\"the divisors of the number{n} are {divisor(n)}\")"
      ],
      "metadata": {
        "colab": {
          "base_uri": "https://localhost:8080/"
        },
        "id": "EY6fmwqj3yFI",
        "outputId": "fa4759b7-e90f-48ee-a3f4-e70774038c8c"
      },
      "execution_count": null,
      "outputs": [
        {
          "output_type": "stream",
          "name": "stdout",
          "text": [
            "the divisors of the number36 are [1, 2, 3, 4, 6, 9, 12, 18, 36]\n"
          ]
        }
      ]
    },
    {
      "cell_type": "markdown",
      "source": [
        "Solution 2:\n",
        "Intuition:\n",
        "The above method takes O(n) time complexity. We can also think of another approach. If we take a closer look, we can notice that the quotient of a division by one of the divisors is actually another divisor. Like, 4 divides 36. The quotient is 9, and 9 also divides 36.\n",
        "Another intuition is that the root of a number actually acts as a splitting part of all the divisors of a number.\n",
        "Also, the quotient of a division by any divisor gives an equivalent divisor on the other side. Like, 4 gives 9 while dividing 36. See the image below.\n",
        "\n",
        "**Approach**:\n",
        "From the intuition, we can come to the conclusion that we don’t need to traverse all the candidates and if we found a single divisor, we can also find another divisor(Here, we need to be careful, if the given number is a perfect square, like 36, 6 also give 6 as quotient. This is a corner case.)\n",
        "By keeping these in mind, it is enough if we traverse up to the root of a number. Whenever we find a divisor, we print it and also print the quotient. If the quotient is the same, we ignore it. Because the root of a perfect square will give the same quotient as itself.\n",
        "The quotients are the numbers that are on the other side of the root. So, it’s okay if we stop traversing at the root.\n",
        "This approach is more time efficient than the previous one. But the output sequences are not the same. In the previous approach, we get an ordered output unlike here."
      ],
      "metadata": {
        "id": "BLHAQ2BP-GX7"
      }
    },
    {
      "cell_type": "code",
      "source": [
        "\n",
        "def printDivisorsOptimal(n):\n",
        "    print(\"The Divisors of\",n,\"are:\")\n",
        "    for i in range(1, int(n**0.5)+1):\n",
        "        if n % i == 0:\n",
        "            print(i, end=\" \")\n",
        "            if i != n/i:\n",
        "                print(int(n/i), end=\" \")\n",
        "    print()\n",
        "\n",
        "printDivisorsOptimal(36)\n"
      ],
      "metadata": {
        "colab": {
          "base_uri": "https://localhost:8080/"
        },
        "id": "h5jtQyq_8noB",
        "outputId": "5593d116-de24-4d6d-a8be-8e5572e40b17"
      },
      "execution_count": null,
      "outputs": [
        {
          "output_type": "stream",
          "name": "stdout",
          "text": [
            "The Divisors of 36 are:\n",
            "1 36 2 18 3 12 4 9 6 \n"
          ]
        }
      ]
    },
    {
      "cell_type": "markdown",
      "source": [
        "# **Check if a number is prime or not**\n",
        "**Problem Statement**: Given a number, check whether it is prime or not. A prime number is a natural number that is only divisible by 1 and by itself.\n",
        "\n",
        "Examples 1 2 3 5 7 11 13 17 19 …\n",
        "```\n",
        "Examples\n",
        "Example 1:\n",
        "Input: N = 3\n",
        "Output: Prime\n",
        "Explanation: 3 is a prime number\n",
        "\n",
        "Example 2:\n",
        "Input: N = 26\n",
        "Output: Non-Prime\n",
        "Explanation: 26 is not prime\n",
        "\n",
        "```"
      ],
      "metadata": {
        "id": "lDbZ9ldZ-Yms"
      }
    },
    {
      "cell_type": "code",
      "source": [
        "def checkPrime(n):\n",
        "  check = False\n",
        "  if n==1:\n",
        "    print(\"1 is nither Prime or Compostite\")\n",
        "\n",
        "\n",
        "  for i in range(2,n+1):\n",
        "    if n%i==0:\n",
        "      check = True\n",
        "  return check\n",
        "\n",
        "n =int(input(\"Enter the number to check prime\"))\n",
        "\n",
        "if(checkPrime(n)):\n",
        "  print(f\"the number{n} is not a prime number\")\n",
        "else:\n",
        "  print(f\"the number{n}is the Prime Number\")"
      ],
      "metadata": {
        "colab": {
          "base_uri": "https://localhost:8080/"
        },
        "id": "kJWkxm_7-Nvl",
        "outputId": "01e4d3b5-31b2-465c-c18a-37c6c8b4f6a8"
      },
      "execution_count": null,
      "outputs": [
        {
          "output_type": "stream",
          "name": "stdout",
          "text": [
            "Enter the number to check prime36\n",
            "the number36 is not a prime number\n"
          ]
        }
      ]
    },
    {
      "cell_type": "code",
      "source": [],
      "metadata": {
        "id": "fcHSqrGn_2AG"
      },
      "execution_count": null,
      "outputs": []
    }
  ]
}
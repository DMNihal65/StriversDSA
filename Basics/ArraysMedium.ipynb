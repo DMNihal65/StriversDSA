{
  "cells": [
    {
      "cell_type": "markdown",
      "metadata": {
        "id": "Johe1vrsylTG"
      },
      "source": [
        "# **Two Sum : Check if a pair with given sum exists in Array**\n",
        "**Problem Statement** : Given an array of integers arr[] and an integer target.\n",
        "\n",
        "1st variant: Return YES if there exist two numbers such that their sum is equal to the target. Otherwise, return NO.\n",
        "\n",
        "2nd variant: Return indices of the two numbers such that their sum is equal to the target. Otherwise, we will return {-1, -1}.\n",
        "\n",
        "Note: You are not allowed to use the same element twice. Example: If the target is equal to 6 and num[1] = 3, then nums[1] + nums[1] = target is not a solution.\n",
        "\n",
        "Examples:\n",
        "```\n",
        "Example 1:\n",
        "Input Format: N = 5, arr[] = {2,6,5,8,11}, target = 14\n",
        "Result: YES (for 1st variant)\n",
        "       [1, 3] (for 2nd variant)\n",
        "Explanation: arr[1] + arr[3] = 14. So, the answer is “YES” for the first variant and [1, 3] for 2nd variant.\n",
        "\n",
        "Example 2:\n",
        "Input Format: N = 5, arr[] = {2,6,5,8,11}, target = 15\n",
        "Result: NO (for 1st variant)\n",
        "\t[-1, -1] (for 2nd variant)\n",
        "Explanation: There exist no such two numbers whose sum is equal to the target.\n",
        "\n",
        "```"
      ]
    },
    {
      "cell_type": "code",
      "execution_count": null,
      "metadata": {
        "colab": {
          "base_uri": "https://localhost:8080/"
        },
        "id": "_p37mhmqyVxs",
        "outputId": "a1d15825-6ac1-4192-90b7-06b95a1b1f83"
      },
      "outputs": [
        {
          "name": "stdout",
          "output_type": "stream",
          "text": [
            "first index = 1 value 7, Second index 3 and value 8\n",
            "True\n"
          ]
        }
      ],
      "source": [
        "# variant 1\n",
        "def twosum(nums,k):\n",
        "  for i in range(len(nums)):\n",
        "    for j in range(i+1,len(nums)):\n",
        "      if nums[i]+nums[j] == k:\n",
        "        print(f\"first index = {i} value {nums[i]}, Second index {j} and value {nums[j]}\")\n",
        "        return True\n",
        "  return False\n",
        "\n",
        "\n",
        "\n",
        "\n",
        "\n",
        "\n",
        "nums = [2,7,5,8,11]\n",
        "k = 15\n",
        "\n",
        "print(twosum(nums,k))"
      ]
    },
    {
      "cell_type": "markdown",
      "metadata": {
        "id": "HzwpLeok25VC"
      },
      "source": [
        "# **Sort an array of 0s, 1s and 2s**\n",
        "**Problem Statement** : Given an array consisting of only 0s, 1s, and 2s. Write a program to in-place sort the array without using inbuilt sort functions. ( Expected: Single pass-O(N) and constant space)\n",
        "\n",
        "Examples\n",
        "```\n",
        "Input: nums = [2,0,2,1,1,0]\n",
        "Output: [0,0,1,1,2,2]\n",
        "\n",
        "Input: nums = [2,0,1]\n",
        "Output: [0,1,2]\n",
        "\n",
        "Input: nums = [0]\n",
        "Output: [0]\n",
        "```"
      ]
    },
    {
      "cell_type": "markdown",
      "metadata": {
        "id": "tkvzzdizL_yg"
      },
      "source": [
        "**Sorting**"
      ]
    },
    {
      "cell_type": "code",
      "execution_count": null,
      "metadata": {
        "colab": {
          "base_uri": "https://localhost:8080/"
        },
        "id": "2Mhi2kZnL_Tq",
        "outputId": "51c6e217-2c92-43a8-dc83-a2a3f1498310"
      },
      "outputs": [
        {
          "name": "stdout",
          "output_type": "stream",
          "text": [
            "[0, 0, 1, 1, 2, 2]\n"
          ]
        }
      ],
      "source": [
        "def sortarr(nums):\n",
        "  for i in range(len(nums)-1):\n",
        "    for j in range(len(nums)-i-1):\n",
        "\n",
        "      if nums[j]>=nums[j+1]:\n",
        "\n",
        "        nums[j],nums[j+1]=nums[j+1],nums[j]\n",
        "  print(nums)\n",
        "\n",
        "\n",
        "\n",
        "nums = [2,0,2,1,1,0]\n",
        "sortarr(nums)"
      ]
    },
    {
      "cell_type": "markdown",
      "metadata": {
        "id": "8ppWNe673VGu"
      },
      "source": [
        "Hash Maps"
      ]
    },
    {
      "cell_type": "code",
      "execution_count": null,
      "metadata": {
        "colab": {
          "base_uri": "https://localhost:8080/"
        },
        "id": "2XGE7f1qz1OM",
        "outputId": "c69e103b-2e37-49c9-f1ca-0113ad481514"
      },
      "outputs": [
        {
          "name": "stdout",
          "output_type": "stream",
          "text": [
            "imside 0 0\n",
            "[0, 0, 2, 1, 1, 0]\n",
            "imside 0 1\n",
            "[0, 0, 2, 1, 1, 0]\n",
            "inside 1 2\n",
            "inside 1 3\n",
            "inside 1 4\n",
            "inside 1 5\n",
            "[0, 0, 1, 1, 2, 2]\n"
          ]
        }
      ],
      "source": [
        "def sortarr(nums):\n",
        "  freq = {}\n",
        "  temp =[]\n",
        "  for var in nums:\n",
        "    if var in freq:\n",
        "      freq[var]+=1\n",
        "    else:\n",
        "      freq[var] = 1\n",
        "  for i in range(freq[0]):\n",
        "    print(f\"imside 0 {i}\")\n",
        "\n",
        "    nums[i]= 0\n",
        "    print(nums)\n",
        "  for i in range(freq[0],len(nums)):\n",
        "    print(f\"inside 1 {i}\")\n",
        "    nums[i]=1\n",
        "  for i in range(freq[0]+freq[1],len(nums)):\n",
        "    nums[i]=2\n",
        "\n",
        "\n",
        "  print(nums)\n",
        "\n",
        "\n",
        "nums = [2,0,2,1,1,0]\n",
        "sortarr(nums)"
      ]
    },
    {
      "cell_type": "markdown",
      "metadata": {
        "id": "p2NZ-UrHTRL5"
      },
      "source": [
        "**OPTIMAL APPROCH**\n",
        "\n",
        "Approach:\n",
        "\n",
        "Note: Here in this tutorial we will work based on the value of the mid pointer.\n",
        "\n",
        "The steps will be the following:\n",
        "\n",
        "First, we will run a loop that will continue until mid <= high.\n",
        "There can be three different values of mid pointer i.e. arr[mid]\n",
        "If arr[mid] == 0, we will swap arr[low] and arr[mid] and will increment both low and mid. Now the subarray from index 0 to (low-1) only contains 0.\n",
        "If arr[mid] == 1, we will just increment the mid pointer and then the index (mid-1) will point to 1 as it should according to the rules.\n",
        "If arr[mid] == 2, we will swap arr[mid] and arr[high] and will decrement high. Now the subarray from index high+1 to (n-1) only contains 2.\n",
        "In this step, we will do nothing to the mid-pointer as even after swapping, the subarray from mid to high(after decrementing high) might be unsorted. So, we will check the value of mid again in the next iteration.\n",
        "Finally, our array should be sorted."
      ]
    },
    {
      "cell_type": "code",
      "execution_count": null,
      "metadata": {
        "colab": {
          "base_uri": "https://localhost:8080/"
        },
        "id": "pdFc1MFZ3Sb5",
        "outputId": "0a76b7e6-adc4-468d-da93-96ab1bb93761"
      },
      "outputs": [
        {
          "name": "stdout",
          "output_type": "stream",
          "text": [
            "inside\n",
            "inside\n",
            "inside\n",
            "inside\n",
            "inside\n",
            "inside\n",
            "[0, 0, 1, 1, 2, 2]\n"
          ]
        }
      ],
      "source": [
        "def sortarr(nums):\n",
        "  mid=0\n",
        "  low=0\n",
        "  high=len(nums)-1\n",
        "  while mid<=high:\n",
        "    print(\"inside\")\n",
        "    if nums[mid]==0:\n",
        "      nums[mid],nums[low]=nums[low],nums[mid]\n",
        "      mid+=1\n",
        "      low+=1\n",
        "    elif nums[mid]==1:\n",
        "      mid+=1\n",
        "    else :\n",
        "      nums[mid],nums[high]=nums[high],nums[mid]\n",
        "\n",
        "      high-=1\n",
        "  print(nums)\n",
        "\n",
        "\n",
        "\n",
        "\n",
        "\n",
        "\n",
        "nums = [2,0,2,1,1,0]\n",
        "sortarr(nums)"
      ]
    },
    {
      "cell_type": "markdown",
      "metadata": {
        "id": "DfaYHVSOVqXT"
      },
      "source": [
        "# **Find the Majority Element that occurs more than N/2 times**\n",
        "**Problem Statement** : Given an array of N integers, write a program to return an element that occurs more than N/2 times in the given array. You may consider that such an element always exists in the array.\n",
        "\n",
        "Examples\n",
        "```\n",
        "Example 1:\n",
        "Input Format: N = 3, nums[] = {3,2,3}\n",
        "Result: 3\n",
        "Explanation: When we just count the occurrences of each number and compare with half of the size of the array, you will get 3 for the above solution.\n",
        "\n",
        "Example 2:\n",
        "Input Format:  N = 7, nums[] = {2,2,1,1,1,2,2}\n",
        "\n",
        "Result: 2\n",
        "\n",
        "Explanation: After counting the number of times each element appears and comparing it with half of array size, we get 2 as result.\n",
        "\n",
        "Example 3:\n",
        "Input Format:  N = 10, nums[] = {4,4,2,4,3,4,4,3,2,4}\n",
        "\n",
        "Result: 4\n",
        "```"
      ]
    },
    {
      "cell_type": "code",
      "execution_count": null,
      "metadata": {
        "colab": {
          "base_uri": "https://localhost:8080/"
        },
        "id": "RlJWchmEUPmB",
        "outputId": "f5dff0e7-a2b6-4145-a771-d5f0bff6d93c"
      },
      "outputs": [
        {
          "data": {
            "text/plain": [
              "2"
            ]
          },
          "execution_count": 58,
          "metadata": {},
          "output_type": "execute_result"
        }
      ],
      "source": [
        "def countacc(nums):\n",
        "  count = 0\n",
        "  for i in range(len(nums)):\n",
        "    for j in range(len(nums)):\n",
        "      if nums[i]==nums[j]:\n",
        "        count+= 1\n",
        "        if count == (len(nums)//2):\n",
        "          return nums[i]\n",
        "  return -1\n",
        "\n",
        "\n",
        "nums = [2,2,1,1,1,2,2]\n",
        "countacc(nums)"
      ]
    },
    {
      "cell_type": "markdown",
      "metadata": {
        "id": "Hniwc7JwXhMC"
      },
      "source": [
        "**Using Hashmap**"
      ]
    },
    {
      "cell_type": "code",
      "execution_count": null,
      "metadata": {
        "colab": {
          "base_uri": "https://localhost:8080/"
        },
        "id": "hi_SRk6HXTsu",
        "outputId": "b9d3512a-329c-4450-c76d-458998f03552"
      },
      "outputs": [
        {
          "data": {
            "text/plain": [
              "2"
            ]
          },
          "execution_count": 65,
          "metadata": {},
          "output_type": "execute_result"
        }
      ],
      "source": [
        "def countacc(nums):\n",
        "  fr ={}\n",
        "  for num in nums:\n",
        "    if num in fr:\n",
        "      fr[num]+=1\n",
        "    else :\n",
        "      fr[num]=1\n",
        "  for num, count in fr.items():\n",
        "        if count > len(nums) / 2:\n",
        "            return num\n",
        "  return None\n",
        "\n",
        "\n",
        "\n",
        "nums = [2,2,1,1,1,2,2]\n",
        "countacc(nums)"
      ]
    },
    {
      "cell_type": "markdown",
      "metadata": {
        "id": "QX0N28-wZ4UJ"
      },
      "source": [
        "**Using the HashMap and Inbuilt counter**"
      ]
    },
    {
      "cell_type": "code",
      "execution_count": null,
      "metadata": {
        "colab": {
          "base_uri": "https://localhost:8080/"
        },
        "id": "CoTyak5HYG32",
        "outputId": "3ac3cb24-1e88-4899-d990-99b24af017de"
      },
      "outputs": [
        {
          "name": "stdout",
          "output_type": "stream",
          "text": [
            "The majority element is: 2\n"
          ]
        }
      ],
      "source": [
        "from collections import Counter\n",
        "\n",
        "def majorityElement(arr):\n",
        "    # Size of the given array\n",
        "    n = len(arr)\n",
        "\n",
        "    # Count the occurrences of each element using Counter\n",
        "    counter = Counter(arr)\n",
        "\n",
        "    # Searching for the majority element\n",
        "    for num, count in counter.items():\n",
        "        if count > (n // 2):\n",
        "            return num\n",
        "\n",
        "    return -1\n",
        "\n",
        "arr = [2, 2, 1, 1, 1, 2, 2]\n",
        "ans = majorityElement(arr)\n",
        "print(\"The majority element is:\", ans)"
      ]
    },
    {
      "cell_type": "markdown",
      "metadata": {
        "id": "3DBAhK4bbp6d"
      },
      "source": [
        "### **Optimal Approach: Moore’s Voting Algorithm:**\n",
        "Intuition:\n",
        "If the array contains a majority element, its occurrence must be greater than the floor(N/2). Now, we can say that the count of minority elements and majority elements is equal up to a certain point in the array. So when we traverse through the array we try to keep track of the count of elements and the element itself for which we are tracking the count.\n",
        "\n",
        "After traversing the whole array, we will check the element stored in the variable. If the question states that the array must contain a majority element, the stored element will be that one but if the question does not state so, then we need to check if the stored element is the majority element or not. If not, then the array does not contain any majority element.\n",
        "\n",
        "Approach:\n",
        "Initialize 2 variables:\n",
        "Count –  for tracking the count of element\n",
        "Element – for which element we are counting\n",
        "Traverse through the given array.\n",
        "If Count is 0 then store the current element of the array as Element.\n",
        "If the current element and Element are the same increase the Count by 1.\n",
        "If they are different decrease the Count by 1.\n",
        "The integer present in Element should be the result we are expecting\n",
        "\n",
        "\n",
        "\n",
        "\n",
        "Basically, we are trying to keep track of the occurrences of the majority element and minority elements dynamically. That is why, in iteration 4, the count becomes 0 as the occurrence of Element and the occurrence of the other elements are the same. So, they canceled each other. This is how the process works. The element with the most occurrence will remain and the rest will cancel themselves.\n",
        "\n",
        "Here, we can see that 2 is the majority element. But if in this array, the last two elements were 3, then the Element variable would have stored 3 instead of 2. For that, we need to check if the Element is the majority element by traversing the array once more. But if the question guarantees that the given array contains a majority element, then we can bet the Element will store the majority one.\n",
        "\n",
        "Note: For a better understanding of intuition, please watch the video at the bottom of the page."
      ]
    },
    {
      "cell_type": "code",
      "execution_count": null,
      "metadata": {
        "colab": {
          "base_uri": "https://localhost:8080/"
        },
        "id": "hpBbT_grZ-GO",
        "outputId": "094f3edf-ebda-45f5-cc4d-bc891b5fa1e0"
      },
      "outputs": [
        {
          "data": {
            "text/plain": [
              "2"
            ]
          },
          "execution_count": 67,
          "metadata": {},
          "output_type": "execute_result"
        }
      ],
      "source": [
        "def countacc(nums):\n",
        "  count=0\n",
        "  elm = 0\n",
        "  for i in range(len(nums)):\n",
        "    if count==0:\n",
        "      elm = nums[i]\n",
        "    if elm == nums[i]:\n",
        "      count+=1\n",
        "    else:\n",
        "      count-=1\n",
        "  return elm\n",
        "\n",
        "\n",
        "\n",
        "nums = [2,2,1,1,1,2,2]\n",
        "countacc(nums)"
      ]
    },
    {
      "cell_type": "markdown",
      "metadata": {
        "id": "Zu-ooMY2eGCK"
      },
      "source": [
        "# **Kadane’s Algorithm : Maximum Subarray Sum in an Array**\n",
        "**Problem Statement** : Given an integer array arr, find the contiguous subarray (containing at least one number) which\n",
        "has the largest sum and returns its sum and prints the subarray.\n",
        "\n",
        "Examples\n",
        "```\n",
        "Example 1:\n",
        "\n",
        "Input: arr = [-2,1,-3,4,-1,2,1,-5,4]\n",
        "\n",
        "Output: 6\n",
        "\n",
        "Explanation: [4,-1,2,1] has the largest sum = 6.\n",
        "\n",
        "Examples 2:\n",
        "\n",
        "Input: arr = [1]\n",
        "\n",
        "Output: 1\n",
        "\n",
        "Explanation: Array has only one element and which is giving positive sum of 1.\n",
        "```"
      ]
    },
    {
      "cell_type": "code",
      "execution_count": null,
      "metadata": {
        "colab": {
          "base_uri": "https://localhost:8080/"
        },
        "id": "htnAB_dUcsAx",
        "outputId": "071153de-5515-44a8-c576-aba63341b10c"
      },
      "outputs": [
        {
          "name": "stdout",
          "output_type": "stream",
          "text": [
            "the i value 0, and temp = 5\n",
            "the j value 1\n",
            "the temp value 9 and the added no is 4\n",
            "isnide the check and temp = 9 and max = 0\n",
            "after reassigning max = 9\n",
            "the j value 2\n",
            "the temp value 8 and the added no is -1\n",
            "the j value 3\n",
            "the temp value 15 and the added no is 7\n",
            "isnide the check and temp = 15 and max = 9\n",
            "after reassigning max = 15\n",
            "the j value 4\n",
            "the temp value 23 and the added no is 8\n",
            "isnide the check and temp = 23 and max = 15\n",
            "after reassigning max = 23\n",
            "the i value 1, and temp = 4\n",
            "the j value 2\n",
            "the temp value 3 and the added no is -1\n",
            "the j value 3\n",
            "the temp value 10 and the added no is 7\n",
            "the j value 4\n",
            "the temp value 18 and the added no is 8\n",
            "the i value 2, and temp = -1\n",
            "the j value 3\n",
            "the temp value 6 and the added no is 7\n",
            "the j value 4\n",
            "the temp value 14 and the added no is 8\n",
            "the i value 3, and temp = 7\n",
            "the j value 4\n",
            "the temp value 15 and the added no is 8\n",
            "the i value 4, and temp = 8\n"
          ]
        },
        {
          "data": {
            "text/plain": [
              "23"
            ]
          },
          "execution_count": 25,
          "metadata": {},
          "output_type": "execute_result"
        }
      ],
      "source": [
        "def kadan(nums):\n",
        "  max = 0\n",
        "  if len(nums)<=1:\n",
        "    return nums[0]\n",
        "  for i in range(len(nums)):\n",
        "    temp = nums[i]\n",
        "    print(f\"the i value {i}, and temp = {temp}\")\n",
        "    for j in range(i+1,len(nums)):\n",
        "      print(f\"the j value {j}\")\n",
        "      temp += nums[j]\n",
        "      print(f\"the temp value {temp} and the added no is {nums[j]}\")\n",
        "      if temp>=max:\n",
        "        print(f\"isnide the check and temp = {temp} and max = {max}\")\n",
        "        max = temp\n",
        "        print(f\"after reassigning max = {max}\")\n",
        "  return max\n",
        "\n",
        "\n",
        "nums = [5,4,-1,7,8]\n",
        "kadan(nums)"
      ]
    },
    {
      "cell_type": "markdown",
      "metadata": {
        "id": "OixGw82uuNto"
      },
      "source": [
        "### **OPTIMAL APPROCH**\n",
        "\n",
        "\n",
        "**Intuition** :\n",
        "The intuition of the algorithm is not to consider the subarray as a part of the answer if its sum is less than 0. A subarray with a sum less than 0 will always reduce our answer and so this type of subarray cannot be a part of the subarray with maximum sum.\n",
        "\n",
        "Here, we will iterate the given array with a single loop and while iterating we will add the elements in a sum variable. Now, if at any point the sum becomes less than 0, we will set the sum as 0 as we are not going to consider any subarray with a negative sum. Among all the sums calculated, we will consider the maximum one.\n",
        "\n",
        "Thus we can solve this problem with a single loop.\n",
        "\n",
        "**Approach**:\n",
        "The steps are as follows:\n",
        "\n",
        "We will run a loop(say i) to iterate the given array.\n",
        "Now, while iterating we will add the elements to the sum variable and consider the maximum one.\n",
        "If at any point the sum becomes negative we will set the sum to 0 as we are not going to consider it as a part of our answer.\n",
        "Note: In some cases, the question might say to consider the sum of the empty subarray while solving this problem. So, in these cases, before returning the answer we will compare the maximum subarray sum calculated with 0(i.e. The sum of an empty subarray is 0). And after that, we will return the maximum one.\n",
        "For e.g. if the given array is {-1, -4, -5}, the answer will be 0 instead of -1 in this case.\n",
        "\n",
        "This is applicable to all the approaches discussed above.\n",
        "\n",
        "But if this case is not explicitly mentioned we will not consider this case."
      ]
    },
    {
      "cell_type": "code",
      "execution_count": null,
      "metadata": {
        "colab": {
          "base_uri": "https://localhost:8080/"
        },
        "id": "VJxkJ4jUe_L8",
        "outputId": "8cb49232-8b18-4737-d0fa-24f14b7c9172"
      },
      "outputs": [
        {
          "name": "stdout",
          "output_type": "stream",
          "text": [
            "23\n"
          ]
        }
      ],
      "source": [
        "def kadan(nums):\n",
        "  sum =0\n",
        "  maxi = -1\n",
        "  for i in range(len(nums)):\n",
        "    sum += nums[i]\n",
        "\n",
        "    if sum>maxi:\n",
        "      maxi = sum\n",
        "    if sum < 0:\n",
        "      sum = 0\n",
        "  print(maxi)\n",
        "\n",
        "\n",
        "\n",
        "nums = [5,4,-1,7,8]\n",
        "kadan(nums)"
      ]
    },
    {
      "cell_type": "markdown",
      "metadata": {
        "id": "sVJkKPMw0BZq"
      },
      "source": [
        "## **KADANS ALGO WITH THE INDEX VALUES**"
      ]
    },
    {
      "cell_type": "code",
      "execution_count": null,
      "metadata": {
        "colab": {
          "base_uri": "https://localhost:8080/"
        },
        "id": "Euwmqwa8x974",
        "outputId": "7c93af6b-e6de-42c9-8040-ad40fa0662d9"
      },
      "outputs": [
        {
          "name": "stdout",
          "output_type": "stream",
          "text": [
            "6\n",
            "4\n",
            "-1\n",
            "2\n"
          ]
        }
      ],
      "source": [
        "def kadan(nums):\n",
        "  sum =0\n",
        "  start = 0\n",
        "  maxi = -1\n",
        "  astart,aend = -1,-1\n",
        "  for i in range(len(nums)):\n",
        "    if sum == 0:\n",
        "      start = i\n",
        "    sum += nums[i]\n",
        "\n",
        "    if sum>maxi:\n",
        "      maxi = sum\n",
        "      astart = start\n",
        "      aend = i\n",
        "    if sum < 0:\n",
        "      sum = 0\n",
        "  print(maxi)\n",
        "  for i in range(astart,aend):\n",
        "    print(nums[i])\n",
        "\n",
        "\n",
        "\n",
        "nums = [-2, 1, -3, 4, -1, 2, 1, -5, 4]\n",
        "kadan(nums)"
      ]
    },
    {
      "cell_type": "markdown",
      "metadata": {
        "id": "AB7W62KK1U-l"
      },
      "source": [
        "# **Stock Buy And Sell**\n",
        "**Problem Statement** : You are given an array of prices where prices[i] is the price of a given stock on an ith day.\n",
        "\n",
        "You want to maximize your profit by choosing a single day to buy one stock and choosing a different day in the future to sell that stock. Return the maximum profit you can achieve from this transaction. If you cannot achieve any profit, return 0.\n",
        "\n",
        "Examples\n",
        "```\n",
        "Example 1:\n",
        "\n",
        "Input: prices = [7,1,5,3,6,4]\n",
        "Output: 5\n",
        "Explanation: Buy on day 2 (price = 1) and\n",
        "sell on day 5 (price = 6), profit = 6-1 = 5.\n",
        "\n",
        "Note: That buying on day 2 and selling on day 1\n",
        "is not allowed because you must buy before\n",
        "you sell.\n",
        "\n",
        "Example 2:\n",
        "\n",
        "Input: prices = [7,6,4,3,1]\n",
        "Output: 0\n",
        "Explanation: In this case, no transactions are\n",
        "done and the max profit = 0.\n",
        "```"
      ]
    },
    {
      "cell_type": "code",
      "execution_count": null,
      "metadata": {
        "colab": {
          "base_uri": "https://localhost:8080/"
        },
        "id": "ItmwWFbv05Bb",
        "outputId": "bd5c1a8d-89e1-4581-dce2-cfcd2fb6d2b7"
      },
      "outputs": [
        {
          "name": "stdout",
          "output_type": "stream",
          "text": [
            "0\n"
          ]
        }
      ],
      "source": [
        "def stock(nums):\n",
        "\n",
        "  maxi = 0\n",
        "  for i in range(len(nums)):\n",
        "    for j in range(i,len(nums)):\n",
        "      if nums[j]-nums[i] >= maxi:\n",
        "        maxi = nums[j]-nums[i]\n",
        "  print(maxi)\n",
        "\n",
        "\n",
        "\n",
        "      # if nums[j]>maxi:\n",
        "      #   maxi = nums[i]\n",
        "      #   mindex = i\n",
        "\n",
        "\n",
        "      # if nums[i]<=small:\n",
        "      #   small = nums[i]\n",
        "      #   sindex = i\n",
        "  # print(f\"max profit = {maxi-small}\")\n",
        "\n",
        "  # print(maxi)\n",
        "  # print(f\"max index {mindex}\")\n",
        "  # print(f\"samll index {sindex}\")\n",
        "  # print(small)\n",
        "\n",
        "\n",
        "\n",
        "\n",
        "nums = [7,6,4,3,1]\n",
        "stock(nums)"
      ]
    },
    {
      "cell_type": "markdown",
      "metadata": {
        "id": "DmEYJ0cZ9SX7"
      },
      "source": [
        "### **OPTIMAL APPROCH**"
      ]
    },
    {
      "cell_type": "code",
      "execution_count": null,
      "metadata": {
        "colab": {
          "base_uri": "https://localhost:8080/"
        },
        "id": "QgCIw5Mj1id8",
        "outputId": "b30b2f14-eeab-41aa-a549-bbf6753a9595"
      },
      "outputs": [
        {
          "data": {
            "text/plain": [
              "0"
            ]
          },
          "execution_count": 29,
          "metadata": {},
          "output_type": "execute_result"
        }
      ],
      "source": [
        "def maxProfit(arr):\n",
        "    maxPro = 0\n",
        "    minPrice = float('inf')\n",
        "    for i in range(len(arr)):\n",
        "        minPrice = min(minPrice, arr[i])\n",
        "        maxPro = max(maxPro, arr[i] - minPrice)\n",
        "    return maxPro\n",
        "\n",
        "\n",
        "nums = [7,6,4,3,1]\n",
        "maxProfit(nums)"
      ]
    },
    {
      "cell_type": "code",
      "execution_count": null,
      "metadata": {
        "colab": {
          "base_uri": "https://localhost:8080/"
        },
        "id": "hjDT_JM39ZXY",
        "outputId": "fa7af702-3a2a-4adc-8fe2-54fc0f846cc3"
      },
      "outputs": [
        {
          "data": {
            "text/plain": [
              "0"
            ]
          },
          "execution_count": 30,
          "metadata": {},
          "output_type": "execute_result"
        }
      ],
      "source": [
        "def maxProfit(prices):\n",
        "    max_profit = 0\n",
        "    min_price = 99999999999999999999999999999\n",
        "    for price in prices:\n",
        "        if min_price>price:\n",
        "            min_price = price\n",
        "        if max_profit<price - min_price:\n",
        "            max_profit = price - min_price\n",
        "    return max_profit\n",
        "\n",
        "\n",
        "nums = [7,6,4,3,1]\n",
        "maxProfit(nums)"
      ]
    },
    {
      "cell_type": "code",
      "execution_count": null,
      "metadata": {
        "id": "F-nINFOvqg71"
      },
      "outputs": [],
      "source": []
    },
    {
      "cell_type": "markdown",
      "metadata": {
        "id": "bcArdJFQqbrN"
      },
      "source": [
        "# **Rearrange Array Elements by Sign**\n",
        "**Variety-1**\n",
        "\n",
        "**Problem Statement**:\n",
        "\n",
        "There’s an array ‘A’ of size ‘N’ with an equal number of positive and negative elements. Without altering the relative order of positive and negative elements, you must return an array of alternately positive and negative values.\n",
        "\n",
        "Note: Start the array with positive elements.\n",
        "\n",
        "Examples:\n",
        "```\n",
        "\n",
        "Example 1:\n",
        "\n",
        "Input:\n",
        "arr[] = {1,2,-4,-5}, N = 4\n",
        "Output:\n",
        "1 -4 2 -5\n",
        "\n",
        "Explanation:\n",
        "\n",
        "Positive elements = 1,2\n",
        "Negative elements = -4,-5\n",
        "To maintain relative ordering, 1 must occur before 2, and -4 must occur before -5.\n",
        "\n",
        "Example 2:\n",
        "Input:\n",
        "arr[] = {1,2,-3,-1,-2,-3}, N = 6\n",
        "Output:\n",
        "1 -3 2 -1 3 -2\n",
        "Explanation:\n",
        "\n",
        "Positive elements = 1,2,3\n",
        "Negative elements = -3,-1,-2\n",
        "To maintain relative ordering, 1 must occur before 2, and 2 must occur before 3.\n",
        "Also, -3 should come before -1, and -1 should come before -2.\n",
        "```"
      ]
    },
    {
      "cell_type": "code",
      "execution_count": null,
      "metadata": {
        "colab": {
          "base_uri": "https://localhost:8080/"
        },
        "id": "QJVSFfc--EL3",
        "outputId": "295554be-85bd-4658-f4ad-975c2b11fade"
      },
      "outputs": [
        {
          "name": "stdout",
          "output_type": "stream",
          "text": [
            "[1, -3, 2, -1, -2, -2]\n"
          ]
        }
      ],
      "source": [
        "\n",
        "def rearrange(nums):\n",
        "  pos = []\n",
        "  neg = []\n",
        "  for i in range(len(nums)):\n",
        "    if nums[i]< 0:\n",
        "      neg.append(nums[i])\n",
        "    else:\n",
        "      pos.append(nums[i])\n",
        "  for i in range(len(pos)):\n",
        "    nums[2 * i] = pos[i]\n",
        "  for i in range(len(neg)-1):\n",
        "     nums[2 * i + 1] = neg[i]\n",
        "  print(nums)\n",
        "\n",
        "\n",
        "nums = [1,2,-3,-1,-2,-3] # [1,2] [-3,-1,-2,-3]\n",
        "rearrange(nums)"
      ]
    },
    {
      "cell_type": "markdown",
      "metadata": {
        "id": "8C8jgZiRye5P"
      },
      "source": [
        "## **Optimal Method**\n",
        "\n",
        "**Approach**:\n",
        "\n",
        "In this optimal approach, we will try to solve the problem in a single pass and try to arrange the array elements in the correct order in that pass only.\n",
        "We know that the resultant array must start from a positive element so we initialize the positive index as 0 and negative index as 1 and start traversing the array such that whenever we see the first positive element, it occupies the space at 0 and then posIndex increases by 2 (alternate places).\n",
        "Similarly, when we encounter the first negative element, it occupies the position at index 1, and then each time we find a negative number, we put it on the negIndex and it increments by 2.\n",
        "When both the negIndex and posIndex exceed the size of the array, we see that the whole array is now rearranged alternatively according to the sign."
      ]
    },
    {
      "cell_type": "code",
      "execution_count": null,
      "metadata": {
        "id": "Pk8YuT_Ax2KG"
      },
      "outputs": [],
      "source": []
    },
    {
      "cell_type": "markdown",
      "metadata": {
        "id": "IRKMeBEg0PJw"
      },
      "source": [
        "# **next_permutation : find next lexicographically greater permutation**\n",
        "**Problem Statement**: Given an array Arr[] of integers, rearrange the numbers of the given array into the lexicographically next greater permutation of numbers.\n",
        "\n",
        "If such an arrangement is not possible, it must rearrange to the lowest possible order (i.e., sorted in ascending order).\n",
        "\n",
        "Examples\n",
        "```\n",
        "Example 1 :\n",
        "\n",
        "Input format: Arr[] = {1,3,2}\n",
        "Output: Arr[] = {2,1,3}\n",
        "Explanation: All permutations of {1,2,3} are {{1,2,3} , {1,3,2}, {2,13} , {2,3,1} , {3,1,2} , {3,2,1}}. So, the next permutation just after {1,3,2} is {2,1,3}.\n",
        "Example 2:\n",
        "\n",
        "Input format: Arr[] = {3,2,1}\n",
        "Output: Arr[] = {1,2,3}\n",
        "Explanation: As we see all permutations of {1,2,3}, we find {3,2,1} at the last position. So, we have to return the topmost permutation.\n",
        "```"
      ]
    },
    {
      "cell_type": "markdown",
      "metadata": {
        "id": "88Zc1LlX4_eG"
      },
      "source": [
        "### **THIS IS DONE USING DYNAMIC PROGRAMING SO WE WILL SKIP FOR NOW AND COME BACK WHEN READY**"
      ]
    },
    {
      "cell_type": "code",
      "execution_count": null,
      "metadata": {
        "id": "8W6n49wB0XuM"
      },
      "outputs": [],
      "source": []
    },
    {
      "cell_type": "markdown",
      "metadata": {
        "id": "XNndSLES5LXV"
      },
      "source": [
        "# **Leaders in an Array**\n",
        "**Problem Statement**: Given an array, print all the elements which are leaders. A Leader is an element that is greater than all of the elements on its right side in the array.\n",
        "\n",
        "Examples\n",
        "```\n",
        "Example 1:\n",
        "Input:\n",
        " arr = [4, 7, 1, 0]\n",
        "Output:\n",
        " 7 1 0\n",
        "Explanation:\n",
        " Rightmost element is always a leader. 7 and 1 are greater than the elements in their right side.\n",
        "\n",
        "Example 2:\n",
        "Input:\n",
        " arr = [10, 22, 12, 3, 0, 6]\n",
        "Output:\n",
        " 22 12 6\n",
        "Explanation:\n",
        " 6 is a leader. In addition to that, 12 is greater than all the elements in its right side (3, 0, 6), also 22 is greater than 12, 3, 0, 6.\n",
        " ```"
      ]
    },
    {
      "cell_type": "code",
      "execution_count": null,
      "metadata": {
        "colab": {
          "background_save": true,
          "base_uri": "https://localhost:8080/"
        },
        "id": "-AIGEdiV0XDP",
        "outputId": "750fd126-4276-4eaa-b9de-b6fd1a571a1f"
      },
      "outputs": [
        {
          "name": "stdout",
          "output_type": "stream",
          "text": [
            "value of i = 0 and value 10\n",
            "previose max 0\n",
            " j = 22 and i = 10\n",
            "after maximum 22\n",
            "previose max 10\n",
            " j = 12 and i = 10\n",
            "after maximum 12\n",
            "value of i = 1 and value 22\n",
            "value of i = 2 and value 12\n",
            "value of i = 3 and value 3\n",
            "value of i = 4 and value 0\n",
            "value of i = 5 and value 6\n",
            "[22, 12]\n"
          ]
        }
      ],
      "source": [
        "def leaders(nums):\n",
        "  maxi = []\n",
        "  maximum = 0\n",
        "\n",
        "  for i in range(len(nums)):\n",
        "    print(f\"value of i = {i} and\")\n",
        "\n",
        "    for j in range(i+1,len(nums)):\n",
        "      if nums[j]>nums[i]:\n",
        "        print(f\"previose max {maximum}\")\n",
        "        print(f\" j = {nums[j]} and i = {nums[i]}\")\n",
        "        maximum = max(maximum,nums[j])\n",
        "        print(f\"after maximum {maximum}\")\n",
        "      else:\n",
        "        break\n",
        "      if maximum>0:\n",
        "        print(f\"append maximum {maximum}\")\n",
        "\n",
        "        maxi.append(maximum)\n",
        "        maximum = nums[i]\n",
        "\n",
        "  print(maxi)\n",
        "\n",
        "\n",
        "nums = [10, 22, 12, 3, 0, 6]\n",
        "leaders(nums)"
      ]
    },
    {
      "cell_type": "markdown",
      "source": [
        "# **Longest Consecutive Sequence in an Array**\n",
        "**Problem Statement**: You are given an array of ‘N’ integers. You need to find the length of the longest sequence which contains the consecutive elements.\n",
        "\n",
        "Examples\n",
        "```\n",
        "Example 1:\n",
        "\n",
        "Input: [100, 200, 1, 3, 2, 4]\n",
        "\n",
        "Output: 4\n",
        "\n",
        "Explanation: The longest consecutive subsequence is 1, 2, 3, and 4.\n",
        "\n",
        "Input: [3, 8, 5, 7, 6]\n",
        "\n",
        "Output: 4\n",
        "\n",
        "Explanation: The longest consecutive subsequence is 5, 6, 7, and 8.\n",
        "```"
      ],
      "metadata": {
        "id": "GR6Vo-gdzOJ6"
      }
    },
    {
      "cell_type": "markdown",
      "source": [
        "## **NOT DONE PLEASE REVISIT**"
      ],
      "metadata": {
        "id": "9vN3cCND11sm"
      }
    },
    {
      "cell_type": "markdown",
      "source": [
        "# **Set Matrix Zero**\n",
        "**Problem Statement**: Given a matrix if an element in the matrix is 0 then you will have to set its entire column and row to 0 and then return the matrix.\n",
        "\n",
        "Examples\n",
        "```\n",
        "Examples 1:\n",
        "\n",
        "Input: matrix=[[1,1,1],[1,0,1],[1,1,1]]\n",
        "\n",
        "Output: [[1,0,1],[0,0,0],[1,0,1]]\n",
        "\n",
        "Explanation: Since matrix[2][2]=0.Therfore the 2nd column and 2nd row wil be set to 0.\n",
        "\n",
        "Input: matrix=[[0,1,2,0],[3,4,5,2],[1,3,1,5]]\n",
        "\n",
        "Output:[[0,0,0,0],[0,4,5,0],[0,3,1,0]]\n",
        "\n",
        "Explanation:Since matrix[0][0]=0 and matrix[0][3]=0. Therefore 1st row, 1st column and 4th column will be set to 0\n",
        "```"
      ],
      "metadata": {
        "id": "A9J_Y_ta2AjN"
      }
    },
    {
      "cell_type": "code",
      "execution_count": 3,
      "metadata": {
        "id": "R3PkxnEwRWA5",
        "colab": {
          "base_uri": "https://localhost:8080/"
        },
        "outputId": "f72371cd-67c8-4a6e-fcfc-d9b89a677023"
      },
      "outputs": [
        {
          "output_type": "execute_result",
          "data": {
            "text/plain": [
              "[[1, 1, 1], [1, 0, 1], [1, 1, 1]]"
            ]
          },
          "metadata": {},
          "execution_count": 3
        }
      ],
      "source": [
        "def makezero(matrix,n,m):\n",
        "  for i in range(n):\n",
        "    for j in range(m):\n",
        "      if matrix[i][j] == 0:\n",
        "        markrow(matrix,n,m,i)\n",
        "        markcol(matrix,n,m,j)\n",
        "  for i in range(n):\n",
        "    for j in range(m):\n",
        "      if matrix[i][j] == -1:\n",
        "        matrix[i][j] = 0\n",
        "  return matrix\n",
        "\n",
        "\n",
        "def markrow(matrix,n,m,i):\n",
        "  for j in range(n):\n",
        "    if matrix[i][j]!=0:\n",
        "      matrix[i][j]==0\n",
        "\n",
        "def markcol(matrix,n,m,j):\n",
        "  for i in range(n):\n",
        "    if matrix[i][j]!=0:\n",
        "      matrix[i][j]==0\n",
        "\n",
        "\n",
        "\n",
        "\n",
        "matrix = [[1,1,1],[1,0,1],[1,1,1]]\n",
        "n = len(matrix)\n",
        "m = len(matrix[0])\n",
        "makezero(matrix,n,m)"
      ]
    },
    {
      "cell_type": "code",
      "source": [],
      "metadata": {
        "id": "99CJZIzf-Ikj"
      },
      "execution_count": null,
      "outputs": []
    }
  ],
  "metadata": {
    "colab": {
      "provenance": []
    },
    "kernelspec": {
      "display_name": "Python 3",
      "name": "python3"
    },
    "language_info": {
      "name": "python"
    }
  },
  "nbformat": 4,
  "nbformat_minor": 0
}
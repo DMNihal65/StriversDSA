{
  "nbformat": 4,
  "nbformat_minor": 0,
  "metadata": {
    "colab": {
      "provenance": []
    },
    "kernelspec": {
      "name": "python3",
      "display_name": "Python 3"
    },
    "language_info": {
      "name": "python"
    }
  },
  "cells": [
    {
      "cell_type": "markdown",
      "source": [
        "# **Two Sum : Check if a pair with given sum exists in Array**\n",
        "**Problem Statement** : Given an array of integers arr[] and an integer target.\n",
        "\n",
        "1st variant: Return YES if there exist two numbers such that their sum is equal to the target. Otherwise, return NO.\n",
        "\n",
        "2nd variant: Return indices of the two numbers such that their sum is equal to the target. Otherwise, we will return {-1, -1}.\n",
        "\n",
        "Note: You are not allowed to use the same element twice. Example: If the target is equal to 6 and num[1] = 3, then nums[1] + nums[1] = target is not a solution.\n",
        "\n",
        "Examples:\n",
        "```\n",
        "Example 1:\n",
        "Input Format: N = 5, arr[] = {2,6,5,8,11}, target = 14\n",
        "Result: YES (for 1st variant)\n",
        "       [1, 3] (for 2nd variant)\n",
        "Explanation: arr[1] + arr[3] = 14. So, the answer is “YES” for the first variant and [1, 3] for 2nd variant.\n",
        "\n",
        "Example 2:\n",
        "Input Format: N = 5, arr[] = {2,6,5,8,11}, target = 15\n",
        "Result: NO (for 1st variant)\n",
        "\t[-1, -1] (for 2nd variant)\n",
        "Explanation: There exist no such two numbers whose sum is equal to the target.\n",
        "\n",
        "```"
      ],
      "metadata": {
        "id": "Johe1vrsylTG"
      }
    },
    {
      "cell_type": "code",
      "execution_count": 10,
      "metadata": {
        "colab": {
          "base_uri": "https://localhost:8080/"
        },
        "id": "_p37mhmqyVxs",
        "outputId": "a1d15825-6ac1-4192-90b7-06b95a1b1f83"
      },
      "outputs": [
        {
          "output_type": "stream",
          "name": "stdout",
          "text": [
            "first index = 1 value 7, Second index 3 and value 8\n",
            "True\n"
          ]
        }
      ],
      "source": [
        "# variant 1\n",
        "def twosum(nums,k):\n",
        "  for i in range(len(nums)):\n",
        "    for j in range(i+1,len(nums)):\n",
        "      if nums[i]+nums[j] == k:\n",
        "        print(f\"first index = {i} value {nums[i]}, Second index {j} and value {nums[j]}\")\n",
        "        return True\n",
        "  return False\n",
        "\n",
        "\n",
        "\n",
        "\n",
        "\n",
        "\n",
        "nums = [2,7,5,8,11]\n",
        "k = 15\n",
        "\n",
        "print(twosum(nums,k))"
      ]
    },
    {
      "cell_type": "markdown",
      "source": [
        "# **Sort an array of 0s, 1s and 2s**\n",
        "**Problem Statement** : Given an array consisting of only 0s, 1s, and 2s. Write a program to in-place sort the array without using inbuilt sort functions. ( Expected: Single pass-O(N) and constant space)\n",
        "\n",
        "Examples\n",
        "```\n",
        "Input: nums = [2,0,2,1,1,0]\n",
        "Output: [0,0,1,1,2,2]\n",
        "\n",
        "Input: nums = [2,0,1]\n",
        "Output: [0,1,2]\n",
        "\n",
        "Input: nums = [0]\n",
        "Output: [0]\n",
        "```"
      ],
      "metadata": {
        "id": "HzwpLeok25VC"
      }
    },
    {
      "cell_type": "markdown",
      "source": [
        "**Sorting**"
      ],
      "metadata": {
        "id": "tkvzzdizL_yg"
      }
    },
    {
      "cell_type": "code",
      "source": [
        "def sortarr(nums):\n",
        "  for i in range(len(nums)-1):\n",
        "    for j in range(len(nums)-i-1):\n",
        "\n",
        "      if nums[j]>=nums[j+1]:\n",
        "\n",
        "        nums[j],nums[j+1]=nums[j+1],nums[j]\n",
        "  print(nums)\n",
        "\n",
        "\n",
        "\n",
        "nums = [2,0,2,1,1,0]\n",
        "sortarr(nums)"
      ],
      "metadata": {
        "colab": {
          "base_uri": "https://localhost:8080/"
        },
        "id": "2Mhi2kZnL_Tq",
        "outputId": "51c6e217-2c92-43a8-dc83-a2a3f1498310"
      },
      "execution_count": 25,
      "outputs": [
        {
          "output_type": "stream",
          "name": "stdout",
          "text": [
            "[0, 0, 1, 1, 2, 2]\n"
          ]
        }
      ]
    },
    {
      "cell_type": "markdown",
      "source": [
        "Hash Maps"
      ],
      "metadata": {
        "id": "8ppWNe673VGu"
      }
    },
    {
      "cell_type": "code",
      "source": [
        "def sortarr(nums):\n",
        "  freq = {}\n",
        "  temp =[]\n",
        "  for var in nums:\n",
        "    if var in freq:\n",
        "      freq[var]+=1\n",
        "    else:\n",
        "      freq[var] = 1\n",
        "  for i in range(freq[0]):\n",
        "    print(f\"imside 0 {i}\")\n",
        "\n",
        "    nums[i]= 0\n",
        "    print(nums)\n",
        "  for i in range(freq[0],len(nums)):\n",
        "    print(f\"inside 1 {i}\")\n",
        "    nums[i]=1\n",
        "  for i in range(freq[0]+freq[1],len(nums)):\n",
        "    nums[i]=2\n",
        "\n",
        "\n",
        "  print(nums)\n",
        "\n",
        "\n",
        "nums = [2,0,2,1,1,0]\n",
        "sortarr(nums)"
      ],
      "metadata": {
        "colab": {
          "base_uri": "https://localhost:8080/"
        },
        "id": "2XGE7f1qz1OM",
        "outputId": "c69e103b-2e37-49c9-f1ca-0113ad481514"
      },
      "execution_count": 48,
      "outputs": [
        {
          "output_type": "stream",
          "name": "stdout",
          "text": [
            "imside 0 0\n",
            "[0, 0, 2, 1, 1, 0]\n",
            "imside 0 1\n",
            "[0, 0, 2, 1, 1, 0]\n",
            "inside 1 2\n",
            "inside 1 3\n",
            "inside 1 4\n",
            "inside 1 5\n",
            "[0, 0, 1, 1, 2, 2]\n"
          ]
        }
      ]
    },
    {
      "cell_type": "markdown",
      "source": [
        "**OPTIMAL APPROCH**\n",
        "\n",
        "Approach:\n",
        "\n",
        "Note: Here in this tutorial we will work based on the value of the mid pointer.\n",
        "\n",
        "The steps will be the following:\n",
        "\n",
        "First, we will run a loop that will continue until mid <= high.\n",
        "There can be three different values of mid pointer i.e. arr[mid]\n",
        "If arr[mid] == 0, we will swap arr[low] and arr[mid] and will increment both low and mid. Now the subarray from index 0 to (low-1) only contains 0.\n",
        "If arr[mid] == 1, we will just increment the mid pointer and then the index (mid-1) will point to 1 as it should according to the rules.\n",
        "If arr[mid] == 2, we will swap arr[mid] and arr[high] and will decrement high. Now the subarray from index high+1 to (n-1) only contains 2.\n",
        "In this step, we will do nothing to the mid-pointer as even after swapping, the subarray from mid to high(after decrementing high) might be unsorted. So, we will check the value of mid again in the next iteration.\n",
        "Finally, our array should be sorted."
      ],
      "metadata": {
        "id": "p2NZ-UrHTRL5"
      }
    },
    {
      "cell_type": "code",
      "source": [
        "def sortarr(nums):\n",
        "  mid=0\n",
        "  low=0\n",
        "  high=len(nums)-1\n",
        "  while mid<=high:\n",
        "    print(\"inside\")\n",
        "    if nums[mid]==0:\n",
        "      nums[mid],nums[low]=nums[low],nums[mid]\n",
        "      mid+=1\n",
        "      low+=1\n",
        "    elif nums[mid]==1:\n",
        "      mid+=1\n",
        "    else :\n",
        "      nums[mid],nums[high]=nums[high],nums[mid]\n",
        "\n",
        "      high-=1\n",
        "  print(nums)\n",
        "\n",
        "\n",
        "\n",
        "\n",
        "\n",
        "\n",
        "nums = [2,0,2,1,1,0]\n",
        "sortarr(nums)"
      ],
      "metadata": {
        "colab": {
          "base_uri": "https://localhost:8080/"
        },
        "id": "pdFc1MFZ3Sb5",
        "outputId": "0a76b7e6-adc4-468d-da93-96ab1bb93761"
      },
      "execution_count": 55,
      "outputs": [
        {
          "output_type": "stream",
          "name": "stdout",
          "text": [
            "inside\n",
            "inside\n",
            "inside\n",
            "inside\n",
            "inside\n",
            "inside\n",
            "[0, 0, 1, 1, 2, 2]\n"
          ]
        }
      ]
    },
    {
      "cell_type": "markdown",
      "source": [
        "# **Find the Majority Element that occurs more than N/2 times**\n",
        "**Problem Statement** : Given an array of N integers, write a program to return an element that occurs more than N/2 times in the given array. You may consider that such an element always exists in the array.\n",
        "\n",
        "Examples\n",
        "```\n",
        "Example 1:\n",
        "Input Format: N = 3, nums[] = {3,2,3}\n",
        "Result: 3\n",
        "Explanation: When we just count the occurrences of each number and compare with half of the size of the array, you will get 3 for the above solution.\n",
        "\n",
        "Example 2:\n",
        "Input Format:  N = 7, nums[] = {2,2,1,1,1,2,2}\n",
        "\n",
        "Result: 2\n",
        "\n",
        "Explanation: After counting the number of times each element appears and comparing it with half of array size, we get 2 as result.\n",
        "\n",
        "Example 3:\n",
        "Input Format:  N = 10, nums[] = {4,4,2,4,3,4,4,3,2,4}\n",
        "\n",
        "Result: 4\n",
        "```"
      ],
      "metadata": {
        "id": "DfaYHVSOVqXT"
      }
    },
    {
      "cell_type": "code",
      "source": [
        "def countacc(nums):\n",
        "  count = 0\n",
        "  for i in range(len(nums)):\n",
        "    for j in range(len(nums)):\n",
        "      if nums[i]==nums[j]:\n",
        "        count+= 1\n",
        "        if count == (len(nums)//2):\n",
        "          return nums[i]\n",
        "  return -1\n",
        "\n",
        "\n",
        "nums = [2,2,1,1,1,2,2]\n",
        "countacc(nums)"
      ],
      "metadata": {
        "colab": {
          "base_uri": "https://localhost:8080/"
        },
        "id": "RlJWchmEUPmB",
        "outputId": "f5dff0e7-a2b6-4145-a771-d5f0bff6d93c"
      },
      "execution_count": 58,
      "outputs": [
        {
          "output_type": "execute_result",
          "data": {
            "text/plain": [
              "2"
            ]
          },
          "metadata": {},
          "execution_count": 58
        }
      ]
    },
    {
      "cell_type": "markdown",
      "source": [
        "**Using Hashmap**"
      ],
      "metadata": {
        "id": "Hniwc7JwXhMC"
      }
    },
    {
      "cell_type": "code",
      "source": [
        "def countacc(nums):\n",
        "  fr ={}\n",
        "  for num in nums:\n",
        "    if num in fr:\n",
        "      fr[num]+=1\n",
        "    else :\n",
        "      fr[num]=1\n",
        "  for num, count in fr.items():\n",
        "        if count > len(nums) / 2:\n",
        "            return num\n",
        "  return None\n",
        "\n",
        "\n",
        "\n",
        "nums = [2,2,1,1,1,2,2]\n",
        "countacc(nums)"
      ],
      "metadata": {
        "colab": {
          "base_uri": "https://localhost:8080/"
        },
        "id": "hi_SRk6HXTsu",
        "outputId": "b9d3512a-329c-4450-c76d-458998f03552"
      },
      "execution_count": 65,
      "outputs": [
        {
          "output_type": "execute_result",
          "data": {
            "text/plain": [
              "2"
            ]
          },
          "metadata": {},
          "execution_count": 65
        }
      ]
    },
    {
      "cell_type": "markdown",
      "source": [
        "**Using the HashMap and Inbuilt counter**"
      ],
      "metadata": {
        "id": "QX0N28-wZ4UJ"
      }
    },
    {
      "cell_type": "code",
      "source": [
        "from collections import Counter\n",
        "\n",
        "def majorityElement(arr):\n",
        "    # Size of the given array\n",
        "    n = len(arr)\n",
        "\n",
        "    # Count the occurrences of each element using Counter\n",
        "    counter = Counter(arr)\n",
        "\n",
        "    # Searching for the majority element\n",
        "    for num, count in counter.items():\n",
        "        if count > (n // 2):\n",
        "            return num\n",
        "\n",
        "    return -1\n",
        "\n",
        "arr = [2, 2, 1, 1, 1, 2, 2]\n",
        "ans = majorityElement(arr)\n",
        "print(\"The majority element is:\", ans)"
      ],
      "metadata": {
        "colab": {
          "base_uri": "https://localhost:8080/"
        },
        "id": "CoTyak5HYG32",
        "outputId": "3ac3cb24-1e88-4899-d990-99b24af017de"
      },
      "execution_count": 66,
      "outputs": [
        {
          "output_type": "stream",
          "name": "stdout",
          "text": [
            "The majority element is: 2\n"
          ]
        }
      ]
    },
    {
      "cell_type": "markdown",
      "source": [
        "### **Optimal Approach: Moore’s Voting Algorithm:**\n",
        "Intuition:\n",
        "If the array contains a majority element, its occurrence must be greater than the floor(N/2). Now, we can say that the count of minority elements and majority elements is equal up to a certain point in the array. So when we traverse through the array we try to keep track of the count of elements and the element itself for which we are tracking the count.\n",
        "\n",
        "After traversing the whole array, we will check the element stored in the variable. If the question states that the array must contain a majority element, the stored element will be that one but if the question does not state so, then we need to check if the stored element is the majority element or not. If not, then the array does not contain any majority element.\n",
        "\n",
        "Approach:\n",
        "Initialize 2 variables:\n",
        "Count –  for tracking the count of element\n",
        "Element – for which element we are counting\n",
        "Traverse through the given array.\n",
        "If Count is 0 then store the current element of the array as Element.\n",
        "If the current element and Element are the same increase the Count by 1.\n",
        "If they are different decrease the Count by 1.\n",
        "The integer present in Element should be the result we are expecting\n",
        "\n",
        "\n",
        "\n",
        "\n",
        "Basically, we are trying to keep track of the occurrences of the majority element and minority elements dynamically. That is why, in iteration 4, the count becomes 0 as the occurrence of Element and the occurrence of the other elements are the same. So, they canceled each other. This is how the process works. The element with the most occurrence will remain and the rest will cancel themselves.\n",
        "\n",
        "Here, we can see that 2 is the majority element. But if in this array, the last two elements were 3, then the Element variable would have stored 3 instead of 2. For that, we need to check if the Element is the majority element by traversing the array once more. But if the question guarantees that the given array contains a majority element, then we can bet the Element will store the majority one.\n",
        "\n",
        "Note: For a better understanding of intuition, please watch the video at the bottom of the page."
      ],
      "metadata": {
        "id": "3DBAhK4bbp6d"
      }
    },
    {
      "cell_type": "code",
      "source": [
        "def countacc(nums):\n",
        "  count=0\n",
        "  elm = 0\n",
        "  for i in range(len(nums)):\n",
        "    if count==0:\n",
        "      elm = nums[i]\n",
        "    if elm == nums[i]:\n",
        "      count+=1\n",
        "    else:\n",
        "      count-=1\n",
        "  return elm\n",
        "\n",
        "\n",
        "\n",
        "nums = [2,2,1,1,1,2,2]\n",
        "countacc(nums)"
      ],
      "metadata": {
        "colab": {
          "base_uri": "https://localhost:8080/"
        },
        "id": "hpBbT_grZ-GO",
        "outputId": "094f3edf-ebda-45f5-cc4d-bc891b5fa1e0"
      },
      "execution_count": 67,
      "outputs": [
        {
          "output_type": "execute_result",
          "data": {
            "text/plain": [
              "2"
            ]
          },
          "metadata": {},
          "execution_count": 67
        }
      ]
    },
    {
      "cell_type": "code",
      "source": [],
      "metadata": {
        "id": "htnAB_dUcsAx"
      },
      "execution_count": null,
      "outputs": []
    }
  ]
}
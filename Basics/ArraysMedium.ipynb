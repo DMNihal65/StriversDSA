{
  "nbformat": 4,
  "nbformat_minor": 0,
  "metadata": {
    "colab": {
      "provenance": []
    },
    "kernelspec": {
      "name": "python3",
      "display_name": "Python 3"
    },
    "language_info": {
      "name": "python"
    }
  },
  "cells": [
    {
      "cell_type": "markdown",
      "source": [
        "# **Two Sum : Check if a pair with given sum exists in Array**\n",
        "**Problem Statement** : Given an array of integers arr[] and an integer target.\n",
        "\n",
        "1st variant: Return YES if there exist two numbers such that their sum is equal to the target. Otherwise, return NO.\n",
        "\n",
        "2nd variant: Return indices of the two numbers such that their sum is equal to the target. Otherwise, we will return {-1, -1}.\n",
        "\n",
        "Note: You are not allowed to use the same element twice. Example: If the target is equal to 6 and num[1] = 3, then nums[1] + nums[1] = target is not a solution.\n",
        "\n",
        "Examples:\n",
        "```\n",
        "Example 1:\n",
        "Input Format: N = 5, arr[] = {2,6,5,8,11}, target = 14\n",
        "Result: YES (for 1st variant)\n",
        "       [1, 3] (for 2nd variant)\n",
        "Explanation: arr[1] + arr[3] = 14. So, the answer is “YES” for the first variant and [1, 3] for 2nd variant.\n",
        "\n",
        "Example 2:\n",
        "Input Format: N = 5, arr[] = {2,6,5,8,11}, target = 15\n",
        "Result: NO (for 1st variant)\n",
        "\t[-1, -1] (for 2nd variant)\n",
        "Explanation: There exist no such two numbers whose sum is equal to the target.\n",
        "\n",
        "```"
      ],
      "metadata": {
        "id": "Johe1vrsylTG"
      }
    },
    {
      "cell_type": "code",
      "execution_count": null,
      "metadata": {
        "colab": {
          "base_uri": "https://localhost:8080/"
        },
        "id": "_p37mhmqyVxs",
        "outputId": "a1d15825-6ac1-4192-90b7-06b95a1b1f83"
      },
      "outputs": [
        {
          "output_type": "stream",
          "name": "stdout",
          "text": [
            "first index = 1 value 7, Second index 3 and value 8\n",
            "True\n"
          ]
        }
      ],
      "source": [
        "# variant 1\n",
        "def twosum(nums,k):\n",
        "  for i in range(len(nums)):\n",
        "    for j in range(i+1,len(nums)):\n",
        "      if nums[i]+nums[j] == k:\n",
        "        print(f\"first index = {i} value {nums[i]}, Second index {j} and value {nums[j]}\")\n",
        "        return True\n",
        "  return False\n",
        "\n",
        "\n",
        "\n",
        "\n",
        "\n",
        "\n",
        "nums = [2,7,5,8,11]\n",
        "k = 15\n",
        "\n",
        "print(twosum(nums,k))"
      ]
    },
    {
      "cell_type": "markdown",
      "source": [
        "# **Sort an array of 0s, 1s and 2s**\n",
        "**Problem Statement** : Given an array consisting of only 0s, 1s, and 2s. Write a program to in-place sort the array without using inbuilt sort functions. ( Expected: Single pass-O(N) and constant space)\n",
        "\n",
        "Examples\n",
        "```\n",
        "Input: nums = [2,0,2,1,1,0]\n",
        "Output: [0,0,1,1,2,2]\n",
        "\n",
        "Input: nums = [2,0,1]\n",
        "Output: [0,1,2]\n",
        "\n",
        "Input: nums = [0]\n",
        "Output: [0]\n",
        "```"
      ],
      "metadata": {
        "id": "HzwpLeok25VC"
      }
    },
    {
      "cell_type": "markdown",
      "source": [
        "**Sorting**"
      ],
      "metadata": {
        "id": "tkvzzdizL_yg"
      }
    },
    {
      "cell_type": "code",
      "source": [
        "def sortarr(nums):\n",
        "  for i in range(len(nums)-1):\n",
        "    for j in range(len(nums)-i-1):\n",
        "\n",
        "      if nums[j]>=nums[j+1]:\n",
        "\n",
        "        nums[j],nums[j+1]=nums[j+1],nums[j]\n",
        "  print(nums)\n",
        "\n",
        "\n",
        "\n",
        "nums = [2,0,2,1,1,0]\n",
        "sortarr(nums)"
      ],
      "metadata": {
        "colab": {
          "base_uri": "https://localhost:8080/"
        },
        "id": "2Mhi2kZnL_Tq",
        "outputId": "51c6e217-2c92-43a8-dc83-a2a3f1498310"
      },
      "execution_count": null,
      "outputs": [
        {
          "output_type": "stream",
          "name": "stdout",
          "text": [
            "[0, 0, 1, 1, 2, 2]\n"
          ]
        }
      ]
    },
    {
      "cell_type": "markdown",
      "source": [
        "Hash Maps"
      ],
      "metadata": {
        "id": "8ppWNe673VGu"
      }
    },
    {
      "cell_type": "code",
      "source": [
        "def sortarr(nums):\n",
        "  freq = {}\n",
        "  temp =[]\n",
        "  for var in nums:\n",
        "    if var in freq:\n",
        "      freq[var]+=1\n",
        "    else:\n",
        "      freq[var] = 1\n",
        "  for i in range(freq[0]):\n",
        "    print(f\"imside 0 {i}\")\n",
        "\n",
        "    nums[i]= 0\n",
        "    print(nums)\n",
        "  for i in range(freq[0],len(nums)):\n",
        "    print(f\"inside 1 {i}\")\n",
        "    nums[i]=1\n",
        "  for i in range(freq[0]+freq[1],len(nums)):\n",
        "    nums[i]=2\n",
        "\n",
        "\n",
        "  print(nums)\n",
        "\n",
        "\n",
        "nums = [2,0,2,1,1,0]\n",
        "sortarr(nums)"
      ],
      "metadata": {
        "colab": {
          "base_uri": "https://localhost:8080/"
        },
        "id": "2XGE7f1qz1OM",
        "outputId": "c69e103b-2e37-49c9-f1ca-0113ad481514"
      },
      "execution_count": null,
      "outputs": [
        {
          "output_type": "stream",
          "name": "stdout",
          "text": [
            "imside 0 0\n",
            "[0, 0, 2, 1, 1, 0]\n",
            "imside 0 1\n",
            "[0, 0, 2, 1, 1, 0]\n",
            "inside 1 2\n",
            "inside 1 3\n",
            "inside 1 4\n",
            "inside 1 5\n",
            "[0, 0, 1, 1, 2, 2]\n"
          ]
        }
      ]
    },
    {
      "cell_type": "markdown",
      "source": [
        "**OPTIMAL APPROCH**\n",
        "\n",
        "Approach:\n",
        "\n",
        "Note: Here in this tutorial we will work based on the value of the mid pointer.\n",
        "\n",
        "The steps will be the following:\n",
        "\n",
        "First, we will run a loop that will continue until mid <= high.\n",
        "There can be three different values of mid pointer i.e. arr[mid]\n",
        "If arr[mid] == 0, we will swap arr[low] and arr[mid] and will increment both low and mid. Now the subarray from index 0 to (low-1) only contains 0.\n",
        "If arr[mid] == 1, we will just increment the mid pointer and then the index (mid-1) will point to 1 as it should according to the rules.\n",
        "If arr[mid] == 2, we will swap arr[mid] and arr[high] and will decrement high. Now the subarray from index high+1 to (n-1) only contains 2.\n",
        "In this step, we will do nothing to the mid-pointer as even after swapping, the subarray from mid to high(after decrementing high) might be unsorted. So, we will check the value of mid again in the next iteration.\n",
        "Finally, our array should be sorted."
      ],
      "metadata": {
        "id": "p2NZ-UrHTRL5"
      }
    },
    {
      "cell_type": "code",
      "source": [
        "def sortarr(nums):\n",
        "  mid=0\n",
        "  low=0\n",
        "  high=len(nums)-1\n",
        "  while mid<=high:\n",
        "    print(\"inside\")\n",
        "    if nums[mid]==0:\n",
        "      nums[mid],nums[low]=nums[low],nums[mid]\n",
        "      mid+=1\n",
        "      low+=1\n",
        "    elif nums[mid]==1:\n",
        "      mid+=1\n",
        "    else :\n",
        "      nums[mid],nums[high]=nums[high],nums[mid]\n",
        "\n",
        "      high-=1\n",
        "  print(nums)\n",
        "\n",
        "\n",
        "\n",
        "\n",
        "\n",
        "\n",
        "nums = [2,0,2,1,1,0]\n",
        "sortarr(nums)"
      ],
      "metadata": {
        "colab": {
          "base_uri": "https://localhost:8080/"
        },
        "id": "pdFc1MFZ3Sb5",
        "outputId": "0a76b7e6-adc4-468d-da93-96ab1bb93761"
      },
      "execution_count": null,
      "outputs": [
        {
          "output_type": "stream",
          "name": "stdout",
          "text": [
            "inside\n",
            "inside\n",
            "inside\n",
            "inside\n",
            "inside\n",
            "inside\n",
            "[0, 0, 1, 1, 2, 2]\n"
          ]
        }
      ]
    },
    {
      "cell_type": "markdown",
      "source": [
        "# **Find the Majority Element that occurs more than N/2 times**\n",
        "**Problem Statement** : Given an array of N integers, write a program to return an element that occurs more than N/2 times in the given array. You may consider that such an element always exists in the array.\n",
        "\n",
        "Examples\n",
        "```\n",
        "Example 1:\n",
        "Input Format: N = 3, nums[] = {3,2,3}\n",
        "Result: 3\n",
        "Explanation: When we just count the occurrences of each number and compare with half of the size of the array, you will get 3 for the above solution.\n",
        "\n",
        "Example 2:\n",
        "Input Format:  N = 7, nums[] = {2,2,1,1,1,2,2}\n",
        "\n",
        "Result: 2\n",
        "\n",
        "Explanation: After counting the number of times each element appears and comparing it with half of array size, we get 2 as result.\n",
        "\n",
        "Example 3:\n",
        "Input Format:  N = 10, nums[] = {4,4,2,4,3,4,4,3,2,4}\n",
        "\n",
        "Result: 4\n",
        "```"
      ],
      "metadata": {
        "id": "DfaYHVSOVqXT"
      }
    },
    {
      "cell_type": "code",
      "source": [
        "def countacc(nums):\n",
        "  count = 0\n",
        "  for i in range(len(nums)):\n",
        "    for j in range(len(nums)):\n",
        "      if nums[i]==nums[j]:\n",
        "        count+= 1\n",
        "        if count == (len(nums)//2):\n",
        "          return nums[i]\n",
        "  return -1\n",
        "\n",
        "\n",
        "nums = [2,2,1,1,1,2,2]\n",
        "countacc(nums)"
      ],
      "metadata": {
        "colab": {
          "base_uri": "https://localhost:8080/"
        },
        "id": "RlJWchmEUPmB",
        "outputId": "f5dff0e7-a2b6-4145-a771-d5f0bff6d93c"
      },
      "execution_count": null,
      "outputs": [
        {
          "output_type": "execute_result",
          "data": {
            "text/plain": [
              "2"
            ]
          },
          "metadata": {},
          "execution_count": 58
        }
      ]
    },
    {
      "cell_type": "markdown",
      "source": [
        "**Using Hashmap**"
      ],
      "metadata": {
        "id": "Hniwc7JwXhMC"
      }
    },
    {
      "cell_type": "code",
      "source": [
        "def countacc(nums):\n",
        "  fr ={}\n",
        "  for num in nums:\n",
        "    if num in fr:\n",
        "      fr[num]+=1\n",
        "    else :\n",
        "      fr[num]=1\n",
        "  for num, count in fr.items():\n",
        "        if count > len(nums) / 2:\n",
        "            return num\n",
        "  return None\n",
        "\n",
        "\n",
        "\n",
        "nums = [2,2,1,1,1,2,2]\n",
        "countacc(nums)"
      ],
      "metadata": {
        "colab": {
          "base_uri": "https://localhost:8080/"
        },
        "id": "hi_SRk6HXTsu",
        "outputId": "b9d3512a-329c-4450-c76d-458998f03552"
      },
      "execution_count": null,
      "outputs": [
        {
          "output_type": "execute_result",
          "data": {
            "text/plain": [
              "2"
            ]
          },
          "metadata": {},
          "execution_count": 65
        }
      ]
    },
    {
      "cell_type": "markdown",
      "source": [
        "**Using the HashMap and Inbuilt counter**"
      ],
      "metadata": {
        "id": "QX0N28-wZ4UJ"
      }
    },
    {
      "cell_type": "code",
      "source": [
        "from collections import Counter\n",
        "\n",
        "def majorityElement(arr):\n",
        "    # Size of the given array\n",
        "    n = len(arr)\n",
        "\n",
        "    # Count the occurrences of each element using Counter\n",
        "    counter = Counter(arr)\n",
        "\n",
        "    # Searching for the majority element\n",
        "    for num, count in counter.items():\n",
        "        if count > (n // 2):\n",
        "            return num\n",
        "\n",
        "    return -1\n",
        "\n",
        "arr = [2, 2, 1, 1, 1, 2, 2]\n",
        "ans = majorityElement(arr)\n",
        "print(\"The majority element is:\", ans)"
      ],
      "metadata": {
        "colab": {
          "base_uri": "https://localhost:8080/"
        },
        "id": "CoTyak5HYG32",
        "outputId": "3ac3cb24-1e88-4899-d990-99b24af017de"
      },
      "execution_count": null,
      "outputs": [
        {
          "output_type": "stream",
          "name": "stdout",
          "text": [
            "The majority element is: 2\n"
          ]
        }
      ]
    },
    {
      "cell_type": "markdown",
      "source": [
        "### **Optimal Approach: Moore’s Voting Algorithm:**\n",
        "Intuition:\n",
        "If the array contains a majority element, its occurrence must be greater than the floor(N/2). Now, we can say that the count of minority elements and majority elements is equal up to a certain point in the array. So when we traverse through the array we try to keep track of the count of elements and the element itself for which we are tracking the count.\n",
        "\n",
        "After traversing the whole array, we will check the element stored in the variable. If the question states that the array must contain a majority element, the stored element will be that one but if the question does not state so, then we need to check if the stored element is the majority element or not. If not, then the array does not contain any majority element.\n",
        "\n",
        "Approach:\n",
        "Initialize 2 variables:\n",
        "Count –  for tracking the count of element\n",
        "Element – for which element we are counting\n",
        "Traverse through the given array.\n",
        "If Count is 0 then store the current element of the array as Element.\n",
        "If the current element and Element are the same increase the Count by 1.\n",
        "If they are different decrease the Count by 1.\n",
        "The integer present in Element should be the result we are expecting\n",
        "\n",
        "\n",
        "\n",
        "\n",
        "Basically, we are trying to keep track of the occurrences of the majority element and minority elements dynamically. That is why, in iteration 4, the count becomes 0 as the occurrence of Element and the occurrence of the other elements are the same. So, they canceled each other. This is how the process works. The element with the most occurrence will remain and the rest will cancel themselves.\n",
        "\n",
        "Here, we can see that 2 is the majority element. But if in this array, the last two elements were 3, then the Element variable would have stored 3 instead of 2. For that, we need to check if the Element is the majority element by traversing the array once more. But if the question guarantees that the given array contains a majority element, then we can bet the Element will store the majority one.\n",
        "\n",
        "Note: For a better understanding of intuition, please watch the video at the bottom of the page."
      ],
      "metadata": {
        "id": "3DBAhK4bbp6d"
      }
    },
    {
      "cell_type": "code",
      "source": [
        "def countacc(nums):\n",
        "  count=0\n",
        "  elm = 0\n",
        "  for i in range(len(nums)):\n",
        "    if count==0:\n",
        "      elm = nums[i]\n",
        "    if elm == nums[i]:\n",
        "      count+=1\n",
        "    else:\n",
        "      count-=1\n",
        "  return elm\n",
        "\n",
        "\n",
        "\n",
        "nums = [2,2,1,1,1,2,2]\n",
        "countacc(nums)"
      ],
      "metadata": {
        "colab": {
          "base_uri": "https://localhost:8080/"
        },
        "id": "hpBbT_grZ-GO",
        "outputId": "094f3edf-ebda-45f5-cc4d-bc891b5fa1e0"
      },
      "execution_count": null,
      "outputs": [
        {
          "output_type": "execute_result",
          "data": {
            "text/plain": [
              "2"
            ]
          },
          "metadata": {},
          "execution_count": 67
        }
      ]
    },
    {
      "cell_type": "markdown",
      "source": [
        "# **Kadane’s Algorithm : Maximum Subarray Sum in an Array**\n",
        "**Problem Statement** : Given an integer array arr, find the contiguous subarray (containing at least one number) which\n",
        "has the largest sum and returns its sum and prints the subarray.\n",
        "\n",
        "Examples\n",
        "```\n",
        "Example 1:\n",
        "\n",
        "Input: arr = [-2,1,-3,4,-1,2,1,-5,4]\n",
        "\n",
        "Output: 6\n",
        "\n",
        "Explanation: [4,-1,2,1] has the largest sum = 6.\n",
        "\n",
        "Examples 2:\n",
        "\n",
        "Input: arr = [1]\n",
        "\n",
        "Output: 1\n",
        "\n",
        "Explanation: Array has only one element and which is giving positive sum of 1.\n",
        "```"
      ],
      "metadata": {
        "id": "Zu-ooMY2eGCK"
      }
    },
    {
      "cell_type": "code",
      "source": [
        "def kadan(nums):\n",
        "  max = 0\n",
        "  if len(nums)<=1:\n",
        "    return nums[0]\n",
        "  for i in range(len(nums)):\n",
        "    temp = nums[i]\n",
        "    print(f\"the i value {i}, and temp = {temp}\")\n",
        "    for j in range(i+1,len(nums)):\n",
        "      print(f\"the j value {j}\")\n",
        "      temp += nums[j]\n",
        "      print(f\"the temp value {temp} and the added no is {nums[j]}\")\n",
        "      if temp>=max:\n",
        "        print(f\"isnide the check and temp = {temp} and max = {max}\")\n",
        "        max = temp\n",
        "        print(f\"after reassigning max = {max}\")\n",
        "  return max\n",
        "\n",
        "\n",
        "nums = [5,4,-1,7,8]\n",
        "kadan(nums)"
      ],
      "metadata": {
        "id": "htnAB_dUcsAx",
        "colab": {
          "base_uri": "https://localhost:8080/"
        },
        "outputId": "071153de-5515-44a8-c576-aba63341b10c"
      },
      "execution_count": 25,
      "outputs": [
        {
          "output_type": "stream",
          "name": "stdout",
          "text": [
            "the i value 0, and temp = 5\n",
            "the j value 1\n",
            "the temp value 9 and the added no is 4\n",
            "isnide the check and temp = 9 and max = 0\n",
            "after reassigning max = 9\n",
            "the j value 2\n",
            "the temp value 8 and the added no is -1\n",
            "the j value 3\n",
            "the temp value 15 and the added no is 7\n",
            "isnide the check and temp = 15 and max = 9\n",
            "after reassigning max = 15\n",
            "the j value 4\n",
            "the temp value 23 and the added no is 8\n",
            "isnide the check and temp = 23 and max = 15\n",
            "after reassigning max = 23\n",
            "the i value 1, and temp = 4\n",
            "the j value 2\n",
            "the temp value 3 and the added no is -1\n",
            "the j value 3\n",
            "the temp value 10 and the added no is 7\n",
            "the j value 4\n",
            "the temp value 18 and the added no is 8\n",
            "the i value 2, and temp = -1\n",
            "the j value 3\n",
            "the temp value 6 and the added no is 7\n",
            "the j value 4\n",
            "the temp value 14 and the added no is 8\n",
            "the i value 3, and temp = 7\n",
            "the j value 4\n",
            "the temp value 15 and the added no is 8\n",
            "the i value 4, and temp = 8\n"
          ]
        },
        {
          "output_type": "execute_result",
          "data": {
            "text/plain": [
              "23"
            ]
          },
          "metadata": {},
          "execution_count": 25
        }
      ]
    },
    {
      "cell_type": "markdown",
      "source": [
        "### **OPTIMAL APPROCH**\n",
        "\n",
        "\n",
        "**Intuition** :\n",
        "The intuition of the algorithm is not to consider the subarray as a part of the answer if its sum is less than 0. A subarray with a sum less than 0 will always reduce our answer and so this type of subarray cannot be a part of the subarray with maximum sum.\n",
        "\n",
        "Here, we will iterate the given array with a single loop and while iterating we will add the elements in a sum variable. Now, if at any point the sum becomes less than 0, we will set the sum as 0 as we are not going to consider any subarray with a negative sum. Among all the sums calculated, we will consider the maximum one.\n",
        "\n",
        "Thus we can solve this problem with a single loop.\n",
        "\n",
        "**Approach**:\n",
        "The steps are as follows:\n",
        "\n",
        "We will run a loop(say i) to iterate the given array.\n",
        "Now, while iterating we will add the elements to the sum variable and consider the maximum one.\n",
        "If at any point the sum becomes negative we will set the sum to 0 as we are not going to consider it as a part of our answer.\n",
        "Note: In some cases, the question might say to consider the sum of the empty subarray while solving this problem. So, in these cases, before returning the answer we will compare the maximum subarray sum calculated with 0(i.e. The sum of an empty subarray is 0). And after that, we will return the maximum one.\n",
        "For e.g. if the given array is {-1, -4, -5}, the answer will be 0 instead of -1 in this case.\n",
        "\n",
        "This is applicable to all the approaches discussed above.\n",
        "\n",
        "But if this case is not explicitly mentioned we will not consider this case."
      ],
      "metadata": {
        "id": "OixGw82uuNto"
      }
    },
    {
      "cell_type": "code",
      "source": [
        "def kadan(nums):\n",
        "  sum =0\n",
        "  maxi = -1\n",
        "  for i in range(len(nums)):\n",
        "    sum += nums[i]\n",
        "\n",
        "    if sum>maxi:\n",
        "      maxi = sum\n",
        "    if sum < 0:\n",
        "      sum = 0\n",
        "  print(maxi)\n",
        "\n",
        "\n",
        "\n",
        "nums = [5,4,-1,7,8]\n",
        "kadan(nums)"
      ],
      "metadata": {
        "colab": {
          "base_uri": "https://localhost:8080/"
        },
        "id": "VJxkJ4jUe_L8",
        "outputId": "8cb49232-8b18-4737-d0fa-24f14b7c9172"
      },
      "execution_count": 2,
      "outputs": [
        {
          "output_type": "stream",
          "name": "stdout",
          "text": [
            "23\n"
          ]
        }
      ]
    },
    {
      "cell_type": "markdown",
      "source": [
        "## **KADANS ALGO WITH THE INDEX VALUES**"
      ],
      "metadata": {
        "id": "sVJkKPMw0BZq"
      }
    },
    {
      "cell_type": "code",
      "source": [
        "def kadan(nums):\n",
        "  sum =0\n",
        "  start = 0\n",
        "  maxi = -1\n",
        "  astart,aend = -1,-1\n",
        "  for i in range(len(nums)):\n",
        "    if sum == 0:\n",
        "      start = i\n",
        "    sum += nums[i]\n",
        "\n",
        "    if sum>maxi:\n",
        "      maxi = sum\n",
        "      astart = start\n",
        "      aend = i\n",
        "    if sum < 0:\n",
        "      sum = 0\n",
        "  print(maxi)\n",
        "  for i in range(astart,aend):\n",
        "    print(nums[i])\n",
        "\n",
        "\n",
        "\n",
        "nums = [-2, 1, -3, 4, -1, 2, 1, -5, 4]\n",
        "kadan(nums)"
      ],
      "metadata": {
        "colab": {
          "base_uri": "https://localhost:8080/"
        },
        "id": "Euwmqwa8x974",
        "outputId": "7c93af6b-e6de-42c9-8040-ad40fa0662d9"
      },
      "execution_count": 4,
      "outputs": [
        {
          "output_type": "stream",
          "name": "stdout",
          "text": [
            "6\n",
            "4\n",
            "-1\n",
            "2\n"
          ]
        }
      ]
    },
    {
      "cell_type": "markdown",
      "source": [
        "# **Stock Buy And Sell**\n",
        "**Problem Statement** : You are given an array of prices where prices[i] is the price of a given stock on an ith day.\n",
        "\n",
        "You want to maximize your profit by choosing a single day to buy one stock and choosing a different day in the future to sell that stock. Return the maximum profit you can achieve from this transaction. If you cannot achieve any profit, return 0.\n",
        "\n",
        "Examples\n",
        "```\n",
        "Example 1:\n",
        "\n",
        "Input: prices = [7,1,5,3,6,4]\n",
        "Output: 5\n",
        "Explanation: Buy on day 2 (price = 1) and\n",
        "sell on day 5 (price = 6), profit = 6-1 = 5.\n",
        "\n",
        "Note: That buying on day 2 and selling on day 1\n",
        "is not allowed because you must buy before\n",
        "you sell.\n",
        "\n",
        "Example 2:\n",
        "\n",
        "Input: prices = [7,6,4,3,1]\n",
        "Output: 0\n",
        "Explanation: In this case, no transactions are\n",
        "done and the max profit = 0.\n",
        "```"
      ],
      "metadata": {
        "id": "AB7W62KK1U-l"
      }
    },
    {
      "cell_type": "code",
      "source": [
        "def stock(nums):\n",
        "  small = nums[0]\n",
        "  sindex = 0\n",
        "  mindex =0\n",
        "  maxi = 0\n",
        "  for i in range(len(nums)):\n",
        "    for j in range(i,len(nums)):\n",
        "      if nums[j]-nums[i] >= maxi:\n",
        "        maxi = nums[j]-nums[i]\n",
        "  print(maxi)\n",
        "\n",
        "\n",
        "\n",
        "      # if nums[j]>maxi:\n",
        "      #   maxi = nums[i]\n",
        "      #   mindex = i\n",
        "\n",
        "\n",
        "      # if nums[i]<=small:\n",
        "      #   small = nums[i]\n",
        "      #   sindex = i\n",
        "  # print(f\"max profit = {maxi-small}\")\n",
        "\n",
        "  # print(maxi)\n",
        "  # print(f\"max index {mindex}\")\n",
        "  # print(f\"samll index {sindex}\")\n",
        "  # print(small)\n",
        "\n",
        "\n",
        "\n",
        "\n",
        "nums = [7,6,4,3,1]\n",
        "stock(nums)"
      ],
      "metadata": {
        "colab": {
          "base_uri": "https://localhost:8080/"
        },
        "id": "ItmwWFbv05Bb",
        "outputId": "bd5c1a8d-89e1-4581-dce2-cfcd2fb6d2b7"
      },
      "execution_count": 26,
      "outputs": [
        {
          "output_type": "stream",
          "name": "stdout",
          "text": [
            "0\n"
          ]
        }
      ]
    },
    {
      "cell_type": "markdown",
      "source": [
        "### **OPTIMAL APPROCH**"
      ],
      "metadata": {
        "id": "DmEYJ0cZ9SX7"
      }
    },
    {
      "cell_type": "code",
      "source": [
        "def maxProfit(arr):\n",
        "    maxPro = 0\n",
        "    minPrice = float('inf')\n",
        "    for i in range(len(arr)):\n",
        "        minPrice = min(minPrice, arr[i])\n",
        "        maxPro = max(maxPro, arr[i] - minPrice)\n",
        "    return maxPro\n",
        "\n",
        "\n",
        "nums = [7,6,4,3,1]\n",
        "maxProfit(nums)"
      ],
      "metadata": {
        "colab": {
          "base_uri": "https://localhost:8080/"
        },
        "id": "QgCIw5Mj1id8",
        "outputId": "b30b2f14-eeab-41aa-a549-bbf6753a9595"
      },
      "execution_count": 29,
      "outputs": [
        {
          "output_type": "execute_result",
          "data": {
            "text/plain": [
              "0"
            ]
          },
          "metadata": {},
          "execution_count": 29
        }
      ]
    },
    {
      "cell_type": "code",
      "source": [
        "def maxProfit(prices):\n",
        "    max_profit = 0\n",
        "    min_price = 99999999999999999999999999999\n",
        "    for price in prices:\n",
        "        if min_price>price:\n",
        "            min_price = price\n",
        "        if max_profit<price - min_price:\n",
        "            max_profit = price - min_price\n",
        "    return max_profit\n",
        "\n",
        "\n",
        "nums = [7,6,4,3,1]\n",
        "maxProfit(nums)"
      ],
      "metadata": {
        "colab": {
          "base_uri": "https://localhost:8080/"
        },
        "id": "hjDT_JM39ZXY",
        "outputId": "fa7af702-3a2a-4adc-8fe2-54fc0f846cc3"
      },
      "execution_count": 30,
      "outputs": [
        {
          "output_type": "execute_result",
          "data": {
            "text/plain": [
              "0"
            ]
          },
          "metadata": {},
          "execution_count": 30
        }
      ]
    },
    {
      "cell_type": "code",
      "source": [],
      "metadata": {
        "id": "QJVSFfc--EL3"
      },
      "execution_count": null,
      "outputs": []
    }
  ]
}
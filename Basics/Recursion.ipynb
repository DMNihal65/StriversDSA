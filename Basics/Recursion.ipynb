{
  "nbformat": 4,
  "nbformat_minor": 0,
  "metadata": {
    "colab": {
      "provenance": [],
      "toc_visible": true
    },
    "kernelspec": {
      "name": "python3",
      "display_name": "Python 3"
    },
    "language_info": {
      "name": "python"
    }
  },
  "cells": [
    {
      "cell_type": "markdown",
      "source": [
        "# Introduction to Recursion\n",
        "\n",
        "**Understand Recursion by printing something N times**\n",
        "\n",
        "Pre-requisite: The learner must know how to write a basic function in any language and how to make a function call from the main function.\n",
        "\n",
        "What is Recursion?\n",
        "\n",
        "It is a phenomenon when a function calls itself indefinitely until a specified condition is fulfilled.\n",
        "\n"
      ],
      "metadata": {
        "id": "d7kMKdYhCLiG"
      }
    },
    {
      "cell_type": "code",
      "execution_count": null,
      "metadata": {
        "colab": {
          "base_uri": "https://localhost:8080/"
        },
        "id": "CxXlDJ0EB3jW",
        "outputId": "9171b113-fdfd-4e5e-f055-89295dd37580"
      },
      "outputs": [
        {
          "output_type": "stream",
          "name": "stdout",
          "text": [
            "enter the no of recurrison5\n",
            "This is the time 0 the recurssion is called\n",
            "This is the time 1 the recurssion is called\n",
            "This is the time 2 the recurssion is called\n",
            "This is the time 3 the recurssion is called\n",
            "This is the time 4 the recurssion is called\n"
          ]
        }
      ],
      "source": [
        "def rec(n):\n",
        "  global count\n",
        "  if count==n:\n",
        "    return\n",
        "  print(f\"This is the time {count} the recurssion is called\")\n",
        "  count= count+1\n",
        "  rec(n);\n",
        "count = 0\n",
        "n = int(input(\"enter the no of recurrison\"))\n",
        "rec(n)"
      ]
    },
    {
      "cell_type": "markdown",
      "source": [
        "# **Print Name N times using Recursion**\n",
        "Prerequisite: The learner must know how to write a simple function in any language with parameters.\n",
        "\n",
        "Now, after understanding the basics of recursion, the recursion tree, and the base case of recursion we can solve some basic problems of recursion which would strengthen our concepts and make us understand how recursion functions at its core.\n",
        "\n",
        "**Problem**: Print your Name N times using recursion\n",
        "\n",
        "Since in this problem, there is no count that can be incremented each time we call a function, how can we keep a track of how many times we have printed the name?\n",
        "\n",
        "For this problem, we’re going to be using a function along with parameters in which we can keep track of the number of times we’ve printed something. To understand this problem better, let us see the pseudocode below for this :\n",
        "\n",
        "```\n",
        "int count = 0;\n",
        "void func(){\n",
        "\n",
        "   if(count == 3 ) return;\n",
        "   print(count);\n",
        "   count++;\n",
        "   func();\n",
        "\n",
        "}\n",
        "\n",
        "main()\n",
        "{\n",
        "\n",
        "  print();\n",
        "\n",
        "}\n",
        "\n",
        "```"
      ],
      "metadata": {
        "id": "hBCGoE2RHse9"
      }
    },
    {
      "cell_type": "code",
      "source": [
        "def rec(i,n):\n",
        "  if i>n :\n",
        "    return\n",
        "  print(f\"this is Nihal {i}time\")\n",
        "  i=i+1\n",
        "  rec(i,n)\n",
        "\n",
        "n = int(input(\"Enter the no of times to print\"))\n",
        "rec(1,n)"
      ],
      "metadata": {
        "colab": {
          "base_uri": "https://localhost:8080/"
        },
        "id": "1vaSKfG7HrqP",
        "outputId": "66c96cf1-c1f8-4245-8caf-9ea286af7f84"
      },
      "execution_count": null,
      "outputs": [
        {
          "output_type": "stream",
          "name": "stdout",
          "text": [
            "Enter the no of times to print5\n",
            "this is Nihal 1time\n",
            "this is Nihal 2time\n",
            "this is Nihal 3time\n",
            "this is Nihal 4time\n",
            "this is Nihal 5time\n"
          ]
        }
      ]
    },
    {
      "cell_type": "markdown",
      "source": [
        "# **BACKTRACKING**\n",
        "\n",
        "This is an alternative approach for printing the integers from 1 to N using recursion. In the previous approach, we used forward recursion but in this approach, we will be using backward recursion. The only change from the previous approach here will be that the print line would be kept after the function call inside the recursive function contrary to the previous approach. The function would be called for printing (i-1) integers and the nth integer would be printed.\n",
        "\n",
        "To get a clear understanding of what this approach is like let’s see the pseudocode for this :\n",
        "\n",
        "```\n",
        "void func( i, n )\n",
        "{\n",
        "   if(i<1) return;\n",
        " f( i-1,N );\n",
        "print(i);\n",
        "\n",
        "}\n",
        "main()\n",
        "{\n",
        "  int n;\n",
        "  input(n);\n",
        "  f(n,n);\n",
        "}\n",
        "\n",
        "```\n",
        "\n",
        "We can clearly see in this pseudocode that we first call the function when the value of i is N and then make a call again inside this function for printing (n-1) integers and after this we print N. But, we know that this will go on forever as i will be decreasing continuously after every function call. So, to avoid this we put a base condition that if i is less than n, then simply terminate the current recursive call and return to the previous call.\n",
        "\n",
        "In this way, all the integers from 1 to N would get printed and as soon as i becomes less than n, the function call terminates.\n"
      ],
      "metadata": {
        "id": "lofgk9O-I05v"
      }
    },
    {
      "cell_type": "code",
      "source": [
        "def back(i,n):\n",
        "  if i<1:   #backtrack untill the i value is decreased to 0 so that the base condtion is hit and terminated\n",
        "    return\n",
        "  back(i-1,n)\n",
        "  print(f\"this is Nihal{i} times from back\")\n",
        "\n",
        "n = int(input(\"enter the backtacking no\"))\n",
        "back(n,n)"
      ],
      "metadata": {
        "colab": {
          "base_uri": "https://localhost:8080/"
        },
        "id": "t78MzxgnC4DS",
        "outputId": "098ab4d8-c970-40d1-a0ed-02ddabc8c647"
      },
      "execution_count": null,
      "outputs": [
        {
          "output_type": "stream",
          "name": "stdout",
          "text": [
            "enter the backtacking no4\n",
            "this is Nihal1 times from back\n",
            "this is Nihal2 times from back\n",
            "this is Nihal3 times from back\n",
            "this is Nihal4 times from back\n"
          ]
        }
      ]
    },
    {
      "cell_type": "markdown",
      "source": [
        "# **Sum of first N Natural Numbers**\n",
        "**Problem statement**: Given a number ‘N’, find out the sum of the first N natural numbers.\n",
        "\n",
        "```\n",
        "Examples:\n",
        "\n",
        "Example 1:\n",
        "Input: N=5\n",
        "Output: 15\n",
        "Explanation: 1+2+3+4+5=15\n",
        "\n",
        "Example 2:\n",
        "Input: N=6\n",
        "Output: 21\n",
        "Explanation: 1+2+3+4+5+6=15\n",
        "```"
      ],
      "metadata": {
        "id": "WZeU5mhxKQIE"
      }
    },
    {
      "cell_type": "markdown",
      "source": [
        "**USING LOOPS**"
      ],
      "metadata": {
        "id": "5tSujjPcKe0M"
      }
    },
    {
      "cell_type": "code",
      "source": [
        "def first(n):\n",
        "  sum=0\n",
        "  for i in range(1,n+1):\n",
        "    sum =sum+i\n",
        "  return sum\n",
        "\n",
        "n = int(input(\"enter the number\"))\n",
        "first(n)"
      ],
      "metadata": {
        "colab": {
          "base_uri": "https://localhost:8080/"
        },
        "id": "wHhD00pjJa0y",
        "outputId": "27ffe157-1103-44b9-a296-16c5c7b857e0"
      },
      "execution_count": null,
      "outputs": [
        {
          "name": "stdout",
          "output_type": "stream",
          "text": [
            "enter the number5\n"
          ]
        },
        {
          "output_type": "execute_result",
          "data": {
            "text/plain": [
              "15"
            ]
          },
          "metadata": {},
          "execution_count": 23
        }
      ]
    },
    {
      "cell_type": "markdown",
      "source": [
        "**USING FORMULA**: sum of n natural numbers =  N(N+1)/2"
      ],
      "metadata": {
        "id": "LxjxhuSAMiY3"
      }
    },
    {
      "cell_type": "code",
      "source": [
        "def first(n):\n",
        "  sum = (n*(n+1))/2\n",
        "  return sum\n",
        "\n",
        "n = int(input(\"enter the number\"))\n",
        "first(n)"
      ],
      "metadata": {
        "colab": {
          "base_uri": "https://localhost:8080/"
        },
        "id": "-X76qFtXKxpY",
        "outputId": "c0f71cf4-fbfb-47ee-97c5-06fb96a185e9"
      },
      "execution_count": null,
      "outputs": [
        {
          "name": "stdout",
          "output_type": "stream",
          "text": [
            "enter the number5\n"
          ]
        },
        {
          "output_type": "execute_result",
          "data": {
            "text/plain": [
              "15.0"
            ]
          },
          "metadata": {},
          "execution_count": 24
        }
      ]
    },
    {
      "cell_type": "markdown",
      "source": [
        "# **Recursive way of calculating the sum of first N Natural Numbers:**\n",
        "\n",
        "**Parameterized Way**\n",
        "\n",
        "**Functional Way**\n",
        "\n",
        "\n",
        "1. **Parameterized way**\n",
        "\n",
        "In this approach, instead of using a global variable for calculating the sum, we pass the sum in the parameters of the function each time we add an integer to it during the function call. The sum gets incremented by an ith integer and i get decremented by 1 in each function call. At the end when i becomes less than 1, we simply return the calculated sum until that point.\n",
        "\n",
        "To understand this parameterized approach better, let us have a look at the pseudocode given below:\n",
        "\n",
        "```\n",
        "void func(i,sum)\n",
        "{\n",
        "   if(i<1)\n",
        "   {\n",
        "     print(sum);\n",
        "     return;\n",
        "   }\n",
        "\n",
        "func(i-1,sum+i);\n",
        "\n",
        "}\n",
        "\n",
        "main()\n",
        "{\n",
        "   input(n);\n",
        "   func(n,0);\n",
        "\n",
        "}\n",
        "\n",
        "```"
      ],
      "metadata": {
        "id": "Za7BCPPGM8dU"
      }
    },
    {
      "cell_type": "code",
      "source": [
        "def firstrec(i,sum):\n",
        "  if i<1:\n",
        "    print(sum)\n",
        "    return\n",
        "  firstrec(i-1,sum+i)\n",
        "n = int(input(\"enter the number\"))\n",
        "first(n)"
      ],
      "metadata": {
        "colab": {
          "base_uri": "https://localhost:8080/"
        },
        "id": "Q8oqU1wqM59c",
        "outputId": "c6538b21-864a-4f78-ef0e-6518f9af922f"
      },
      "execution_count": null,
      "outputs": [
        {
          "name": "stdout",
          "output_type": "stream",
          "text": [
            "enter the number5\n"
          ]
        },
        {
          "output_type": "execute_result",
          "data": {
            "text/plain": [
              "15.0"
            ]
          },
          "metadata": {},
          "execution_count": 25
        }
      ]
    },
    {
      "cell_type": "markdown",
      "source": [
        "# **2. Functional way**\n",
        "\n",
        "This approach is a lot simpler than the parameterized recursion. We can visualize the sum of n natural numbers in the following way as shown below:\n",
        "\n",
        "sumOfNaturalNumbers(N) = N + sumOfNaturalNumbers(N-1);\n",
        "The Sum of N natural numbers would just be the Nth integer added to the Sum of (N-1) natural numbers. The base case can be visualized as if n decreases to 0, then we return 0 because the sum of 0 natural numbers is 0 only. Here, we’ve just broken the problem into 2 subparts and the answers of both these subparts would be added and stored in the Sum(n) function which would then be printed at last.\n",
        "\n",
        "To understand this functional approach better, let us have a look at the pseudocode given below:"
      ],
      "metadata": {
        "id": "gxDzp5YsmgTI"
      }
    },
    {
      "cell_type": "code",
      "source": [
        "def func(n):\n",
        "  if n == 0:\n",
        "    return 0\n",
        "  return n + func(n-1)\n",
        "\n",
        "n = int(input(\"enter the number\"))\n",
        "func(n)\n"
      ],
      "metadata": {
        "colab": {
          "base_uri": "https://localhost:8080/"
        },
        "id": "FmKCeitjOWI_",
        "outputId": "98eef7b8-4a3e-4588-909b-134a10a39c36"
      },
      "execution_count": null,
      "outputs": [
        {
          "name": "stdout",
          "output_type": "stream",
          "text": [
            "enter the number4\n"
          ]
        },
        {
          "output_type": "execute_result",
          "data": {
            "text/plain": [
              "10"
            ]
          },
          "metadata": {},
          "execution_count": 2
        }
      ]
    },
    {
      "cell_type": "markdown",
      "source": [
        "# **Factorial of a Number**\n",
        "\n",
        "Iterative and Recursive\n",
        "\n",
        "**Problem Statement**: Given a number X,  print its factorial.\n",
        "\n",
        "To obtain the factorial of a number, it has to be multiplied by all the whole numbers preceding it. More precisely X! = X*(X-1)*(X-2) … 1.\n",
        "\n",
        "Note: X  is always a positive number.\n",
        "\n",
        "```\n",
        "Example 1:\n",
        "Input: X = 5\n",
        "Output: 120\n",
        "Explanation: 5! = 5*4*3*2*1\n",
        "\n",
        "Example 2:\n",
        "Input: X = 3\n",
        "Output: 6\n",
        "Explanation: 3!=3*2*1\n",
        "```"
      ],
      "metadata": {
        "id": "6E49P3qFnU9D"
      }
    },
    {
      "cell_type": "markdown",
      "source": [
        "**ITRATIVE WAY**"
      ],
      "metadata": {
        "id": "M_SrTapbniwp"
      }
    },
    {
      "cell_type": "code",
      "source": [
        "def fact(n):\n",
        "  sum=1\n",
        "  for i in range(1,n+1):\n",
        "    sum = sum*i\n",
        "  return sum\n",
        "\n",
        "n = int(input(\"enter the number\"))\n",
        "fact(n)"
      ],
      "metadata": {
        "colab": {
          "base_uri": "https://localhost:8080/"
        },
        "id": "F384vEv5m_Uv",
        "outputId": "bd484c78-1540-441d-84b5-aee14fe3b926"
      },
      "execution_count": null,
      "outputs": [
        {
          "name": "stdout",
          "output_type": "stream",
          "text": [
            "enter the number6\n"
          ]
        },
        {
          "output_type": "execute_result",
          "data": {
            "text/plain": [
              "720"
            ]
          },
          "metadata": {},
          "execution_count": 6
        }
      ]
    },
    {
      "cell_type": "markdown",
      "source": [
        "**RECURSIVE WAY**\n",
        "\n",
        "Recursive way of calculating the factorial of first N Numbers (functional way):\n",
        "\n",
        "The Factorial of a number N can be calculated by multiplying all the natural numbers till the number N. Through this approach, we can visualize the factorial of n natural numbers in the following way as shown below:\n",
        "\n",
        "factorial(N) = N * factorial(N-1);\n",
        "The Factorial of N natural numbers is the Nth integer multiplied by the Factorial of (N-1) natural numbers. The base case can be visualized as if n decreases to 0, then we return 1 because the factorial of 0 is 1 only. Here, we’ve just broken the problem into 2 subparts and the answers of both would be multiplied together and stored in the factorial(n) function which would then be printed at last.\n",
        "\n",
        "To understand this functional approach better, let us have a look at the pseudocode given below:\n",
        "```\n",
        "int factorial(n)\n",
        "{\n",
        "   if(n == 0)\n",
        "   {\n",
        "     return 1;\n",
        "   }\n",
        "\n",
        "return n * factorial(n-1);\n",
        "\n",
        "}\n",
        "\n",
        "main()\n",
        "{\n",
        "   input(n);\n",
        "   factorial(n);\n",
        "\n",
        "}\n",
        "\n",
        "```"
      ],
      "metadata": {
        "id": "BZoyulzcoDnP"
      }
    },
    {
      "cell_type": "code",
      "source": [
        "def recfact(n):\n",
        "  if n == 0:\n",
        "    return 1\n",
        "  return n * recfact(n-1)\n",
        "\n",
        "n = int(input(\"enter the number\"))\n",
        "recfact(n)"
      ],
      "metadata": {
        "colab": {
          "base_uri": "https://localhost:8080/"
        },
        "id": "zyAbb0J0n46G",
        "outputId": "ee6bf26e-fa3d-40b4-f1b6-34bba48fbc3b"
      },
      "execution_count": null,
      "outputs": [
        {
          "name": "stdout",
          "output_type": "stream",
          "text": [
            "enter the number5\n"
          ]
        },
        {
          "output_type": "execute_result",
          "data": {
            "text/plain": [
              "120"
            ]
          },
          "metadata": {},
          "execution_count": 11
        }
      ]
    },
    {
      "cell_type": "markdown",
      "source": [
        "# **Reverse a given Array**\n",
        "**Problem Statemen**t: You are given an array. The task is to reverse the array and print it.\n",
        "\n",
        "Examples:\n",
        "```\n",
        "Example 1:\n",
        "Input: N = 5, arr[] = {5,4,3,2,1}\n",
        "Output: {1,2,3,4,5}\n",
        "Explanation: Since the order of elements gets reversed the first element will occupy the fifth position, the second element occupies the fourth position and so on.\n",
        "\n",
        "Example 2:\n",
        "Input: N=6 arr[] = {10,20,30,40}\n",
        "Output: {40,30,20,10}\n",
        "Explanation: Since the order of elements gets reversed the first element will occupy the fifth position, the second element occupies the fourth position and so on.\n",
        "```"
      ],
      "metadata": {
        "id": "KV38I4Tvpbl2"
      }
    },
    {
      "cell_type": "markdown",
      "source": [
        "**ITRATIVE METHOD**"
      ],
      "metadata": {
        "id": "DR2FY87XpjRt"
      }
    },
    {
      "cell_type": "code",
      "source": [
        "def revarr(arr):\n",
        "    n = len(arr)\n",
        "    for i in range(n // 2):\n",
        "        temp = arr[i]\n",
        "        arr[i] = arr[n - i - 1]\n",
        "        arr[n - i - 1] = temp\n",
        "    return arr\n",
        "\n",
        "arr = [1, 2, 3, 4, 5]\n",
        "revarr(arr)\n",
        "print(arr)\n"
      ],
      "metadata": {
        "id": "PSIeeAqmotYb",
        "colab": {
          "base_uri": "https://localhost:8080/"
        },
        "outputId": "98f94c3a-684c-495b-f4c0-90ad364c59f9"
      },
      "execution_count": 17,
      "outputs": [
        {
          "output_type": "stream",
          "name": "stdout",
          "text": [
            "[5, 4, 3, 2, 1]\n"
          ]
        }
      ]
    },
    {
      "cell_type": "markdown",
      "source": [
        "# **USING RECURSION**"
      ],
      "metadata": {
        "id": "foRoI0bzq9MF"
      }
    },
    {
      "cell_type": "code",
      "source": [
        "def revrec(arr,start,n):\n",
        "  if start<n:\n",
        "    arr[start],arr[n]=arr[n],arr[start]\n",
        "    revrec(arr,start+1,n-1)\n",
        "  return arr\n",
        "\n",
        "\n",
        "\n",
        "\n",
        "\n",
        "\n",
        "arr = [1,2,3,4,5]\n",
        "start = 0\n",
        "n = len(arr)\n",
        "print(revrec(arr,start,n-1))\n"
      ],
      "metadata": {
        "colab": {
          "base_uri": "https://localhost:8080/"
        },
        "id": "daodQjuVklEp",
        "outputId": "c4f57419-c927-4249-84fb-46c1ac8501d9"
      },
      "execution_count": 19,
      "outputs": [
        {
          "output_type": "stream",
          "name": "stdout",
          "text": [
            "[5, 4, 3, 2, 1]\n"
          ]
        }
      ]
    },
    {
      "cell_type": "markdown",
      "source": [
        "# **Check if the given String is Palindrome or not**\n",
        "**Problem Statement**: “Given a string, check if the string is palindrome or not.”  A string is said to be palindrome if the reverse of the string is the same as the string.\n",
        "\n",
        "Examples:\n",
        "```\n",
        "Example 1:\n",
        "Input: Str =  “ABCDCBA”\n",
        "Output: Palindrome\n",
        "Explanation: String when reversed is the same as string.\n",
        "\n",
        "Example 2:\n",
        "Input: Str = “TAKE U FORWARD”\n",
        "Output: Not Palindrome\n",
        "Explanation: String when reversed is not the same as string.\n",
        "\n",
        "```"
      ],
      "metadata": {
        "id": "VEUFkY87sXrK"
      }
    },
    {
      "cell_type": "markdown",
      "source": [
        "# **USING POINTER**"
      ],
      "metadata": {
        "id": "9vmgizy6sp8O"
      }
    },
    {
      "cell_type": "code",
      "source": [
        "def pal(low):\n",
        "  left =0\n",
        "  right = len(low)-1\n",
        "  while left<right:\n",
        "    if not low[left].isalnum():\n",
        "      left+=1\n",
        "    elif not low[right].isalnum():\n",
        "      right-=1\n",
        "    elif low[left]!=low[right]:\n",
        "      return False\n",
        "    else:\n",
        "      right-=1\n",
        "      left+=1\n",
        "  return True\n",
        "\n",
        "n = input(\"Enter the string\")\n",
        "low = n.lower()\n",
        "\n",
        "if pal(low):\n",
        "  print(\"yes Palandrome\")\n",
        "else:\n",
        "  print(\"Not a palandrome\")"
      ],
      "metadata": {
        "id": "xMNmgep6sXZm",
        "outputId": "93017f0b-911f-4805-838a-38897358816f",
        "colab": {
          "base_uri": "https://localhost:8080/"
        }
      },
      "execution_count": 28,
      "outputs": [
        {
          "output_type": "stream",
          "name": "stdout",
          "text": [
            "Enter the stringgadag\n",
            "yes Palandrome\n"
          ]
        }
      ]
    },
    {
      "cell_type": "markdown",
      "source": [
        "### **USING THE RECURSION**"
      ],
      "metadata": {
        "id": "mBGhZKRnvdg2"
      }
    },
    {
      "cell_type": "code",
      "source": [
        "def pal(low,start,end):\n",
        "  if start>=end:\n",
        "    print(\"yess\")\n",
        "    return True\n",
        "  if low[start]!=low[end]:\n",
        "    print(\"noo\")\n",
        "    return False\n",
        "  return pal(low,start+1,end-1)\n",
        "\n",
        "\n",
        "n = input(\"Enter the string\")\n",
        "low = n.lower()\n",
        "start=0\n",
        "end = len(low)-1\n",
        "if pal(low,start,end):\n",
        "  print(\"yes Palandrome\")\n",
        "else:\n",
        "  print(\"Not a palandrome\")"
      ],
      "metadata": {
        "id": "Zz2XmCgnr5mc",
        "outputId": "cf0929ac-1066-4720-c52d-5de3468eccf8",
        "colab": {
          "base_uri": "https://localhost:8080/"
        }
      },
      "execution_count": 42,
      "outputs": [
        {
          "output_type": "stream",
          "name": "stdout",
          "text": [
            "Enter the stringgadag\n",
            "yess\n",
            "yes Palandrome\n"
          ]
        }
      ]
    },
    {
      "cell_type": "markdown",
      "source": [
        "# **Print Fibonacci Series up to Nth term**\n",
        "**Problem Statement**: Given an integer N. Print the Fibonacci series up to the Nth term.\n",
        "\n",
        "Examples:\n",
        "```\n",
        "Example 1:\n",
        "Input: N = 5\n",
        "Output: 0 1 1 2 3 5\n",
        "Explanation: 0 1 1 2 3 5 is the fibonacci series up to 5th term.(0 based indexing)\n",
        "\n",
        "Example 2:\n",
        "Input: 6\n",
        "\n",
        "Output: 0 1 1 2 3 5 8\n",
        "Explanation: 0 1 1 2 3 5 8 is the fibonacci series upto 6th term.(o based indexing)\n",
        "\n",
        "```"
      ],
      "metadata": {
        "id": "GRSQ4cjczQee"
      }
    },
    {
      "cell_type": "code",
      "source": [
        "def fibonacci(n):\n",
        "    fib_series = [0, 1]\n",
        "\n",
        "    while len(fib_series) < n:\n",
        "        next_num = fib_series[-1] + fib_series[-2]\n",
        "        fib_series.append(next_num)\n",
        "\n",
        "    return fib_series\n",
        "\n",
        "\n",
        "n = 10\n",
        "result = fibonacci(n)\n",
        "print(f\"Fibonacci series up to {n} terms: {result}\")\n"
      ],
      "metadata": {
        "id": "E3uR_g1Ywks8",
        "outputId": "4fd8b0d7-033f-469a-e29c-111bce02caf5",
        "colab": {
          "base_uri": "https://localhost:8080/"
        }
      },
      "execution_count": 46,
      "outputs": [
        {
          "output_type": "stream",
          "name": "stdout",
          "text": [
            "Fibonacci series up to 10 terms: [0, 1, 1, 2, 3, 5, 8, 13, 21, 34]\n"
          ]
        }
      ]
    },
    {
      "cell_type": "markdown",
      "source": [
        "**USING RECURSION**"
      ],
      "metadata": {
        "id": "aixeloFJ5jqE"
      }
    },
    {
      "cell_type": "code",
      "source": [
        "def fibonacci(N):\n",
        "    # Base Condition\n",
        "    if N <= 1:\n",
        "        return N\n",
        "\n",
        "    # Problem broken down into 2 functional calls\n",
        "    # and their results combined and returned.\n",
        "    last = fibonacci(N - 1)\n",
        "    slast = fibonacci(N - 2)\n",
        "\n",
        "    return last + slast\n",
        "\n",
        "\n",
        "N = 4\n",
        "print(fibonacci(N))\n",
        "\n",
        "\n"
      ],
      "metadata": {
        "id": "t_HRbvkP4Pbv",
        "outputId": "5849d40f-b10c-46ff-a900-b8e787fe2511",
        "colab": {
          "base_uri": "https://localhost:8080/"
        }
      },
      "execution_count": 48,
      "outputs": [
        {
          "output_type": "stream",
          "name": "stdout",
          "text": [
            "3\n"
          ]
        }
      ]
    },
    {
      "cell_type": "code",
      "source": [],
      "metadata": {
        "id": "uZLfMwt_5oh1"
      },
      "execution_count": null,
      "outputs": []
    }
  ]
}
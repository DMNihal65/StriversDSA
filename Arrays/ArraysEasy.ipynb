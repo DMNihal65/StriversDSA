{
  "nbformat": 4,
  "nbformat_minor": 0,
  "metadata": {
    "colab": {
      "provenance": []
    },
    "kernelspec": {
      "name": "python3",
      "display_name": "Python 3"
    },
    "language_info": {
      "name": "python"
    }
  },
  "cells": [
    {
      "cell_type": "markdown",
      "source": [
        "# **1) Find the Largest element in an array**\n",
        "**Problem Statement** : Given an array, we have to find the largest element in the array.\n",
        "\n",
        "Examples\n",
        "```\n",
        "Example 1:\n",
        "Input: arr[] = {2,5,1,3,0};\n",
        "Output: 5\n",
        "Explanation: 5 is the largest element in the array.\n",
        "\n",
        "Example2:\n",
        "Input: arr[] = {8,10,5,7,9};\n",
        "Output: 10\n",
        "Explanation: 10 is the largest element in the array.\n",
        "```"
      ],
      "metadata": {
        "id": "jY-viKVLU1FL"
      }
    },
    {
      "cell_type": "code",
      "execution_count": null,
      "metadata": {
        "colab": {
          "base_uri": "https://localhost:8080/"
        },
        "id": "Sog0uq2sUxtA",
        "outputId": "2fa6bb81-a89c-4c12-8f1d-c060ee4b2038"
      },
      "outputs": [
        {
          "output_type": "stream",
          "name": "stdout",
          "text": [
            "enter the input array1 5 3 6 7 8 3\n",
            "['1', '5', '3', '6', '7', '8', '3']\n",
            "[1, 5, 3, 6, 7, 8, 3]\n",
            "the max of the array is 8\n"
          ]
        }
      ],
      "source": [
        "def maxof(arr):\n",
        "  max = 0\n",
        "  for i in range( len(arr)):\n",
        "    if arr[i]>max:\n",
        "      max = arr[i]\n",
        "  return max\n",
        "\n",
        "\n",
        "arr = input(\"enter the input array\")\n",
        "arrnew = arr.split()\n",
        "print(arrnew)\n",
        "\n",
        "# Converting the list of strings to a list of integers\n",
        "array = [int(element) for element in arrnew]\n",
        "print(array)\n",
        "print(f\"the max of the array is {maxof(array)}\")"
      ]
    },
    {
      "cell_type": "markdown",
      "source": [
        "# **Find Second Smallest and Second Largest Element in an array**\n",
        "**Problem Statement** : Given an array, find the second smallest and second largest element in the array. Print ‘-1’ in the event that either of them doesn’t exist.\n",
        "\n",
        "Examples\n",
        "```\n",
        "Example 1:\n",
        "Input: [1,2,4,7,7,5]\n",
        "Output: Second Smallest : 2\n",
        "\tSecond Largest : 5\n",
        "Explanation: The elements are as follows 1,2,3,5,7,7 and hence second largest of these is 5 and second smallest is 2\n",
        "\n",
        "Example 2:\n",
        "Input: [1]\n",
        "Output: Second Smallest : -1\n",
        "\tSecond Largest : -1\n",
        "Explanation: Since there is only one element in the array, it is the largest and smallest element present in the array. There is no second largest or second smallest element present.\n",
        "```"
      ],
      "metadata": {
        "id": "A335FVbPlK3d"
      }
    },
    {
      "cell_type": "code",
      "source": [
        "def maxof(arr):\n",
        "  # Initializing variables to find the maximum and minimum values in the array\n",
        "  max = 0\n",
        "  min = float('inf')\n",
        "  secmin = float('inf')\n",
        "  second = 0\n",
        "  largeindex = 0\n",
        "  minindex = 0\n",
        "\n",
        "  # Finding the maximum and minimum values and their indices\n",
        "  for i in range(len(arr)):\n",
        "    if arr[i] > max:\n",
        "      max = arr[i]\n",
        "      largeindex = i\n",
        "    if arr[i] < min:\n",
        "      min = arr[i]\n",
        "      minindex = i\n",
        "\n",
        "  # Printing the maximum and minimum values along with their indices\n",
        "  print(\"MAX\")\n",
        "  print(max)\n",
        "  print(\"MIN\")\n",
        "  print(min)\n",
        "  print(\"Index of MAX\")\n",
        "  print(largeindex)\n",
        "  print(\"Index of MIN\")\n",
        "  print(minindex)\n",
        "\n",
        "  # Removing the maximum and minimum values from the array using pop\n",
        "  arr.pop(largeindex)\n",
        "  arr.pop(minindex)\n",
        "  print(\"Array after removing MAX and MIN\")\n",
        "  print(arr)\n",
        "\n",
        "  # Finding the second maximum and second minimum values in the modified array\n",
        "  for i in range(len(arr)):\n",
        "    if arr[i] > second:\n",
        "      second = arr[i]\n",
        "      largeindex = i\n",
        "    if arr[i] < secmin:\n",
        "      secmin = arr[i]\n",
        "      minindex = i\n",
        "\n",
        "  # Printing the second maximum and second minimum values\n",
        "  print(\"Second Elem\")\n",
        "  print(second)\n",
        "  print(\"Second small Elem\")\n",
        "  print(secmin)\n",
        "\n",
        "\n",
        "# Taking input array from the user\n",
        "arr = input(\"Enter the input array: \")\n",
        "arrnew = arr.split()\n",
        "print(arrnew)\n",
        "\n",
        "# Converting the list of strings to a list of integers\n",
        "array = [int(element) for element in arrnew]\n",
        "print(\"Converted Array:\")\n",
        "print(array)\n",
        "\n",
        "# Calling the maxof function to find and manipulate the maximum, minimum, second maximum, and second minimum values\n",
        "maxof(array)\n"
      ],
      "metadata": {
        "id": "Jpf5G0dQWZ8C",
        "colab": {
          "base_uri": "https://localhost:8080/"
        },
        "outputId": "86d44db1-1037-4094-edf5-7cc6cec9f92e"
      },
      "execution_count": null,
      "outputs": [
        {
          "output_type": "stream",
          "name": "stdout",
          "text": [
            "Enter the input array: 3 2 1 5 9 4 1\n",
            "['3', '2', '1', '5', '9', '4', '1']\n",
            "Converted Array:\n",
            "[3, 2, 1, 5, 9, 4, 1]\n",
            "MAX\n",
            "9\n",
            "MIN\n",
            "1\n",
            "Index of MAX\n",
            "4\n",
            "Index of MIN\n",
            "2\n",
            "Array after removing MAX and MIN\n",
            "[3, 2, 5, 4, 1]\n",
            "Second Elem\n",
            "5\n",
            "Second small Elem\n",
            "1\n"
          ]
        }
      ]
    },
    {
      "cell_type": "markdown",
      "source": [
        "**OPTIMAL APPROCH**\n",
        "\n",
        "We would require four variables: small,second_small, large, and second_large. Variable small and second_small are initialized to INT_MAX while large and second_large are initialized to INT_MIN.\n",
        "\n",
        "Second Smallest Algo:\n",
        "\n",
        "If the current element is smaller than ‘small’, then we update second_small and small variables\n",
        "Else if the current element is smaller than ‘second_small’ then we update the variable ‘second_small’\n",
        "Once we traverse the entire array, we would find the second smallest element in the variable second_small.\n",
        "Here’s a quick demonstration of the same.\n",
        "Second Largest Algo:\n",
        "\n",
        "If the current element is larger than ‘large’ then update second_large and large variables\n",
        "Else if the current element is larger than ‘second_large’ then we update the variable second_large.\n",
        "Once we traverse the entire array, we would find the second largest element in the variable second_large.\n",
        "Here’s a quick demonstration of the same."
      ],
      "metadata": {
        "id": "EO_0Fbkb15Zj"
      }
    },
    {
      "cell_type": "code",
      "source": [
        "def secondSmallest(arr, n):\n",
        "  # Initialize variables to store the smallest and second smallest values\n",
        "  small = float('inf')\n",
        "  second_small = float('inf')\n",
        "\n",
        "  # Iterate through the array to find the second smallest element\n",
        "  for i in range(n):\n",
        "    if arr[i] < small:\n",
        "      second_small = small\n",
        "      small = arr[i]\n",
        "    else:\n",
        "      # Update second_small if the current element is smaller than second_small but not equal to the smallest\n",
        "      if arr[i] < second_small and arr[i] != small:\n",
        "        second_small = arr[i]\n",
        "\n",
        "  # Return the second smallest element\n",
        "  return second_small\n",
        "\n",
        "def secondLargest(arr, n):\n",
        "  # Initialize variables to store the largest and second largest values\n",
        "  large = float('-inf')\n",
        "  second_large = float('-inf')\n",
        "\n",
        "  # Iterate through the array to find the second largest element\n",
        "  for i in range(n):\n",
        "    if arr[i] > large:\n",
        "      second_large = large\n",
        "      large = arr[i]\n",
        "    else:\n",
        "      # Update second_large if the current element is larger than second_large but not equal to the largest\n",
        "      if arr[i] > second_large and arr[i] != large:\n",
        "        second_large = arr[i]\n",
        "\n",
        "  # Return the second largest element\n",
        "  return second_large\n",
        "\n",
        "# Example usage with an array\n",
        "arr = [1, 2, 4, 7, 7, 5]\n",
        "n = len(arr)\n",
        "\n",
        "# Call the functions to find the second smallest and second largest elements\n",
        "sS = secondSmallest(arr, n)\n",
        "sL = secondLargest(arr, n)\n",
        "\n",
        "# Print the results\n",
        "print(\"Second smallest is\", sS)\n",
        "print(\"Second largest is\", sL)\n"
      ],
      "metadata": {
        "colab": {
          "base_uri": "https://localhost:8080/"
        },
        "id": "7uKBbMpPmhDk",
        "outputId": "eae8c358-38d5-4572-9168-0866d8b5ec04"
      },
      "execution_count": null,
      "outputs": [
        {
          "output_type": "stream",
          "name": "stdout",
          "text": [
            "Second smallest is 2\n",
            "Second largest is 5\n"
          ]
        }
      ]
    },
    {
      "cell_type": "markdown",
      "source": [
        "# **Check if an Array is Sorted**\n",
        "**Problem Statement** : Given an array of size n, write a program to check if the given array is sorted in (ascending / Increasing / Non-decreasing) order or not. If the array is sorted then return True, Else return False.\n",
        "\n",
        "Note: Two consecutive equal values are considered to be sorted.\n",
        "\n",
        "Examples\n",
        "```\n",
        "Example 1:\n",
        "Input: N = 5, array[] = {1,2,3,4,5}\n",
        "Output: True.\n",
        "Explanation: The given array is sorted i.e Every element in the array is smaller than or equals to its next values, So the answer is True.\n",
        "\n",
        "\n",
        "Example 2:\n",
        "Input: N = 5, array[] = {5,4,6,7,8}\n",
        "Output: False.\n",
        "Explanation: The given array is Not sorted i.e Every element in the array is not smaller than or equal to its next values, So the answer is False.\n",
        "\n",
        "Here element 5 is not smaller than or equal to its future elements.\n",
        "```\n",
        "\n"
      ],
      "metadata": {
        "id": "cP7saVrR5SN4"
      }
    },
    {
      "cell_type": "code",
      "source": [
        "def checksort(arr):\n",
        "  length = len(arr)-1\n",
        "  flage = False\n",
        "  for i in range(length):\n",
        "    if arr[i]<=arr[i+1]:\n",
        "      flag = True\n",
        "    else:\n",
        "      flag = False\n",
        "  return flag\n",
        "\n",
        "\n",
        "arr = [1,2,3,4,5,6,7,8]\n",
        "arr2 = [3,2,3,5,7,6,3]\n",
        "\n",
        "if(checksort(arr)):\n",
        "  print(\"Sorted\")\n",
        "else:\n",
        "  print(\"NOT SORTED\")"
      ],
      "metadata": {
        "colab": {
          "base_uri": "https://localhost:8080/"
        },
        "id": "p0iUnfiZ3YHV",
        "outputId": "07c89271-13f5-4924-8336-87fee183e03f"
      },
      "execution_count": null,
      "outputs": [
        {
          "output_type": "stream",
          "name": "stdout",
          "text": [
            "Sorted\n"
          ]
        }
      ]
    },
    {
      "cell_type": "markdown",
      "source": [
        "# **Remove Duplicates in-place from Sorted Array**\n",
        "**Problem Statement** : Given an integer array sorted in non-decreasing order, remove the duplicates in place such that each unique element appears only once. The relative order of the elements should be kept the same.\n",
        "\n",
        "If there are k elements after removing the duplicates, then the first k elements of the array should hold the final result. It does not matter what you leave beyond the first k elements.\n",
        "\n",
        "Note: Return k after placing the final result in the first k slots of the array.\n",
        "\n",
        "Examples\n",
        "```\n",
        "Example 1:\n",
        "\n",
        "Input: arr[1,1,2,2,2,3,3]\n",
        "\n",
        "Output: arr[1,2,3,_,_,_,_]\n",
        "\n",
        "Explanation: Total number of unique elements are 3, i.e[1,2,3] and Therefore return 3 after assigning [1,2,3] in the beginning of the array.\n",
        "\n",
        "Example 2:\n",
        "\n",
        "Input: arr[1,1,1,2,2,3,3,3,3,4,4]\n",
        "\n",
        "Output: arr[1,2,3,4,_,_,_,_,_,_,_]\n",
        "\n",
        "Explanation: Total number of unique elements are 4, i.e[1,2,3,4] and Therefore return 4 after assigning [1,2,3,4] in the beginning of the array.\n",
        "\n",
        "```"
      ],
      "metadata": {
        "id": "IYdMRxDtN6rw"
      }
    },
    {
      "cell_type": "markdown",
      "source": [
        "**USING HASHSET**\n",
        "\n",
        "SET Variable saves only the unique elem"
      ],
      "metadata": {
        "id": "FFAJzzQaOX2j"
      }
    },
    {
      "cell_type": "code",
      "source": [
        "def removedups(arr):\n",
        "  st = set()\n",
        "  for i in range(len(arr)):\n",
        "    st.add(arr[i])\n",
        "  print(st)\n",
        "  le = len(st)\n",
        "  arr1 =[]\n",
        "  for i in st:\n",
        "    arr1.append(i)\n",
        "\n",
        "\n",
        "  print(arr1)\n",
        "\n",
        "\n",
        "\n",
        "arr = [1,1,1,2,2,2,3,3,4,4,4]\n",
        "removedups(arr)"
      ],
      "metadata": {
        "id": "XdToFp1_6SDA",
        "colab": {
          "base_uri": "https://localhost:8080/"
        },
        "outputId": "18ab3c90-48d3-4c22-fde0-1e839cf1d011"
      },
      "execution_count": null,
      "outputs": [
        {
          "output_type": "stream",
          "name": "stdout",
          "text": [
            "{1, 2, 3, 4}\n",
            "[1, 2, 3, 4]\n"
          ]
        }
      ]
    },
    {
      "cell_type": "markdown",
      "source": [
        " **USING LOOP and POINTER**\n",
        "\n",
        " **Intuition**: We can think of using two pointers ‘i’ and ‘j’, we move ‘j’ till we don’t get a number arr[j] which is different from arr[i]. As we got a unique number we will increase the i pointer and update its value by arr[j].\n",
        "\n",
        "**Approach**:\n",
        "Take a variable i as 0;\n",
        "Use a for loop by using a variable ‘j’ from 1 to length of the array.\n",
        "If arr[j] != arr[i], increase ‘i’ and update arr[i] == arr[j].\n",
        " After completion of the loop return i+1, i.e size of the array of unique elements."
      ],
      "metadata": {
        "id": "6E0FNYdvP2N1"
      }
    },
    {
      "cell_type": "code",
      "source": [
        "def removedups(arr):\n",
        "  i = 0\n",
        "  for j in range(len(arr)):\n",
        "    if arr[i]!=arr[j]:\n",
        "      i += 1\n",
        "      arr[i]=arr[j]\n",
        "  return arr[:i+1]\n",
        "\n",
        "arr = [1,1,1,2,2,2,3,3,4,4,4,5,5,5,6,6,6]\n",
        "removedups(arr)"
      ],
      "metadata": {
        "colab": {
          "base_uri": "https://localhost:8080/"
        },
        "id": "Db6FvyobPHuw",
        "outputId": "1330bf0e-97da-48f4-c75a-14461ceb1c57"
      },
      "execution_count": null,
      "outputs": [
        {
          "output_type": "execute_result",
          "data": {
            "text/plain": [
              "[1, 2, 3, 4, 5, 6]"
            ]
          },
          "metadata": {},
          "execution_count": 21
        }
      ]
    },
    {
      "cell_type": "markdown",
      "source": [
        "# **Left Rotate the Array by One**\n",
        "**Problem Statement**: Given an array of N integers, left rotate the array by one place.\n",
        "\n",
        "Examples\n",
        "```\n",
        "Example 1:\n",
        "Input: N = 5, array[] = {1,2,3,4,5}\n",
        "Output: 2,3,4,5,1\n",
        "Explanation:\n",
        "Since all the elements in array will be shifted\n",
        "toward left by one so ‘2’ will now become the\n",
        "first index and and ‘1’ which was present at\n",
        "first index will be shifted at last.\n",
        "\n",
        "\n",
        "Example 2:\n",
        "Input: N = 1, array[] = {3}\n",
        "Output: 3\n",
        "Explanation: Here only element is present and so\n",
        "the element at first index will be shifted to\n",
        "last index which is also by the way the first index.\n",
        "```\n"
      ],
      "metadata": {
        "id": "HugIvtbjb845"
      }
    },
    {
      "cell_type": "markdown",
      "source": [
        " **HARD CODED APPROCH**"
      ],
      "metadata": {
        "id": "ZAmuhcimkqTh"
      }
    },
    {
      "cell_type": "code",
      "source": [
        "def rotate(arr):\n",
        "  temp = []\n",
        "  first = arr[0]\n",
        "  for i in range (len(arr)-1):\n",
        "    arr[i]= arr[i+1]\n",
        "    print(i)\n",
        "    if i == len(arr)-2:\n",
        "      print(\"inside\")\n",
        "      arr.pop(i+1)\n",
        "      arr.append(first)\n",
        "\n",
        "  print(arr)\n",
        "\n",
        "\n",
        "arr = [1,2,3,4,5,6,4,3,1]\n",
        "rotate(arr)"
      ],
      "metadata": {
        "colab": {
          "base_uri": "https://localhost:8080/"
        },
        "id": "h0g3iKITRPl6",
        "outputId": "b653dac8-20a5-4515-8ac9-ca7553756169"
      },
      "execution_count": null,
      "outputs": [
        {
          "output_type": "stream",
          "name": "stdout",
          "text": [
            "0\n",
            "1\n",
            "2\n",
            "3\n",
            "4\n",
            "5\n",
            "6\n",
            "7\n",
            "inside\n",
            "[2, 3, 4, 5, 6, 4, 3, 1, 1]\n"
          ]
        }
      ]
    },
    {
      "cell_type": "code",
      "source": [
        "def solve(arr, n):\n",
        "    temp = arr[0]  # storing the first element of the array in a variable\n",
        "    for i in range(n - 1):\n",
        "        arr[i] = arr[i + 1]\n",
        "    print(arr)\n",
        "    arr[n - 1] = temp  # assign the value of the variable at the last index\n",
        "    for i in range(n):\n",
        "        print(arr[i], end=\" \")\n",
        "\n",
        "n = 5\n",
        "arr = [1, 2, 3, 4, 5]\n",
        "solve(arr, n)"
      ],
      "metadata": {
        "colab": {
          "base_uri": "https://localhost:8080/"
        },
        "id": "QBn15Z4xjNR7",
        "outputId": "cf621285-53f7-4ea2-ba3f-e82d2b6b063d"
      },
      "execution_count": null,
      "outputs": [
        {
          "output_type": "stream",
          "name": "stdout",
          "text": [
            "[2, 3, 4, 5, 5]\n",
            "2 3 4 5 1 "
          ]
        }
      ]
    },
    {
      "cell_type": "markdown",
      "source": [
        "**Given an integer array nums, rotate the array to the right by k steps, where k is non-negative**.\n",
        "\n",
        "\n",
        "\n",
        "Example 1:\n",
        "```\n",
        "\n",
        "Input: nums = [1,2,3,4,5,6,7], k = 3\n",
        "Output: [5,6,7,1,2,3,4]\n",
        "Explanation:\n",
        "rotate 1 steps to the right: [7,1,2,3,4,5,6]\n",
        "rotate 2 steps to the right: [6,7,1,2,3,4,5]\n",
        "rotate 3 steps to the right: [5,6,7,1,2,3,4]\n",
        "Example 2:\n",
        "\n",
        "Input: nums = [-1,-100,3,99], k = 2\n",
        "Output: [3,99,-1,-100]\n",
        "Explanation:\n",
        "rotate 1 steps to the right: [99,-1,-100,3]\n",
        "rotate 2 steps to the right: [3,99,-1,-100]\n",
        "\n",
        "```"
      ],
      "metadata": {
        "id": "DD8_f1w-mrv-"
      }
    },
    {
      "cell_type": "code",
      "source": [
        "def solve(arr, n,k):\n",
        "    arr.reverse()\n",
        "    for i in range(k):\n",
        "      temp = arr[0]  # storing the first element of the array in a variable\n",
        "\n",
        "      for i in range(n - 1):\n",
        "          arr[i] = arr[i + 1]\n",
        "      print(arr)\n",
        "      arr[n - 1] = temp  # assign the value of the variable at the last index\n",
        "\n",
        "\n",
        "n = 5\n",
        "k=3\n",
        "arr = [1, 2, 3, 4, 5]\n",
        "solve(arr, n,k)"
      ],
      "metadata": {
        "colab": {
          "base_uri": "https://localhost:8080/"
        },
        "id": "FwSzFv1_mbLf",
        "outputId": "74749fbc-79d2-4b24-ea15-ded248c94fcf"
      },
      "execution_count": null,
      "outputs": [
        {
          "output_type": "stream",
          "name": "stdout",
          "text": [
            "[4, 3, 2, 1, 1]\n",
            "[3, 2, 1, 5, 5]\n",
            "[2, 1, 5, 4, 4]\n"
          ]
        }
      ]
    },
    {
      "cell_type": "markdown",
      "source": [
        "**RIGHT SHIFT**"
      ],
      "metadata": {
        "id": "lyYfFCfuqu4T"
      }
    },
    {
      "cell_type": "code",
      "source": [
        "def right(nums,k):\n",
        "    k = k% len(nums)-1\n",
        "    rotate(nums,0,len(nums)-1)\n",
        "    rotate(nums,0,k)\n",
        "    rotate(nums,k+1,len(nums)-1)\n",
        "    return nums\n",
        "\n",
        "def rotate(nums,l,r):\n",
        "  while l<r:\n",
        "\n",
        "    nums[l],nums[r]=nums[r],nums[l]\n",
        "\n",
        "    l+=1\n",
        "    r-=1\n",
        "\n",
        "  return nums\n",
        "\n",
        "\n",
        "nums = [1,2,3,4,5,6,7]\n",
        "k=3\n",
        "right(nums,k)"
      ],
      "metadata": {
        "colab": {
          "base_uri": "https://localhost:8080/"
        },
        "id": "nvuTEq7vnUHt",
        "outputId": "1f027c8c-4ba6-4523-8874-8328a101870d"
      },
      "execution_count": null,
      "outputs": [
        {
          "output_type": "execute_result",
          "data": {
            "text/plain": [
              "[5, 6, 7, 1, 2, 3, 4]"
            ]
          },
          "metadata": {},
          "execution_count": 95
        }
      ]
    },
    {
      "cell_type": "markdown",
      "source": [
        "# **Move all Zeros to the end of the array**\n",
        "**In this article we will learn how to solve the most asked coding interview problem: “Move all Zeros to the end of the array”**\n",
        "\n",
        "**Problem Statement**: You are given an array of integers, your task is to move all the zeros in the array to the end of the array and move non-negative integers to the front by maintaining their order.\n",
        "\n",
        "Examples\n",
        "```\n",
        "Example 1:\n",
        "Input: 1 ,0 ,2 ,3 ,0 ,4 ,0 ,1\n",
        "Output: 1 ,2 ,3 ,4 ,1 ,0 ,0 ,0\n",
        "Explanation: All the zeros are moved to the end and non-negative integers are moved to front by maintaining order\n",
        "\n",
        "Example 2:\n",
        "Input: 1,2,0,1,0,4,0\n",
        "Output: 1,2,1,4,0,0,0\n",
        "Explanation: All the zeros are moved to the end and non-negative integers are moved to front by maintaining order\n",
        "\n",
        "```"
      ],
      "metadata": {
        "id": "PomJw_bxiC-_"
      }
    },
    {
      "cell_type": "code",
      "source": [
        "def movezero(arr):\n",
        "  for i in range (len(arr)):\n",
        "    if arr[i]==0:\n",
        "      arr.pop(i)\n",
        "      arr.append(0)\n",
        "  return arr\n",
        "\n",
        "arr = [1 ,0 ,2 ,3 ,0 ,4 ,0 ,1]\n",
        "movezero(arr)"
      ],
      "metadata": {
        "id": "uQID6ob3q0wu",
        "colab": {
          "base_uri": "https://localhost:8080/"
        },
        "outputId": "8b6971ad-bede-4baf-b077-a8ed2b2bb0e0"
      },
      "execution_count": null,
      "outputs": [
        {
          "output_type": "execute_result",
          "data": {
            "text/plain": [
              "[1, 2, 3, 4, 1, 0, 0, 0]"
            ]
          },
          "metadata": {},
          "execution_count": 2
        }
      ]
    },
    {
      "cell_type": "markdown",
      "source": [
        "**OPTIMAL APPROCH**\n",
        "\n",
        "Algorithm:\n",
        "First, using a loop, we will place the pointer j. If we don’t find any 0, we will not perform the following steps.\n",
        "After that, we will point i to index j+1 and start moving the pointer using a loop.\n",
        "While moving the pointer i, we will do the following:\n",
        "If a[i] != 0 i.e. a[i] is a non-zero element: We will swap a[i] and a[j]. Now, the current j is pointing to the non-zero element a[i]. So, we will shift the pointer j by 1 so that it can again point to the first zero.\n",
        "Finally, our array will be set in the right manner."
      ],
      "metadata": {
        "id": "tbwwLNU5s9g0"
      }
    },
    {
      "cell_type": "code",
      "source": [
        "def movezero(arr):\n",
        "  j=-1\n",
        "  for k in range(len(arr)):\n",
        "    if arr[k]==0:\n",
        "      j=k\n",
        "      break\n",
        "\n",
        "  for i in range(j+1,len(arr)):\n",
        "    if arr[i]!=0:\n",
        "      arr[j],arr[i]=arr[i],arr[j]\n",
        "      j+=1\n",
        "  print(arr)\n",
        "\n",
        "\n",
        "\n",
        "arr = [1 ,0 ,2 ,3 ,0 ,4 ,0 ,1]\n",
        "movezero(arr)"
      ],
      "metadata": {
        "colab": {
          "base_uri": "https://localhost:8080/"
        },
        "id": "uW_t3vqOj53f",
        "outputId": "9007fe4d-12b3-4e8a-c985-d7fa9a9f73b9"
      },
      "execution_count": null,
      "outputs": [
        {
          "output_type": "stream",
          "name": "stdout",
          "text": [
            "[1, 2, 3, 4, 1, 0, 0, 0]\n"
          ]
        }
      ]
    },
    {
      "cell_type": "markdown",
      "source": [
        "#**Linear Search**\n",
        "\n",
        "**Problem Statement**: Given an array, and an element num the task is to find if num is present in the given array or not. If present print the index of the element or print -1.\n",
        "\n",
        "Examples:\n",
        "```\n",
        "\n",
        "Example 1:\n",
        "Input: arr[]= 1 2 3 4 5, num = 3\n",
        "Output: 2\n",
        "Explanation: 3 is present in the 2nd index\n",
        "\n",
        "Example 2:\n",
        "Input: arr[]= 5 4 3 2 1, num = 5\n",
        "Output: 0\n",
        "Explanation: 5 is present in the 0th index\n",
        "```"
      ],
      "metadata": {
        "id": "o3N7-NgxxmuH"
      }
    },
    {
      "cell_type": "code",
      "source": [
        "def linearSearch(nums,key):\n",
        "  if len(nums)==0:\n",
        "    return -1\n",
        "  for i in range(len(nums)):\n",
        "    if nums[i]==key:\n",
        "      return i\n",
        "\n",
        "\n",
        "nums =[1,2,3,4,5]\n",
        "key =3\n",
        "linearSearch(nums,key)"
      ],
      "metadata": {
        "colab": {
          "base_uri": "https://localhost:8080/"
        },
        "id": "NUkJyVTdtcd9",
        "outputId": "1633ea38-c118-4183-b95e-c63c29d3fc78"
      },
      "execution_count": null,
      "outputs": [
        {
          "output_type": "execute_result",
          "data": {
            "text/plain": [
              "2"
            ]
          },
          "metadata": {},
          "execution_count": 5
        }
      ]
    },
    {
      "cell_type": "markdown",
      "source": [
        "# **Union of Two Sorted Arrays**\n",
        "**Problem Statement**: Given two sorted arrays, arr1, and arr2 of size n and m. Find the union of two sorted arrays.\n",
        "\n",
        "The union of two arrays can be defined as the common and distinct elements in the two arrays.NOTE: Elements in the union should be in ascending order.\n",
        "\n",
        "Examples\n",
        "```\n",
        "Example 1:\n",
        "Input:\n",
        "n = 5,m = 5.\n",
        "arr1[] = {1,2,3,4,5}  \n",
        "arr2[] = {2,3,4,4,5}\n",
        "Output:\n",
        " {1,2,3,4,5}\n",
        "\n",
        "Explanation:\n",
        "Common Elements in arr1 and arr2  are:  2,3,4,5\n",
        "Distnict Elements in arr1 are : 1\n",
        "Distnict Elemennts in arr2 are : No distinct elements.\n",
        "Union of arr1 and arr2 is {1,2,3,4,5}\n",
        "\n",
        "Example 2:\n",
        "Input:\n",
        "n = 10,m = 7.\n",
        "arr1[] = {1,2,3,4,5,6,7,8,9,10}\n",
        "arr2[] = {2,3,4,4,5,11,12}\n",
        "Output: {1,2,3,4,5,6,7,8,9,10,11,12}\n",
        "Explanation:\n",
        "Common Elements in arr1 and arr2  are:  2,3,4,5\n",
        "Distnict Elements in arr1 are : 1,6,7,8,9,10\n",
        "Distnict Elemennts in arr2 are : 11,12\n",
        "Union of arr1 and arr2 is {1,2,3,4,5,6,7,8,9,10,11,12}\n",
        "```"
      ],
      "metadata": {
        "id": "Rzi1HFg3yy2v"
      }
    },
    {
      "cell_type": "code",
      "source": [
        "def findUni(arr1,arr2):\n",
        "  freq = {}\n",
        "  union = []\n",
        "\n",
        "  for num in arr1:\n",
        "      freq[num] = freq.get(num, 0) + 1\n",
        "\n",
        "  for num in arr2:\n",
        "      freq[num] = freq.get(num, 0) + 1\n",
        "\n",
        "  for num in freq:\n",
        "      union.append(num)\n",
        "\n",
        "  return union\n",
        "\n",
        "\n",
        "\n",
        "arr1 = [1,2,3,4,5,6,7,8,9,10]\n",
        "arr2 = [1,2,3,4,5,6,7,8,9,10,11,12]\n",
        "findUni(arr1,arr2)"
      ],
      "metadata": {
        "colab": {
          "base_uri": "https://localhost:8080/"
        },
        "id": "Ysv_z0NAyoWn",
        "outputId": "3332852b-3d31-4eed-dfc4-a0dc39b279c4"
      },
      "execution_count": null,
      "outputs": [
        {
          "output_type": "execute_result",
          "data": {
            "text/plain": [
              "[1, 2, 3, 4, 5, 6, 7, 8, 9, 10, 11, 12]"
            ]
          },
          "metadata": {},
          "execution_count": 14
        }
      ]
    },
    {
      "cell_type": "code",
      "source": [
        "def findUni(arr1,arr2):\n",
        "  uni1 = set(arr1)\n",
        "  unionarr1 = []\n",
        "  for x in uni1:\n",
        "    unionarr1.append(x)\n",
        "  print(unionarr1)\n",
        "\n",
        "  uni2 = set(arr2)\n",
        "  unionarr2 = []\n",
        "  for x in uni2:\n",
        "    unionarr2.append(x)\n",
        "  print(unionarr2)\n",
        "\n",
        "  unionarr = unionarr1+unionarr2\n",
        "  final = set(unionarr)\n",
        "  print(final)\n",
        "\n",
        "\n",
        "arr1 = [1,2,3,4,5,6,7,8,9,10]\n",
        "arr2 = [1,2,3,4,5,6,7,8,9,10,11,12]\n",
        "findUni(arr1,arr2)"
      ],
      "metadata": {
        "colab": {
          "base_uri": "https://localhost:8080/"
        },
        "id": "4Q5V1ZKv3Nub",
        "outputId": "c18c34cb-d1fc-4651-a354-eaff0083769b"
      },
      "execution_count": null,
      "outputs": [
        {
          "output_type": "stream",
          "name": "stdout",
          "text": [
            "[1, 2, 3, 4, 5, 6, 7, 8, 9, 10]\n",
            "[1, 2, 3, 4, 5, 6, 7, 8, 9, 10, 11, 12]\n",
            "{1, 2, 3, 4, 5, 6, 7, 8, 9, 10, 11, 12}\n"
          ]
        }
      ]
    },
    {
      "cell_type": "markdown",
      "source": [
        "# **Find the missing number in an array**\n",
        "**Problem Statement** : Given an integer N and an array of size N-1 containing N-1 numbers between 1 to N. Find the number(between 1 to N), that is not present in the given array.\n",
        "\n",
        "Examples\n",
        "```\n",
        "Example 1:\n",
        "Input Format: N = 5, array[] = {1,2,4,5}\n",
        "Result: 3\n",
        "Explanation: In the given array, number 3 is missing. So, 3 is the answer.\n",
        "\n",
        "Example 2:\n",
        "Input Format: N = 3, array[] = {1,3}\n",
        "Result: 2\n",
        "Explanation: In the given array, number 2 is missing. So, 2 is the answer.\n",
        "```"
      ],
      "metadata": {
        "id": "7hlnhJHSCUZB"
      }
    },
    {
      "cell_type": "code",
      "source": [
        "def findMissing(nums,k):\n",
        "  sumofarr = 0\n",
        "  actual =0\n",
        "  for i in range(len(nums)):\n",
        "    sumofarr =sumofarr + nums[i]\n",
        "  print(sumofarr)\n",
        "  for i in range(k+1):\n",
        "    actual =actual + i\n",
        "  print(actual)\n",
        "  missing = actual-sumofarr\n",
        "\n",
        "  return missing\n",
        "nums = [1,2,4,5]\n",
        "k=5\n",
        "findMissing(nums,k)"
      ],
      "metadata": {
        "colab": {
          "base_uri": "https://localhost:8080/"
        },
        "id": "N-aIiMAP7yTF",
        "outputId": "2f706f63-df73-4b84-9fce-818ef5fedbb8"
      },
      "execution_count": null,
      "outputs": [
        {
          "output_type": "stream",
          "name": "stdout",
          "text": [
            "12\n",
            "15\n"
          ]
        },
        {
          "output_type": "execute_result",
          "data": {
            "text/plain": [
              "3"
            ]
          },
          "metadata": {},
          "execution_count": 37
        }
      ]
    },
    {
      "cell_type": "markdown",
      "source": [
        "**Given an array nums containing n distinct numbers in the range [0, n], return the only number in the range that is missing from the array.**\n",
        "\n",
        "\n",
        "\n",
        "Example 1:\n",
        "```\n",
        "\n",
        "Input: nums = [3,0,1]\n",
        "Output: 2\n",
        "Explanation: n = 3 since there are 3 numbers, so all numbers are in the range [0,3]. 2 is the missing number in the range since it does not appear in nums.\n",
        "Example 2:\n",
        "\n",
        "Input: nums = [0,1]\n",
        "Output: 2\n",
        "Explanation: n = 2 since there are 2 numbers, so all numbers are in the range [0,2]. 2 is the missing number in the range since it does not appear in nums.\n",
        "Example 3:\n",
        "\n",
        "Input: nums = [9,6,4,2,3,5,7,0,1]\n",
        "Output: 8\n",
        "Explanation: n = 9 since there are 9 numbers, so all numbers are in the range [0,9]. 8 is the missing number in the range since it does not appear in nums.\n",
        "\n",
        "\n",
        "Constraints:\n",
        "\n",
        "n == nums.length\n",
        "1 <= n <= 104\n",
        "0 <= nums[i] <= n\n",
        "All the numbers of nums are unique.\n",
        " ```"
      ],
      "metadata": {
        "id": "kSYOjiItJbtQ"
      }
    },
    {
      "cell_type": "code",
      "source": [
        "def findMissing(nums):\n",
        "        sumofarr = 0\n",
        "        maxi = len(nums)\n",
        "        actual = 0\n",
        "        for i in range(maxi):\n",
        "            sumofarr =sumofarr + nums[i]\n",
        "\n",
        "        for i in range(1,maxi+1):\n",
        "            actual =actual + i\n",
        "\n",
        "        missing = actual-sumofarr\n",
        "\n",
        "        return missing\n",
        "nums = [0,1]\n",
        "k=5\n",
        "findMissing(nums)"
      ],
      "metadata": {
        "colab": {
          "base_uri": "https://localhost:8080/"
        },
        "id": "zNoA3-MoD782",
        "outputId": "b4a11d05-88c0-4e49-db0a-a9655d8575da"
      },
      "execution_count": null,
      "outputs": [
        {
          "output_type": "execute_result",
          "data": {
            "text/plain": [
              "2"
            ]
          },
          "metadata": {},
          "execution_count": 55
        }
      ]
    },
    {
      "cell_type": "markdown",
      "source": [
        "# **Count Maximum Consecutive One’s in the array**\n",
        "\n",
        "**Problem Statement** : Given an array that contains only 1 and 0 return the count of maximum consecutive ones in the array.\n",
        "\n",
        "Examples:\n",
        "```\n",
        "Example 1:\n",
        "\n",
        "Input: prices = {1, 1, 0, 1, 1, 1}\n",
        "\n",
        "Output: 3\n",
        "\n",
        "Explanation: There are two consecutive 1’s and three consecutive 1’s in the array out of which maximum is 3.\n",
        "\n",
        "Input: prices = {1, 0, 1, 1, 0, 1}\n",
        "\n",
        "Output: 2\n",
        "\n",
        "Explanation: There are two consecutive 1's in the array.\n",
        "```"
      ],
      "metadata": {
        "id": "nSJ31g06mgwb"
      }
    },
    {
      "cell_type": "code",
      "source": [
        "def maxones(nums):\n",
        "  max_count =0\n",
        "  count=0\n",
        "  for i in range(len(nums)):\n",
        "    if nums[i]== 1:\n",
        "      count+=1\n",
        "      if count>max_count:\n",
        "        max_count=count\n",
        "    else:\n",
        "      count = 0\n",
        "\n",
        "  print(count)\n",
        "  print(max_count)\n",
        "\n",
        "\n",
        "\n",
        "\n",
        "\n",
        "\n",
        "nums =[1,1,0,1,1,1]\n",
        "maxones(nums)"
      ],
      "metadata": {
        "id": "j5qMdae2E6zB",
        "colab": {
          "base_uri": "https://localhost:8080/"
        },
        "outputId": "03c3711f-c3bb-4500-e58a-17c4925299e8"
      },
      "execution_count": null,
      "outputs": [
        {
          "output_type": "stream",
          "name": "stdout",
          "text": [
            "3\n",
            "3\n"
          ]
        }
      ]
    },
    {
      "cell_type": "markdown",
      "source": [
        "# **Find the number that appears once, and the other numbers twice**\n",
        "**Problem Statement** : Given a non-empty array of integers arr, every element appears twice except for one. Find that single one.\n",
        "\n",
        "Examples\n",
        "```\n",
        "Example 1:\n",
        "Input Format: arr[] = {2,2,1}\n",
        "Result: 1\n",
        "Explanation: In this array, only the element 1 appear once and so it is the answer.\n",
        "\n",
        "Example 2:\n",
        "Input Format: arr[] = {4,1,2,1,2}\n",
        "Result: 4\n",
        "Explanation: In this array, only element 4 appear once and the other elements appear twice. So, 4 is the answer.\n",
        "```"
      ],
      "metadata": {
        "id": "UtTEdwA5GiYe"
      }
    },
    {
      "cell_type": "markdown",
      "source": [
        "### **MY APPROCH**"
      ],
      "metadata": {
        "id": "NJLfzDKoKZac"
      }
    },
    {
      "cell_type": "code",
      "source": [
        "def ones(nums):\n",
        "  freq = {}\n",
        "  ones = 0\n",
        "  for var in nums:\n",
        "    if var in freq :\n",
        "      freq[var]+=1\n",
        "    else:\n",
        "      freq[var]=1\n",
        "  print(freq)\n",
        "  for index,value in freq.items():\n",
        "    print(f\"index{index},value{value}\")\n",
        "    if value == 1:\n",
        "      count = index\n",
        "  print(count)\n",
        "\n",
        "nums = [4,1,2,1,2]\n",
        "ones(nums)"
      ],
      "metadata": {
        "colab": {
          "base_uri": "https://localhost:8080/"
        },
        "id": "cECdPCjHrO0C",
        "outputId": "c830951c-1fc4-4b26-ba87-66028df3aa8f"
      },
      "execution_count": null,
      "outputs": [
        {
          "output_type": "stream",
          "name": "stdout",
          "text": [
            "{4: 1, 1: 2, 2: 2}\n",
            "index4,value1\n",
            "index1,value2\n",
            "index2,value2\n",
            "4\n"
          ]
        }
      ]
    },
    {
      "cell_type": "markdown",
      "source": [
        "**Brute Force Using 2 loops**"
      ],
      "metadata": {
        "id": "ZVTkdndVKYK6"
      }
    },
    {
      "cell_type": "code",
      "source": [
        "def ones(nums):\n",
        "  for i in range(len(nums)):\n",
        "    count = 0\n",
        "    for j in range(len(nums)):\n",
        "      if nums[i]==nums[j]:\n",
        "        count +=1\n",
        "    if count==1:\n",
        "      return nums[i]\n",
        "\n",
        "\n",
        "nums = [2,2,1]\n",
        "ones(nums)"
      ],
      "metadata": {
        "colab": {
          "base_uri": "https://localhost:8080/"
        },
        "id": "v8IFbTbNG6Hf",
        "outputId": "98f2817f-ac3a-4c56-fa36-cc75519a38de"
      },
      "execution_count": null,
      "outputs": [
        {
          "output_type": "execute_result",
          "data": {
            "text/plain": [
              "1"
            ]
          },
          "metadata": {},
          "execution_count": 38
        }
      ]
    },
    {
      "cell_type": "markdown",
      "source": [
        "## **OPTIMAL APPROCH**\n",
        "**Optimal Approach(Using XOR):**\n",
        "Intuition:\n",
        "Two important properties of XOR are the following:\n",
        "\n",
        "XOR of two same numbers is always 0 i.e. a ^ a = 0. ←Property 1.\n",
        "XOR of a number with 0 will result in the number itself i.e. 0 ^ a = a.  ←Property 2\n",
        "\n",
        "Here all the numbers except the single number appear twice and so will form a pair. Now, if we perform XOR of all elements of the array, the XOR of each pair will result in 0 according to the XOR property 1. The result will be = 0 ^ (single number) = single number (according to property 2).\n",
        "\n",
        "So, if we perform the XOR of all the numbers of the array elements, we will be left with a single number.\n",
        "\n",
        "Approach:\n",
        "We will just perform the XOR of all elements of the array using a loop and the final XOR will be the answer."
      ],
      "metadata": {
        "id": "i6Sr357qQ0Xc"
      }
    },
    {
      "cell_type": "code",
      "source": [
        "def ones(nums):\n",
        "  xor = 0\n",
        "  for i in range(len(nums)):\n",
        "    xor ^= nums[i]\n",
        "  return xor\n",
        "\n",
        "\n",
        "nums = [2,2,1]\n",
        "ones(nums)"
      ],
      "metadata": {
        "colab": {
          "base_uri": "https://localhost:8080/"
        },
        "id": "IFWG5jeILbQp",
        "outputId": "294fdaa5-0e5a-41d9-c847-b67ab7633712"
      },
      "execution_count": null,
      "outputs": [
        {
          "output_type": "execute_result",
          "data": {
            "text/plain": [
              "1"
            ]
          },
          "metadata": {},
          "execution_count": 40
        }
      ]
    },
    {
      "cell_type": "markdown",
      "source": [
        "# **Longest Subarray with given Sum K(Positives)**\n",
        "**Problem Statement** : Given an array and a sum k, we need to print the length of the longest subarray that sums to k.\n",
        "\n",
        "Examples\n",
        "```\n",
        "Example 1:\n",
        "Input Format: N = 3, k = 5, array[] = {2,3,5}\n",
        "Result: 2\n",
        "Explanation: The longest subarray with sum 5 is {2, 3}. And its length is 2.\n",
        "\n",
        "Example 2:\n",
        "Input Format: N = 5, k = 10, array[] = {2,3,5,1,9}\n",
        "Result: 3\n",
        "Explanation: The longest subarray with sum 10 is {2, 3, 5}. And its length is 3.\n",
        "```"
      ],
      "metadata": {
        "id": "L-p-zJT6R0V7"
      }
    },
    {
      "cell_type": "code",
      "source": [
        "def longarr(nums,k):\n",
        "  maxi = 0\n",
        "  temp = 0\n",
        "  index = 0\n",
        "  tempidex=0\n",
        "  for i in range(len(nums)):\n",
        "    temp = nums[i]\n",
        "    for j in range(i+1,len(nums)):\n",
        "        temp += nums[j]\n",
        "        if temp == k:\n",
        "          maxi= max(maxi,j-i+1)\n",
        "  print(maxi)\n",
        "\n",
        "\n",
        "\n",
        "        # tempidex = i+j+1\n",
        "  #       print(f\"tempidex{tempidex,i,j} and temp{temp}\")\n",
        "\n",
        "  #       if temp == k and tempidex>maxi:\n",
        "  #         print(f\"insde the if temp {temp} and max{maxi}and tempindex{tempidex}\")\n",
        "  #         maxi = i+j+1\n",
        "  #         temp = 0\n",
        "  #         break\n",
        "  # print(maxi)\n",
        "\n",
        "\n",
        "\n",
        "nums = [-1, 1, 1]\n",
        "k=1\n",
        "longarr(nums,k)"
      ],
      "metadata": {
        "id": "AWBWM4NQQ_O6",
        "colab": {
          "base_uri": "https://localhost:8080/"
        },
        "outputId": "7336ae02-6a43-4331-f97a-a93d534e045c"
      },
      "execution_count": 22,
      "outputs": [
        {
          "output_type": "stream",
          "name": "stdout",
          "text": [
            "3\n"
          ]
        }
      ]
    },
    {
      "cell_type": "markdown",
      "source": [
        "STILL 2 Approches Are Remaning - Hash,2 pointer"
      ],
      "metadata": {
        "id": "PL7UPytpxCDc"
      }
    },
    {
      "cell_type": "markdown",
      "source": [],
      "metadata": {
        "id": "92At2vrcx1GO"
      }
    },
    {
      "cell_type": "code",
      "source": [],
      "metadata": {
        "id": "VIOQc5U3lHXz"
      },
      "execution_count": null,
      "outputs": []
    }
  ]
}